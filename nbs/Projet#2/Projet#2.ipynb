{
 "cells": [
  {
   "cell_type": "code",
   "execution_count": 1,
   "id": "3c67535d",
   "metadata": {},
   "outputs": [],
   "source": [
    "%reload_ext autoreload\n",
    "%autoreload 2\n",
    "%matplotlib inline"
   ]
  },
  {
   "cell_type": "markdown",
   "id": "eee8392b",
   "metadata": {},
   "source": [
    "### NB: ---Nous avons constaté qu'avec la recherche par grille tout comme aléatoire, le score pour l'ensemble des données d'entrainement, est presque parfait quelque soit la métrique que nous choisissons pour le modèle KNeighborsClassifier. Raison pour laquelle nous avons décidé de  comparer nos différents modèles sur le best score retournés par la recherche aléatoire /grille, car celui n'est pas affecté par ce problème. Ce pourrait être un bug lié à scikit learn et notre environnement de travail, car d'autres étudiants n'ont pas eu ce problème (Nous travaillons avec l'image docker du cours et avec docker desktop). Nous examinerons d'avantage ce problème plus tard ---"
   ]
  },
  {
   "cell_type": "markdown",
   "id": "d90338f4",
   "metadata": {},
   "source": [
    "# Bibilothèques"
   ]
  },
  {
   "cell_type": "code",
   "execution_count": 212,
   "id": "eab59be0",
   "metadata": {},
   "outputs": [],
   "source": [
    "import numpy as np\n",
    "import pandas as pd\n",
    "import seaborn as sns\n",
    "#from sklearn.utils.fixes import loguniform\n",
    "from sklearn.model_selection import StratifiedKFold\n",
    "from sklearn.preprocessing import StandardScaler\n",
    "from scipy.stats import randint\n",
    "from scipy.stats import loguniform\n",
    "from sklearn.model_selection import train_test_split\n",
    "from sklearn.dummy import DummyClassifier\n",
    "from sklearn.metrics import roc_auc_score\n",
    "from sklearn.metrics import roc_curve\n",
    "from sklearn.metrics import log_loss\n",
    "import matplotlib.pyplot as plt\n",
    "from sklearn.model_selection import RandomizedSearchCV\n",
    "from sklearn.model_selection import GridSearchCV\n",
    "from sklearn.linear_model import LogisticRegression\n",
    "from sklearn.neighbors import KNeighborsClassifier\n",
    "from sklearn.tree import DecisionTreeClassifier"
   ]
  },
  {
   "cell_type": "code",
   "execution_count": 56,
   "id": "d04fc9ce",
   "metadata": {},
   "outputs": [],
   "source": [
    "# fonction pour afficher plusieurs courbe ROC sur une même figure\n",
    "def plot_roc_curve(y_train, results):\n",
    "    plt.figure().clear()\n",
    "    for key in results:\n",
    "        fpr, tpr, thresholds = roc_curve(y_train, results[key], drop_intermediate=False)\n",
    "        auc = roc_auc_score(y_train, results[key])\n",
    "        plt.plot(fpr, tpr, label = key +', auc = '+str(auc))\n",
    "    plt.legend(loc=4)        "
   ]
  },
  {
   "cell_type": "code",
   "execution_count": 191,
   "id": "df77e575",
   "metadata": {},
   "outputs": [],
   "source": [
    "# fonction pour afficher plusieurs diagrammes à baton afin de comparer visuellement les scores log loss\n",
    "def addlabels(x,y):\n",
    "    for key in results:\n",
    "        plt.text(key, results[key], round(results[key],2), ha = 'center')\n",
    "\n",
    "def plot_log_loss_bar(results):\n",
    "    x = np.arange(len(results))\n",
    "    plt.bar(results.keys(), results.values(), width=0.1)\n",
    "    plt.xticks(rotation=45)\n",
    "    plt.ylabel('Log los')\n",
    "    plt.title('Score log loss pour chaque modèle')\n",
    "    plt.xlabel('Modèles')\n",
    "    addlabels(results.keys(),results.values())\n",
    "    plt.show()"
   ]
  },
  {
   "cell_type": "markdown",
   "id": "1f384613",
   "metadata": {},
   "source": [
    "# Lecture et exploration des données"
   ]
  },
  {
   "cell_type": "code",
   "execution_count": 4,
   "id": "07cb090f",
   "metadata": {},
   "outputs": [],
   "source": [
    "donnees = pd.read_csv('../../data/chansons.csv')"
   ]
  },
  {
   "cell_type": "code",
   "execution_count": 5,
   "id": "b6eb8e96",
   "metadata": {},
   "outputs": [
    {
     "data": {
      "text/plain": [
       "(7574, 39)"
      ]
     },
     "execution_count": 5,
     "metadata": {},
     "output_type": "execute_result"
    }
   ],
   "source": [
    "# Tailles du jeux de données\n",
    "donnees.shape"
   ]
  },
  {
   "cell_type": "code",
   "execution_count": 6,
   "id": "c98b3608",
   "metadata": {},
   "outputs": [
    {
     "data": {
      "text/html": [
       "<div>\n",
       "<style scoped>\n",
       "    .dataframe tbody tr th:only-of-type {\n",
       "        vertical-align: middle;\n",
       "    }\n",
       "\n",
       "    .dataframe tbody tr th {\n",
       "        vertical-align: top;\n",
       "    }\n",
       "\n",
       "    .dataframe thead th {\n",
       "        text-align: right;\n",
       "    }\n",
       "</style>\n",
       "<table border=\"1\" class=\"dataframe\">\n",
       "  <thead>\n",
       "    <tr style=\"text-align: right;\">\n",
       "      <th></th>\n",
       "      <th>annee</th>\n",
       "      <th>titre</th>\n",
       "      <th>artiste</th>\n",
       "      <th>chansonID</th>\n",
       "      <th>artisteID</th>\n",
       "      <th>signature_temp</th>\n",
       "      <th>signature_temp_confiance</th>\n",
       "      <th>intensite</th>\n",
       "      <th>tempo</th>\n",
       "      <th>tempo_confiance</th>\n",
       "      <th>...</th>\n",
       "      <th>timbre_7_max</th>\n",
       "      <th>timbre_8_min</th>\n",
       "      <th>timbre_8_max</th>\n",
       "      <th>timbre_9_min</th>\n",
       "      <th>timbre_9_max</th>\n",
       "      <th>timbre_10_min</th>\n",
       "      <th>timbre_10_max</th>\n",
       "      <th>timbre_11_min</th>\n",
       "      <th>timbre_11_max</th>\n",
       "      <th>Top10</th>\n",
       "    </tr>\n",
       "  </thead>\n",
       "  <tbody>\n",
       "    <tr>\n",
       "      <th>0</th>\n",
       "      <td>2010</td>\n",
       "      <td>This Is the House That Doubt Built</td>\n",
       "      <td>A Day to Remember</td>\n",
       "      <td>SOBGGAB12C5664F054</td>\n",
       "      <td>AROBSHL1187B9AFB01</td>\n",
       "      <td>3</td>\n",
       "      <td>0.853</td>\n",
       "      <td>-4.262</td>\n",
       "      <td>91.525</td>\n",
       "      <td>0.953</td>\n",
       "      <td>...</td>\n",
       "      <td>82.475</td>\n",
       "      <td>-52.025</td>\n",
       "      <td>39.116</td>\n",
       "      <td>-35.368</td>\n",
       "      <td>71.642</td>\n",
       "      <td>-126.440</td>\n",
       "      <td>18.658</td>\n",
       "      <td>-44.770</td>\n",
       "      <td>25.989</td>\n",
       "      <td>0</td>\n",
       "    </tr>\n",
       "    <tr>\n",
       "      <th>1</th>\n",
       "      <td>2010</td>\n",
       "      <td>Sticks &amp; Bricks</td>\n",
       "      <td>A Day to Remember</td>\n",
       "      <td>SOPAQHU1315CD47F31</td>\n",
       "      <td>AROBSHL1187B9AFB01</td>\n",
       "      <td>4</td>\n",
       "      <td>1.000</td>\n",
       "      <td>-4.051</td>\n",
       "      <td>140.048</td>\n",
       "      <td>0.921</td>\n",
       "      <td>...</td>\n",
       "      <td>106.918</td>\n",
       "      <td>-61.320</td>\n",
       "      <td>35.378</td>\n",
       "      <td>-81.928</td>\n",
       "      <td>74.574</td>\n",
       "      <td>-103.808</td>\n",
       "      <td>121.935</td>\n",
       "      <td>-38.892</td>\n",
       "      <td>22.513</td>\n",
       "      <td>0</td>\n",
       "    </tr>\n",
       "    <tr>\n",
       "      <th>2</th>\n",
       "      <td>2010</td>\n",
       "      <td>All I Want</td>\n",
       "      <td>A Day to Remember</td>\n",
       "      <td>SOOIZOU1376E7C6386</td>\n",
       "      <td>AROBSHL1187B9AFB01</td>\n",
       "      <td>4</td>\n",
       "      <td>1.000</td>\n",
       "      <td>-3.571</td>\n",
       "      <td>160.512</td>\n",
       "      <td>0.489</td>\n",
       "      <td>...</td>\n",
       "      <td>80.621</td>\n",
       "      <td>-59.773</td>\n",
       "      <td>45.979</td>\n",
       "      <td>-46.293</td>\n",
       "      <td>59.904</td>\n",
       "      <td>-108.313</td>\n",
       "      <td>33.300</td>\n",
       "      <td>-43.733</td>\n",
       "      <td>25.744</td>\n",
       "      <td>0</td>\n",
       "    </tr>\n",
       "    <tr>\n",
       "      <th>3</th>\n",
       "      <td>2010</td>\n",
       "      <td>It's Complicated</td>\n",
       "      <td>A Day to Remember</td>\n",
       "      <td>SODRYWD1315CD49DBE</td>\n",
       "      <td>AROBSHL1187B9AFB01</td>\n",
       "      <td>4</td>\n",
       "      <td>1.000</td>\n",
       "      <td>-3.815</td>\n",
       "      <td>97.525</td>\n",
       "      <td>0.794</td>\n",
       "      <td>...</td>\n",
       "      <td>96.675</td>\n",
       "      <td>-78.660</td>\n",
       "      <td>41.088</td>\n",
       "      <td>-49.194</td>\n",
       "      <td>95.440</td>\n",
       "      <td>-102.676</td>\n",
       "      <td>46.422</td>\n",
       "      <td>-59.439</td>\n",
       "      <td>37.082</td>\n",
       "      <td>0</td>\n",
       "    </tr>\n",
       "    <tr>\n",
       "      <th>4</th>\n",
       "      <td>2010</td>\n",
       "      <td>2nd Sucks</td>\n",
       "      <td>A Day to Remember</td>\n",
       "      <td>SOICMQB1315CD46EE3</td>\n",
       "      <td>AROBSHL1187B9AFB01</td>\n",
       "      <td>4</td>\n",
       "      <td>0.788</td>\n",
       "      <td>-4.707</td>\n",
       "      <td>140.053</td>\n",
       "      <td>0.286</td>\n",
       "      <td>...</td>\n",
       "      <td>110.332</td>\n",
       "      <td>-56.450</td>\n",
       "      <td>37.555</td>\n",
       "      <td>-48.588</td>\n",
       "      <td>67.570</td>\n",
       "      <td>-52.796</td>\n",
       "      <td>22.888</td>\n",
       "      <td>-50.414</td>\n",
       "      <td>32.758</td>\n",
       "      <td>0</td>\n",
       "    </tr>\n",
       "    <tr>\n",
       "      <th>5</th>\n",
       "      <td>2010</td>\n",
       "      <td>Better Off This Way</td>\n",
       "      <td>A Day to Remember</td>\n",
       "      <td>SOCEYON1315CD4A23E</td>\n",
       "      <td>AROBSHL1187B9AFB01</td>\n",
       "      <td>4</td>\n",
       "      <td>1.000</td>\n",
       "      <td>-3.807</td>\n",
       "      <td>160.366</td>\n",
       "      <td>0.347</td>\n",
       "      <td>...</td>\n",
       "      <td>91.117</td>\n",
       "      <td>-54.378</td>\n",
       "      <td>53.808</td>\n",
       "      <td>-33.183</td>\n",
       "      <td>54.657</td>\n",
       "      <td>-64.478</td>\n",
       "      <td>34.522</td>\n",
       "      <td>-40.922</td>\n",
       "      <td>36.453</td>\n",
       "      <td>0</td>\n",
       "    </tr>\n",
       "    <tr>\n",
       "      <th>6</th>\n",
       "      <td>2010</td>\n",
       "      <td>All Signs Point to Lauderdale</td>\n",
       "      <td>A Day to Remember</td>\n",
       "      <td>SODZEHH1377566C93F</td>\n",
       "      <td>AROBSHL1187B9AFB01</td>\n",
       "      <td>4</td>\n",
       "      <td>0.968</td>\n",
       "      <td>-4.114</td>\n",
       "      <td>149.967</td>\n",
       "      <td>0.273</td>\n",
       "      <td>...</td>\n",
       "      <td>97.938</td>\n",
       "      <td>-57.289</td>\n",
       "      <td>34.989</td>\n",
       "      <td>-35.724</td>\n",
       "      <td>72.925</td>\n",
       "      <td>-66.070</td>\n",
       "      <td>75.881</td>\n",
       "      <td>-51.232</td>\n",
       "      <td>28.741</td>\n",
       "      <td>0</td>\n",
       "    </tr>\n",
       "    <tr>\n",
       "      <th>7</th>\n",
       "      <td>2010</td>\n",
       "      <td>Out of Time</td>\n",
       "      <td>A Day to Remember</td>\n",
       "      <td>SOJQXRI12C5664F058</td>\n",
       "      <td>AROBSHL1187B9AFB01</td>\n",
       "      <td>4</td>\n",
       "      <td>0.861</td>\n",
       "      <td>-3.683</td>\n",
       "      <td>160.328</td>\n",
       "      <td>0.830</td>\n",
       "      <td>...</td>\n",
       "      <td>114.817</td>\n",
       "      <td>-56.108</td>\n",
       "      <td>25.915</td>\n",
       "      <td>-69.726</td>\n",
       "      <td>112.780</td>\n",
       "      <td>-117.207</td>\n",
       "      <td>27.494</td>\n",
       "      <td>-50.713</td>\n",
       "      <td>31.470</td>\n",
       "      <td>0</td>\n",
       "    </tr>\n",
       "    <tr>\n",
       "      <th>8</th>\n",
       "      <td>2010</td>\n",
       "      <td>If I Leave</td>\n",
       "      <td>A Day to Remember</td>\n",
       "      <td>SOWCXMH137733DA46E</td>\n",
       "      <td>AROBSHL1187B9AFB01</td>\n",
       "      <td>4</td>\n",
       "      <td>0.622</td>\n",
       "      <td>-4.967</td>\n",
       "      <td>155.112</td>\n",
       "      <td>0.018</td>\n",
       "      <td>...</td>\n",
       "      <td>67.466</td>\n",
       "      <td>-53.234</td>\n",
       "      <td>40.445</td>\n",
       "      <td>-33.081</td>\n",
       "      <td>50.643</td>\n",
       "      <td>-61.121</td>\n",
       "      <td>50.245</td>\n",
       "      <td>-53.695</td>\n",
       "      <td>26.625</td>\n",
       "      <td>0</td>\n",
       "    </tr>\n",
       "    <tr>\n",
       "      <th>9</th>\n",
       "      <td>2010</td>\n",
       "      <td>Whataya Want From Me</td>\n",
       "      <td>Adam Lambert</td>\n",
       "      <td>SOFOBLL13A9E22142F</td>\n",
       "      <td>ARIGTAO11FED0C4411</td>\n",
       "      <td>4</td>\n",
       "      <td>0.938</td>\n",
       "      <td>-15.557</td>\n",
       "      <td>95.904</td>\n",
       "      <td>0.929</td>\n",
       "      <td>...</td>\n",
       "      <td>99.150</td>\n",
       "      <td>-69.346</td>\n",
       "      <td>56.233</td>\n",
       "      <td>-94.733</td>\n",
       "      <td>62.789</td>\n",
       "      <td>-102.870</td>\n",
       "      <td>65.328</td>\n",
       "      <td>-48.411</td>\n",
       "      <td>47.376</td>\n",
       "      <td>1</td>\n",
       "    </tr>\n",
       "  </tbody>\n",
       "</table>\n",
       "<p>10 rows × 39 columns</p>\n",
       "</div>"
      ],
      "text/plain": [
       "   annee                               titre            artiste  \\\n",
       "0   2010  This Is the House That Doubt Built  A Day to Remember   \n",
       "1   2010                     Sticks & Bricks  A Day to Remember   \n",
       "2   2010                          All I Want  A Day to Remember   \n",
       "3   2010                    It's Complicated  A Day to Remember   \n",
       "4   2010                           2nd Sucks  A Day to Remember   \n",
       "5   2010                 Better Off This Way  A Day to Remember   \n",
       "6   2010       All Signs Point to Lauderdale  A Day to Remember   \n",
       "7   2010                         Out of Time  A Day to Remember   \n",
       "8   2010                          If I Leave  A Day to Remember   \n",
       "9   2010                Whataya Want From Me       Adam Lambert   \n",
       "\n",
       "            chansonID           artisteID  signature_temp  \\\n",
       "0  SOBGGAB12C5664F054  AROBSHL1187B9AFB01               3   \n",
       "1  SOPAQHU1315CD47F31  AROBSHL1187B9AFB01               4   \n",
       "2  SOOIZOU1376E7C6386  AROBSHL1187B9AFB01               4   \n",
       "3  SODRYWD1315CD49DBE  AROBSHL1187B9AFB01               4   \n",
       "4  SOICMQB1315CD46EE3  AROBSHL1187B9AFB01               4   \n",
       "5  SOCEYON1315CD4A23E  AROBSHL1187B9AFB01               4   \n",
       "6  SODZEHH1377566C93F  AROBSHL1187B9AFB01               4   \n",
       "7  SOJQXRI12C5664F058  AROBSHL1187B9AFB01               4   \n",
       "8  SOWCXMH137733DA46E  AROBSHL1187B9AFB01               4   \n",
       "9  SOFOBLL13A9E22142F  ARIGTAO11FED0C4411               4   \n",
       "\n",
       "   signature_temp_confiance  intensite    tempo  tempo_confiance  ...  \\\n",
       "0                     0.853     -4.262   91.525            0.953  ...   \n",
       "1                     1.000     -4.051  140.048            0.921  ...   \n",
       "2                     1.000     -3.571  160.512            0.489  ...   \n",
       "3                     1.000     -3.815   97.525            0.794  ...   \n",
       "4                     0.788     -4.707  140.053            0.286  ...   \n",
       "5                     1.000     -3.807  160.366            0.347  ...   \n",
       "6                     0.968     -4.114  149.967            0.273  ...   \n",
       "7                     0.861     -3.683  160.328            0.830  ...   \n",
       "8                     0.622     -4.967  155.112            0.018  ...   \n",
       "9                     0.938    -15.557   95.904            0.929  ...   \n",
       "\n",
       "   timbre_7_max  timbre_8_min  timbre_8_max  timbre_9_min  timbre_9_max  \\\n",
       "0        82.475       -52.025        39.116       -35.368        71.642   \n",
       "1       106.918       -61.320        35.378       -81.928        74.574   \n",
       "2        80.621       -59.773        45.979       -46.293        59.904   \n",
       "3        96.675       -78.660        41.088       -49.194        95.440   \n",
       "4       110.332       -56.450        37.555       -48.588        67.570   \n",
       "5        91.117       -54.378        53.808       -33.183        54.657   \n",
       "6        97.938       -57.289        34.989       -35.724        72.925   \n",
       "7       114.817       -56.108        25.915       -69.726       112.780   \n",
       "8        67.466       -53.234        40.445       -33.081        50.643   \n",
       "9        99.150       -69.346        56.233       -94.733        62.789   \n",
       "\n",
       "   timbre_10_min  timbre_10_max  timbre_11_min  timbre_11_max  Top10  \n",
       "0       -126.440         18.658        -44.770         25.989      0  \n",
       "1       -103.808        121.935        -38.892         22.513      0  \n",
       "2       -108.313         33.300        -43.733         25.744      0  \n",
       "3       -102.676         46.422        -59.439         37.082      0  \n",
       "4        -52.796         22.888        -50.414         32.758      0  \n",
       "5        -64.478         34.522        -40.922         36.453      0  \n",
       "6        -66.070         75.881        -51.232         28.741      0  \n",
       "7       -117.207         27.494        -50.713         31.470      0  \n",
       "8        -61.121         50.245        -53.695         26.625      0  \n",
       "9       -102.870         65.328        -48.411         47.376      1  \n",
       "\n",
       "[10 rows x 39 columns]"
      ]
     },
     "execution_count": 6,
     "metadata": {},
     "output_type": "execute_result"
    }
   ],
   "source": [
    "# Affichages des 10 premières lignes de données pour en avoir une idée\n",
    "donnees.head(10)"
   ]
  },
  {
   "cell_type": "code",
   "execution_count": 7,
   "id": "b772e96c",
   "metadata": {},
   "outputs": [
    {
     "data": {
      "text/html": [
       "<div>\n",
       "<style scoped>\n",
       "    .dataframe tbody tr th:only-of-type {\n",
       "        vertical-align: middle;\n",
       "    }\n",
       "\n",
       "    .dataframe tbody tr th {\n",
       "        vertical-align: top;\n",
       "    }\n",
       "\n",
       "    .dataframe thead th {\n",
       "        text-align: right;\n",
       "    }\n",
       "</style>\n",
       "<table border=\"1\" class=\"dataframe\">\n",
       "  <thead>\n",
       "    <tr style=\"text-align: right;\">\n",
       "      <th></th>\n",
       "      <th>annee</th>\n",
       "      <th>signature_temp</th>\n",
       "      <th>signature_temp_confiance</th>\n",
       "      <th>intensite</th>\n",
       "      <th>tempo</th>\n",
       "      <th>tempo_confiance</th>\n",
       "      <th>gamme</th>\n",
       "      <th>gamme_confiance</th>\n",
       "      <th>energie</th>\n",
       "      <th>hauteur</th>\n",
       "      <th>...</th>\n",
       "      <th>timbre_7_max</th>\n",
       "      <th>timbre_8_min</th>\n",
       "      <th>timbre_8_max</th>\n",
       "      <th>timbre_9_min</th>\n",
       "      <th>timbre_9_max</th>\n",
       "      <th>timbre_10_min</th>\n",
       "      <th>timbre_10_max</th>\n",
       "      <th>timbre_11_min</th>\n",
       "      <th>timbre_11_max</th>\n",
       "      <th>Top10</th>\n",
       "    </tr>\n",
       "  </thead>\n",
       "  <tbody>\n",
       "    <tr>\n",
       "      <th>count</th>\n",
       "      <td>7574.000000</td>\n",
       "      <td>7574.000000</td>\n",
       "      <td>7574.000000</td>\n",
       "      <td>7574.000000</td>\n",
       "      <td>7574.000000</td>\n",
       "      <td>7574.000000</td>\n",
       "      <td>7574.000000</td>\n",
       "      <td>7574.000000</td>\n",
       "      <td>7574.000000</td>\n",
       "      <td>7574.000000</td>\n",
       "      <td>...</td>\n",
       "      <td>7574.000000</td>\n",
       "      <td>7574.000000</td>\n",
       "      <td>7574.000000</td>\n",
       "      <td>7574.000000</td>\n",
       "      <td>7574.000000</td>\n",
       "      <td>7574.000000</td>\n",
       "      <td>7574.000000</td>\n",
       "      <td>7574.000000</td>\n",
       "      <td>7574.000000</td>\n",
       "      <td>7574.000000</td>\n",
       "    </tr>\n",
       "    <tr>\n",
       "      <th>mean</th>\n",
       "      <td>2001.455902</td>\n",
       "      <td>3.893979</td>\n",
       "      <td>0.853307</td>\n",
       "      <td>-8.817262</td>\n",
       "      <td>107.348267</td>\n",
       "      <td>0.622866</td>\n",
       "      <td>5.384605</td>\n",
       "      <td>0.433843</td>\n",
       "      <td>0.675471</td>\n",
       "      <td>0.010817</td>\n",
       "      <td>...</td>\n",
       "      <td>95.653221</td>\n",
       "      <td>-63.703984</td>\n",
       "      <td>50.057489</td>\n",
       "      <td>-59.515016</td>\n",
       "      <td>68.028067</td>\n",
       "      <td>-87.340055</td>\n",
       "      <td>55.520722</td>\n",
       "      <td>-50.868457</td>\n",
       "      <td>47.490774</td>\n",
       "      <td>0.147742</td>\n",
       "    </tr>\n",
       "    <tr>\n",
       "      <th>std</th>\n",
       "      <td>5.815223</td>\n",
       "      <td>0.532561</td>\n",
       "      <td>0.243748</td>\n",
       "      <td>4.377079</td>\n",
       "      <td>24.665030</td>\n",
       "      <td>0.304656</td>\n",
       "      <td>3.572579</td>\n",
       "      <td>0.273826</td>\n",
       "      <td>0.243473</td>\n",
       "      <td>0.013671</td>\n",
       "      <td>...</td>\n",
       "      <td>26.859726</td>\n",
       "      <td>15.970244</td>\n",
       "      <td>14.463524</td>\n",
       "      <td>17.190527</td>\n",
       "      <td>20.381321</td>\n",
       "      <td>30.464274</td>\n",
       "      <td>23.549473</td>\n",
       "      <td>11.701530</td>\n",
       "      <td>12.463966</td>\n",
       "      <td>0.354868</td>\n",
       "    </tr>\n",
       "    <tr>\n",
       "      <th>min</th>\n",
       "      <td>1990.000000</td>\n",
       "      <td>0.000000</td>\n",
       "      <td>0.000000</td>\n",
       "      <td>-42.451000</td>\n",
       "      <td>0.000000</td>\n",
       "      <td>0.000000</td>\n",
       "      <td>0.000000</td>\n",
       "      <td>0.000000</td>\n",
       "      <td>0.000020</td>\n",
       "      <td>0.000000</td>\n",
       "      <td>...</td>\n",
       "      <td>15.699000</td>\n",
       "      <td>-158.756000</td>\n",
       "      <td>-25.955000</td>\n",
       "      <td>-149.507000</td>\n",
       "      <td>8.415000</td>\n",
       "      <td>-208.819000</td>\n",
       "      <td>-6.359000</td>\n",
       "      <td>-145.599000</td>\n",
       "      <td>7.200000</td>\n",
       "      <td>0.000000</td>\n",
       "    </tr>\n",
       "    <tr>\n",
       "      <th>25%</th>\n",
       "      <td>1997.000000</td>\n",
       "      <td>4.000000</td>\n",
       "      <td>0.819250</td>\n",
       "      <td>-10.847000</td>\n",
       "      <td>88.860250</td>\n",
       "      <td>0.372000</td>\n",
       "      <td>2.000000</td>\n",
       "      <td>0.204000</td>\n",
       "      <td>0.500138</td>\n",
       "      <td>0.003000</td>\n",
       "      <td>...</td>\n",
       "      <td>76.498000</td>\n",
       "      <td>-73.050750</td>\n",
       "      <td>40.584500</td>\n",
       "      <td>-70.282500</td>\n",
       "      <td>53.037250</td>\n",
       "      <td>-105.130250</td>\n",
       "      <td>39.196000</td>\n",
       "      <td>-58.058000</td>\n",
       "      <td>38.975250</td>\n",
       "      <td>0.000000</td>\n",
       "    </tr>\n",
       "    <tr>\n",
       "      <th>50%</th>\n",
       "      <td>2002.000000</td>\n",
       "      <td>4.000000</td>\n",
       "      <td>0.979000</td>\n",
       "      <td>-7.649000</td>\n",
       "      <td>103.268000</td>\n",
       "      <td>0.701500</td>\n",
       "      <td>6.000000</td>\n",
       "      <td>0.451500</td>\n",
       "      <td>0.718160</td>\n",
       "      <td>0.007000</td>\n",
       "      <td>...</td>\n",
       "      <td>94.632500</td>\n",
       "      <td>-62.661500</td>\n",
       "      <td>49.220000</td>\n",
       "      <td>-58.650000</td>\n",
       "      <td>65.935000</td>\n",
       "      <td>-83.074000</td>\n",
       "      <td>50.895000</td>\n",
       "      <td>-50.892500</td>\n",
       "      <td>46.437500</td>\n",
       "      <td>0.000000</td>\n",
       "    </tr>\n",
       "    <tr>\n",
       "      <th>75%</th>\n",
       "      <td>2006.000000</td>\n",
       "      <td>4.000000</td>\n",
       "      <td>1.000000</td>\n",
       "      <td>-5.640000</td>\n",
       "      <td>124.800500</td>\n",
       "      <td>0.892000</td>\n",
       "      <td>9.000000</td>\n",
       "      <td>0.646000</td>\n",
       "      <td>0.887396</td>\n",
       "      <td>0.014000</td>\n",
       "      <td>...</td>\n",
       "      <td>112.708250</td>\n",
       "      <td>-52.982750</td>\n",
       "      <td>58.462000</td>\n",
       "      <td>-47.699750</td>\n",
       "      <td>81.267000</td>\n",
       "      <td>-64.518000</td>\n",
       "      <td>66.593000</td>\n",
       "      <td>-43.292250</td>\n",
       "      <td>55.030250</td>\n",
       "      <td>0.000000</td>\n",
       "    </tr>\n",
       "    <tr>\n",
       "      <th>max</th>\n",
       "      <td>2010.000000</td>\n",
       "      <td>7.000000</td>\n",
       "      <td>1.000000</td>\n",
       "      <td>1.305000</td>\n",
       "      <td>244.307000</td>\n",
       "      <td>1.000000</td>\n",
       "      <td>11.000000</td>\n",
       "      <td>1.000000</td>\n",
       "      <td>0.998492</td>\n",
       "      <td>0.541000</td>\n",
       "      <td>...</td>\n",
       "      <td>214.819000</td>\n",
       "      <td>-2.382000</td>\n",
       "      <td>144.985000</td>\n",
       "      <td>1.140000</td>\n",
       "      <td>161.518000</td>\n",
       "      <td>-10.640000</td>\n",
       "      <td>192.417000</td>\n",
       "      <td>-6.497000</td>\n",
       "      <td>110.272000</td>\n",
       "      <td>1.000000</td>\n",
       "    </tr>\n",
       "  </tbody>\n",
       "</table>\n",
       "<p>8 rows × 35 columns</p>\n",
       "</div>"
      ],
      "text/plain": [
       "             annee  signature_temp  signature_temp_confiance    intensite  \\\n",
       "count  7574.000000     7574.000000               7574.000000  7574.000000   \n",
       "mean   2001.455902        3.893979                  0.853307    -8.817262   \n",
       "std       5.815223        0.532561                  0.243748     4.377079   \n",
       "min    1990.000000        0.000000                  0.000000   -42.451000   \n",
       "25%    1997.000000        4.000000                  0.819250   -10.847000   \n",
       "50%    2002.000000        4.000000                  0.979000    -7.649000   \n",
       "75%    2006.000000        4.000000                  1.000000    -5.640000   \n",
       "max    2010.000000        7.000000                  1.000000     1.305000   \n",
       "\n",
       "             tempo  tempo_confiance        gamme  gamme_confiance  \\\n",
       "count  7574.000000      7574.000000  7574.000000      7574.000000   \n",
       "mean    107.348267         0.622866     5.384605         0.433843   \n",
       "std      24.665030         0.304656     3.572579         0.273826   \n",
       "min       0.000000         0.000000     0.000000         0.000000   \n",
       "25%      88.860250         0.372000     2.000000         0.204000   \n",
       "50%     103.268000         0.701500     6.000000         0.451500   \n",
       "75%     124.800500         0.892000     9.000000         0.646000   \n",
       "max     244.307000         1.000000    11.000000         1.000000   \n",
       "\n",
       "           energie      hauteur  ...  timbre_7_max  timbre_8_min  \\\n",
       "count  7574.000000  7574.000000  ...   7574.000000   7574.000000   \n",
       "mean      0.675471     0.010817  ...     95.653221    -63.703984   \n",
       "std       0.243473     0.013671  ...     26.859726     15.970244   \n",
       "min       0.000020     0.000000  ...     15.699000   -158.756000   \n",
       "25%       0.500138     0.003000  ...     76.498000    -73.050750   \n",
       "50%       0.718160     0.007000  ...     94.632500    -62.661500   \n",
       "75%       0.887396     0.014000  ...    112.708250    -52.982750   \n",
       "max       0.998492     0.541000  ...    214.819000     -2.382000   \n",
       "\n",
       "       timbre_8_max  timbre_9_min  timbre_9_max  timbre_10_min  timbre_10_max  \\\n",
       "count   7574.000000   7574.000000   7574.000000    7574.000000    7574.000000   \n",
       "mean      50.057489    -59.515016     68.028067     -87.340055      55.520722   \n",
       "std       14.463524     17.190527     20.381321      30.464274      23.549473   \n",
       "min      -25.955000   -149.507000      8.415000    -208.819000      -6.359000   \n",
       "25%       40.584500    -70.282500     53.037250    -105.130250      39.196000   \n",
       "50%       49.220000    -58.650000     65.935000     -83.074000      50.895000   \n",
       "75%       58.462000    -47.699750     81.267000     -64.518000      66.593000   \n",
       "max      144.985000      1.140000    161.518000     -10.640000     192.417000   \n",
       "\n",
       "       timbre_11_min  timbre_11_max        Top10  \n",
       "count    7574.000000    7574.000000  7574.000000  \n",
       "mean      -50.868457      47.490774     0.147742  \n",
       "std        11.701530      12.463966     0.354868  \n",
       "min      -145.599000       7.200000     0.000000  \n",
       "25%       -58.058000      38.975250     0.000000  \n",
       "50%       -50.892500      46.437500     0.000000  \n",
       "75%       -43.292250      55.030250     0.000000  \n",
       "max        -6.497000     110.272000     1.000000  \n",
       "\n",
       "[8 rows x 35 columns]"
      ]
     },
     "execution_count": 7,
     "metadata": {},
     "output_type": "execute_result"
    }
   ],
   "source": [
    "# Statistiques descriptives des colonnees numériques du jeu de données\n",
    "donnees.describe()"
   ]
  },
  {
   "cell_type": "code",
   "execution_count": 8,
   "id": "17e74628",
   "metadata": {},
   "outputs": [
    {
     "data": {
      "text/html": [
       "<div>\n",
       "<style scoped>\n",
       "    .dataframe tbody tr th:only-of-type {\n",
       "        vertical-align: middle;\n",
       "    }\n",
       "\n",
       "    .dataframe tbody tr th {\n",
       "        vertical-align: top;\n",
       "    }\n",
       "\n",
       "    .dataframe thead th {\n",
       "        text-align: right;\n",
       "    }\n",
       "</style>\n",
       "<table border=\"1\" class=\"dataframe\">\n",
       "  <thead>\n",
       "    <tr style=\"text-align: right;\">\n",
       "      <th></th>\n",
       "      <th>titre</th>\n",
       "      <th>artiste</th>\n",
       "      <th>chansonID</th>\n",
       "      <th>artisteID</th>\n",
       "    </tr>\n",
       "  </thead>\n",
       "  <tbody>\n",
       "    <tr>\n",
       "      <th>count</th>\n",
       "      <td>7574</td>\n",
       "      <td>7574</td>\n",
       "      <td>7574</td>\n",
       "      <td>7574</td>\n",
       "    </tr>\n",
       "    <tr>\n",
       "      <th>unique</th>\n",
       "      <td>7141</td>\n",
       "      <td>1032</td>\n",
       "      <td>7549</td>\n",
       "      <td>1047</td>\n",
       "    </tr>\n",
       "    <tr>\n",
       "      <th>top</th>\n",
       "      <td>Intro</td>\n",
       "      <td>Various artists</td>\n",
       "      <td>SOKLHIK131343A2E06</td>\n",
       "      <td>ARAGWS81187FB3F768</td>\n",
       "    </tr>\n",
       "    <tr>\n",
       "      <th>freq</th>\n",
       "      <td>15</td>\n",
       "      <td>162</td>\n",
       "      <td>2</td>\n",
       "      <td>222</td>\n",
       "    </tr>\n",
       "  </tbody>\n",
       "</table>\n",
       "</div>"
      ],
      "text/plain": [
       "        titre          artiste           chansonID           artisteID\n",
       "count    7574             7574                7574                7574\n",
       "unique   7141             1032                7549                1047\n",
       "top     Intro  Various artists  SOKLHIK131343A2E06  ARAGWS81187FB3F768\n",
       "freq       15              162                   2                 222"
      ]
     },
     "execution_count": 8,
     "metadata": {},
     "output_type": "execute_result"
    }
   ],
   "source": [
    "# Statistiques descriptives des colonnes catégoriques\n",
    "donnees.describe(exclude='number')"
   ]
  },
  {
   "cell_type": "code",
   "execution_count": 9,
   "id": "2157d55d",
   "metadata": {},
   "outputs": [],
   "source": [
    "# NB: Nous n'observons aucune valeur manquante au regard des statistiques précédentes"
   ]
  },
  {
   "cell_type": "code",
   "execution_count": 10,
   "id": "471d0747",
   "metadata": {},
   "outputs": [],
   "source": [
    "#g = sns.PairGrid(donnees.select_dtypes(include='number'))\n",
    "#g = g.map(sns.scatterplot)"
   ]
  },
  {
   "cell_type": "markdown",
   "id": "ee5e753b",
   "metadata": {},
   "source": [
    "# Préparation des données"
   ]
  },
  {
   "cell_type": "code",
   "execution_count": 11,
   "id": "f3bdcbe1",
   "metadata": {},
   "outputs": [],
   "source": [
    "# Au regard du nombre très élévé de valeurs possibles pour les variables catégoriques (titre, artiste, chansonID et artisteID),\n",
    "# nous allons nous passer de ces variables dans nos modèles pour éviter le fleaux de la dimension.\n",
    "donnees_numerique = donnees.select_dtypes(exclude='object')\n",
    "#donnees_numerique"
   ]
  },
  {
   "cell_type": "code",
   "execution_count": 12,
   "id": "c677b8c3",
   "metadata": {},
   "outputs": [],
   "source": [
    "# Variables explicatives et variable expliquée\n",
    "X = donnees_numerique.drop('Top10', axis=1)\n",
    "y = donnees_numerique['Top10']"
   ]
  },
  {
   "cell_type": "code",
   "execution_count": 13,
   "id": "079618c8",
   "metadata": {},
   "outputs": [],
   "source": [
    "# Normalisation des variables explicatives: malgré la différence d'échelle qui n'est pas significative entre les valeurs,\n",
    "# nous allons normaliser nos variables explicatives\n",
    "scaler = StandardScaler()\n",
    "scaler.fit(X)\n",
    "X_scaled = scaler.transform(X)"
   ]
  },
  {
   "cell_type": "markdown",
   "id": "bcfd5176",
   "metadata": {},
   "source": [
    "# Séparation des données en Train-Test"
   ]
  },
  {
   "cell_type": "code",
   "execution_count": 71,
   "id": "3f2c7ff9",
   "metadata": {},
   "outputs": [
    {
     "name": "stdout",
     "output_type": "stream",
     "text": [
      "Proportition de la classe positive = 0.14774227620808028\n"
     ]
    }
   ],
   "source": [
    "# Observation sur le débalancement des classes: Proportition de la classe positive(1) vs classe négative(0)\n",
    "prop_classe_positive = y.sum() / len(y)\n",
    "print(f'Proportition de la classe positive = {prop_classe_positive}')"
   ]
  },
  {
   "cell_type": "code",
   "execution_count": 75,
   "id": "b9f552d2",
   "metadata": {},
   "outputs": [],
   "source": [
    "# Vu le debalancement observé, nous allons, pour toute validation croisée utiliser une validation sur 5 plis strafiés, lorsque \n",
    "# le classificateur ne le fournit pas, définis comme suit\n",
    "strat_kfold = StratifiedKFold(n_splits=5, shuffle=True, random_state=2023)"
   ]
  },
  {
   "cell_type": "code",
   "execution_count": 15,
   "id": "62d072b5",
   "metadata": {},
   "outputs": [],
   "source": [
    "X_train, X_test, y_train, y_test = train_test_split(X_scaled, y, stratify=y, random_state=2023, shuffle=True, test_size=0.3)"
   ]
  },
  {
   "cell_type": "markdown",
   "id": "afebae2a",
   "metadata": {},
   "source": [
    "# Modélisation\n",
    "Pour chacun des modèles (sauf le baseline), nous allons utiliser la recherche aléatoire pour trouver les meilleurs hyperparametres."
   ]
  },
  {
   "cell_type": "markdown",
   "id": "73d5aa27",
   "metadata": {},
   "source": [
    "## Modèle baseline"
   ]
  },
  {
   "cell_type": "code",
   "execution_count": 72,
   "id": "d4a0818e",
   "metadata": {},
   "outputs": [
    {
     "data": {
      "text/html": [
       "<style>#sk-container-id-9 {color: black;background-color: white;}#sk-container-id-9 pre{padding: 0;}#sk-container-id-9 div.sk-toggleable {background-color: white;}#sk-container-id-9 label.sk-toggleable__label {cursor: pointer;display: block;width: 100%;margin-bottom: 0;padding: 0.3em;box-sizing: border-box;text-align: center;}#sk-container-id-9 label.sk-toggleable__label-arrow:before {content: \"▸\";float: left;margin-right: 0.25em;color: #696969;}#sk-container-id-9 label.sk-toggleable__label-arrow:hover:before {color: black;}#sk-container-id-9 div.sk-estimator:hover label.sk-toggleable__label-arrow:before {color: black;}#sk-container-id-9 div.sk-toggleable__content {max-height: 0;max-width: 0;overflow: hidden;text-align: left;background-color: #f0f8ff;}#sk-container-id-9 div.sk-toggleable__content pre {margin: 0.2em;color: black;border-radius: 0.25em;background-color: #f0f8ff;}#sk-container-id-9 input.sk-toggleable__control:checked~div.sk-toggleable__content {max-height: 200px;max-width: 100%;overflow: auto;}#sk-container-id-9 input.sk-toggleable__control:checked~label.sk-toggleable__label-arrow:before {content: \"▾\";}#sk-container-id-9 div.sk-estimator input.sk-toggleable__control:checked~label.sk-toggleable__label {background-color: #d4ebff;}#sk-container-id-9 div.sk-label input.sk-toggleable__control:checked~label.sk-toggleable__label {background-color: #d4ebff;}#sk-container-id-9 input.sk-hidden--visually {border: 0;clip: rect(1px 1px 1px 1px);clip: rect(1px, 1px, 1px, 1px);height: 1px;margin: -1px;overflow: hidden;padding: 0;position: absolute;width: 1px;}#sk-container-id-9 div.sk-estimator {font-family: monospace;background-color: #f0f8ff;border: 1px dotted black;border-radius: 0.25em;box-sizing: border-box;margin-bottom: 0.5em;}#sk-container-id-9 div.sk-estimator:hover {background-color: #d4ebff;}#sk-container-id-9 div.sk-parallel-item::after {content: \"\";width: 100%;border-bottom: 1px solid gray;flex-grow: 1;}#sk-container-id-9 div.sk-label:hover label.sk-toggleable__label {background-color: #d4ebff;}#sk-container-id-9 div.sk-serial::before {content: \"\";position: absolute;border-left: 1px solid gray;box-sizing: border-box;top: 0;bottom: 0;left: 50%;z-index: 0;}#sk-container-id-9 div.sk-serial {display: flex;flex-direction: column;align-items: center;background-color: white;padding-right: 0.2em;padding-left: 0.2em;position: relative;}#sk-container-id-9 div.sk-item {position: relative;z-index: 1;}#sk-container-id-9 div.sk-parallel {display: flex;align-items: stretch;justify-content: center;background-color: white;position: relative;}#sk-container-id-9 div.sk-item::before, #sk-container-id-9 div.sk-parallel-item::before {content: \"\";position: absolute;border-left: 1px solid gray;box-sizing: border-box;top: 0;bottom: 0;left: 50%;z-index: -1;}#sk-container-id-9 div.sk-parallel-item {display: flex;flex-direction: column;z-index: 1;position: relative;background-color: white;}#sk-container-id-9 div.sk-parallel-item:first-child::after {align-self: flex-end;width: 50%;}#sk-container-id-9 div.sk-parallel-item:last-child::after {align-self: flex-start;width: 50%;}#sk-container-id-9 div.sk-parallel-item:only-child::after {width: 0;}#sk-container-id-9 div.sk-dashed-wrapped {border: 1px dashed gray;margin: 0 0.4em 0.5em 0.4em;box-sizing: border-box;padding-bottom: 0.4em;background-color: white;}#sk-container-id-9 div.sk-label label {font-family: monospace;font-weight: bold;display: inline-block;line-height: 1.2em;}#sk-container-id-9 div.sk-label-container {text-align: center;}#sk-container-id-9 div.sk-container {/* jupyter's `normalize.less` sets `[hidden] { display: none; }` but bootstrap.min.css set `[hidden] { display: none !important; }` so we also need the `!important` here to be able to override the default hidden behavior on the sphinx rendered scikit-learn.org. See: https://github.com/scikit-learn/scikit-learn/issues/21755 */display: inline-block !important;position: relative;}#sk-container-id-9 div.sk-text-repr-fallback {display: none;}</style><div id=\"sk-container-id-9\" class=\"sk-top-container\"><div class=\"sk-text-repr-fallback\"><pre>DummyClassifier(strategy=&#x27;most_frequent&#x27;)</pre><b>In a Jupyter environment, please rerun this cell to show the HTML representation or trust the notebook. <br />On GitHub, the HTML representation is unable to render, please try loading this page with nbviewer.org.</b></div><div class=\"sk-container\" hidden><div class=\"sk-item\"><div class=\"sk-estimator sk-toggleable\"><input class=\"sk-toggleable__control sk-hidden--visually\" id=\"sk-estimator-id-23\" type=\"checkbox\" checked><label for=\"sk-estimator-id-23\" class=\"sk-toggleable__label sk-toggleable__label-arrow\">DummyClassifier</label><div class=\"sk-toggleable__content\"><pre>DummyClassifier(strategy=&#x27;most_frequent&#x27;)</pre></div></div></div></div></div>"
      ],
      "text/plain": [
       "DummyClassifier(strategy='most_frequent')"
      ]
     },
     "execution_count": 72,
     "metadata": {},
     "output_type": "execute_result"
    }
   ],
   "source": [
    "baseline_cf = DummyClassifier(strategy='most_frequent')\n",
    "baseline_cf.fit(X_train,y_train)"
   ]
  },
  {
   "cell_type": "code",
   "execution_count": 184,
   "id": "aa313cc1",
   "metadata": {},
   "outputs": [
    {
     "name": "stdout",
     "output_type": "stream",
     "text": [
      "Log loss Baseline = 5.323935220463824\n"
     ]
    }
   ],
   "source": [
    "# Score sur l'ensemble des données d'entrainement: Courbe ROC et AUC\n",
    "results = {}\n",
    "y_pred_proba_baseline = baseline_cf.predict_proba(X_train)[:,1]\n",
    "#results['Baseline'] = y_pred_proba_baseline\n",
    "\n",
    "#plot_roc_curve(y_train, results)\n",
    "\n",
    "loss_baseline = log_loss(y_train, y_pred_proba_baseline)\n",
    "results['Baseline'] = loss_baseline\n",
    "print(f'Log loss Baseline = {loss_baseline}')"
   ]
  },
  {
   "cell_type": "code",
   "execution_count": 192,
   "id": "03a8ff08",
   "metadata": {},
   "outputs": [
    {
     "data": {
      "image/png": "[encoded data removed]",
      "text/plain": [
       "<Figure size 640x480 with 1 Axes>"
      ]
     },
     "metadata": {},
     "output_type": "display_data"
    }
   ],
   "source": [
    "# Comparaison visuelle des log loss sur un digramme à bar\n",
    "plot_log_loss_bar(results)"
   ]
  },
  {
   "cell_type": "markdown",
   "id": "38efdd88",
   "metadata": {},
   "source": [
    "## Regression logistique avec recherche aléatoire des meilleurs hyperparamètres"
   ]
  },
  {
   "cell_type": "code",
   "execution_count": 193,
   "id": "7b3b7a83",
   "metadata": {},
   "outputs": [],
   "source": [
    "# Estimateur\n",
    "lg_reg = LogisticRegression(penalty='elasticnet', solver='saga', n_jobs=-1, max_iter=10000, random_state=2023)"
   ]
  },
  {
   "cell_type": "code",
   "execution_count": 194,
   "id": "d9634225",
   "metadata": {},
   "outputs": [],
   "source": [
    "# Parametre grille\n",
    "#param_grid = {'C': [1e-2, 1e-1, 0.3, 1e-0, 10, 76, 100], 'l1_ratio' : [0, 0.5, 1]}\n",
    "\n",
    "# Recherche grille\n",
    "#log_reg_grid_search = GridSearchCV(lg_reg, param_grid, scoring='roc_auc', cv=5, verbose=1, n_jobs=-1)\n",
    "\n",
    "# fit grille\n",
    "#log_reg_grid_search.fit(X_train, y_train)\n",
    "\n",
    "#print(f'Le meilleur score grille est (auc moyen) : {log_reg_grid_search.best_score_}')\n",
    "#print(f'Les meilleurs paramètres grille sont: {log_reg_grid_search.best_params_}')\n",
    "\n",
    "# Score sur l'ensemble des données d'entrainement: Courbe ROC et AUC\n",
    "#y_train_pred_proba_lg_reg = log_reg_grid_search.best_estimator_.predict_proba(X_train)[:,1]\n",
    "#results['Regression logistique grille'] = y_train_pred_proba_lg_reg\n",
    "\n",
    "#plot_roc_curve(y_train, results)"
   ]
  },
  {
   "cell_type": "code",
   "execution_count": 195,
   "id": "3e67a90c",
   "metadata": {},
   "outputs": [],
   "source": [
    "# Paramètres de la recherche aléatoire\n",
    "param_rnd_search = dict(C = loguniform(1e-20, 1e2), l1_ratio = loguniform(10e-10,1))\n",
    "\n",
    "# Recherche aléatoire: Nous précisons la valeur de cv pour avoir une validation croisée stratifiées à 5 plis\n",
    "log_reg_rnd_search = RandomizedSearchCV(lg_reg, \n",
    "                                        param_rnd_search, \n",
    "                                        n_iter=100, \n",
    "                                        scoring='neg_log_loss', \n",
    "                                        cv=5, \n",
    "                                        verbose=1, \n",
    "                                        n_jobs=-1,\n",
    "                                        random_state=2023)"
   ]
  },
  {
   "cell_type": "code",
   "execution_count": 196,
   "id": "3a34c206",
   "metadata": {},
   "outputs": [
    {
     "name": "stdout",
     "output_type": "stream",
     "text": [
      "Fitting 5 folds for each of 100 candidates, totalling 500 fits\n"
     ]
    },
    {
     "data": {
      "text/html": [
       "<style>#sk-container-id-25 {color: black;background-color: white;}#sk-container-id-25 pre{padding: 0;}#sk-container-id-25 div.sk-toggleable {background-color: white;}#sk-container-id-25 label.sk-toggleable__label {cursor: pointer;display: block;width: 100%;margin-bottom: 0;padding: 0.3em;box-sizing: border-box;text-align: center;}#sk-container-id-25 label.sk-toggleable__label-arrow:before {content: \"▸\";float: left;margin-right: 0.25em;color: #696969;}#sk-container-id-25 label.sk-toggleable__label-arrow:hover:before {color: black;}#sk-container-id-25 div.sk-estimator:hover label.sk-toggleable__label-arrow:before {color: black;}#sk-container-id-25 div.sk-toggleable__content {max-height: 0;max-width: 0;overflow: hidden;text-align: left;background-color: #f0f8ff;}#sk-container-id-25 div.sk-toggleable__content pre {margin: 0.2em;color: black;border-radius: 0.25em;background-color: #f0f8ff;}#sk-container-id-25 input.sk-toggleable__control:checked~div.sk-toggleable__content {max-height: 200px;max-width: 100%;overflow: auto;}#sk-container-id-25 input.sk-toggleable__control:checked~label.sk-toggleable__label-arrow:before {content: \"▾\";}#sk-container-id-25 div.sk-estimator input.sk-toggleable__control:checked~label.sk-toggleable__label {background-color: #d4ebff;}#sk-container-id-25 div.sk-label input.sk-toggleable__control:checked~label.sk-toggleable__label {background-color: #d4ebff;}#sk-container-id-25 input.sk-hidden--visually {border: 0;clip: rect(1px 1px 1px 1px);clip: rect(1px, 1px, 1px, 1px);height: 1px;margin: -1px;overflow: hidden;padding: 0;position: absolute;width: 1px;}#sk-container-id-25 div.sk-estimator {font-family: monospace;background-color: #f0f8ff;border: 1px dotted black;border-radius: 0.25em;box-sizing: border-box;margin-bottom: 0.5em;}#sk-container-id-25 div.sk-estimator:hover {background-color: #d4ebff;}#sk-container-id-25 div.sk-parallel-item::after {content: \"\";width: 100%;border-bottom: 1px solid gray;flex-grow: 1;}#sk-container-id-25 div.sk-label:hover label.sk-toggleable__label {background-color: #d4ebff;}#sk-container-id-25 div.sk-serial::before {content: \"\";position: absolute;border-left: 1px solid gray;box-sizing: border-box;top: 0;bottom: 0;left: 50%;z-index: 0;}#sk-container-id-25 div.sk-serial {display: flex;flex-direction: column;align-items: center;background-color: white;padding-right: 0.2em;padding-left: 0.2em;position: relative;}#sk-container-id-25 div.sk-item {position: relative;z-index: 1;}#sk-container-id-25 div.sk-parallel {display: flex;align-items: stretch;justify-content: center;background-color: white;position: relative;}#sk-container-id-25 div.sk-item::before, #sk-container-id-25 div.sk-parallel-item::before {content: \"\";position: absolute;border-left: 1px solid gray;box-sizing: border-box;top: 0;bottom: 0;left: 50%;z-index: -1;}#sk-container-id-25 div.sk-parallel-item {display: flex;flex-direction: column;z-index: 1;position: relative;background-color: white;}#sk-container-id-25 div.sk-parallel-item:first-child::after {align-self: flex-end;width: 50%;}#sk-container-id-25 div.sk-parallel-item:last-child::after {align-self: flex-start;width: 50%;}#sk-container-id-25 div.sk-parallel-item:only-child::after {width: 0;}#sk-container-id-25 div.sk-dashed-wrapped {border: 1px dashed gray;margin: 0 0.4em 0.5em 0.4em;box-sizing: border-box;padding-bottom: 0.4em;background-color: white;}#sk-container-id-25 div.sk-label label {font-family: monospace;font-weight: bold;display: inline-block;line-height: 1.2em;}#sk-container-id-25 div.sk-label-container {text-align: center;}#sk-container-id-25 div.sk-container {/* jupyter's `normalize.less` sets `[hidden] { display: none; }` but bootstrap.min.css set `[hidden] { display: none !important; }` so we also need the `!important` here to be able to override the default hidden behavior on the sphinx rendered scikit-learn.org. See: https://github.com/scikit-learn/scikit-learn/issues/21755 */display: inline-block !important;position: relative;}#sk-container-id-25 div.sk-text-repr-fallback {display: none;}</style><div id=\"sk-container-id-25\" class=\"sk-top-container\"><div class=\"sk-text-repr-fallback\"><pre>RandomizedSearchCV(cv=5,\n",
       "                   estimator=LogisticRegression(max_iter=10000, n_jobs=-1,\n",
       "                                                penalty=&#x27;elasticnet&#x27;,\n",
       "                                                random_state=2023,\n",
       "                                                solver=&#x27;saga&#x27;),\n",
       "                   n_iter=100, n_jobs=-1,\n",
       "                   param_distributions={&#x27;C&#x27;: &lt;scipy.stats._distn_infrastructure.rv_continuous_frozen object at 0x7fee6c113df0&gt;,\n",
       "                                        &#x27;l1_ratio&#x27;: &lt;scipy.stats._distn_infrastructure.rv_continuous_frozen object at 0x7fee6c12c790&gt;},\n",
       "                   random_state=2023, scoring=&#x27;neg_log_loss&#x27;, verbose=1)</pre><b>In a Jupyter environment, please rerun this cell to show the HTML representation or trust the notebook. <br />On GitHub, the HTML representation is unable to render, please try loading this page with nbviewer.org.</b></div><div class=\"sk-container\" hidden><div class=\"sk-item sk-dashed-wrapped\"><div class=\"sk-label-container\"><div class=\"sk-label sk-toggleable\"><input class=\"sk-toggleable__control sk-hidden--visually\" id=\"sk-estimator-id-69\" type=\"checkbox\" ><label for=\"sk-estimator-id-69\" class=\"sk-toggleable__label sk-toggleable__label-arrow\">RandomizedSearchCV</label><div class=\"sk-toggleable__content\"><pre>RandomizedSearchCV(cv=5,\n",
       "                   estimator=LogisticRegression(max_iter=10000, n_jobs=-1,\n",
       "                                                penalty=&#x27;elasticnet&#x27;,\n",
       "                                                random_state=2023,\n",
       "                                                solver=&#x27;saga&#x27;),\n",
       "                   n_iter=100, n_jobs=-1,\n",
       "                   param_distributions={&#x27;C&#x27;: &lt;scipy.stats._distn_infrastructure.rv_continuous_frozen object at 0x7fee6c113df0&gt;,\n",
       "                                        &#x27;l1_ratio&#x27;: &lt;scipy.stats._distn_infrastructure.rv_continuous_frozen object at 0x7fee6c12c790&gt;},\n",
       "                   random_state=2023, scoring=&#x27;neg_log_loss&#x27;, verbose=1)</pre></div></div></div><div class=\"sk-parallel\"><div class=\"sk-parallel-item\"><div class=\"sk-item\"><div class=\"sk-label-container\"><div class=\"sk-label sk-toggleable\"><input class=\"sk-toggleable__control sk-hidden--visually\" id=\"sk-estimator-id-70\" type=\"checkbox\" ><label for=\"sk-estimator-id-70\" class=\"sk-toggleable__label sk-toggleable__label-arrow\">estimator: LogisticRegression</label><div class=\"sk-toggleable__content\"><pre>LogisticRegression(max_iter=10000, n_jobs=-1, penalty=&#x27;elasticnet&#x27;,\n",
       "                   random_state=2023, solver=&#x27;saga&#x27;)</pre></div></div></div><div class=\"sk-serial\"><div class=\"sk-item\"><div class=\"sk-estimator sk-toggleable\"><input class=\"sk-toggleable__control sk-hidden--visually\" id=\"sk-estimator-id-71\" type=\"checkbox\" ><label for=\"sk-estimator-id-71\" class=\"sk-toggleable__label sk-toggleable__label-arrow\">LogisticRegression</label><div class=\"sk-toggleable__content\"><pre>LogisticRegression(max_iter=10000, n_jobs=-1, penalty=&#x27;elasticnet&#x27;,\n",
       "                   random_state=2023, solver=&#x27;saga&#x27;)</pre></div></div></div></div></div></div></div></div></div></div>"
      ],
      "text/plain": [
       "RandomizedSearchCV(cv=5,\n",
       "                   estimator=LogisticRegression(max_iter=10000, n_jobs=-1,\n",
       "                                                penalty='elasticnet',\n",
       "                                                random_state=2023,\n",
       "                                                solver='saga'),\n",
       "                   n_iter=100, n_jobs=-1,\n",
       "                   param_distributions={'C': <scipy.stats._distn_infrastructure.rv_continuous_frozen object at 0x7fee6c113df0>,\n",
       "                                        'l1_ratio': <scipy.stats._distn_infrastructure.rv_continuous_frozen object at 0x7fee6c12c790>},\n",
       "                   random_state=2023, scoring='neg_log_loss', verbose=1)"
      ]
     },
     "execution_count": 196,
     "metadata": {},
     "output_type": "execute_result"
    }
   ],
   "source": [
    "# fit \n",
    "log_reg_rnd_search.fit(X_train, y_train)"
   ]
  },
  {
   "cell_type": "code",
   "execution_count": 198,
   "id": "235e7807",
   "metadata": {},
   "outputs": [
    {
     "name": "stdout",
     "output_type": "stream",
     "text": [
      "Le meilleur score est (log loss moyen) : 0.330649832069264\n",
      "Les meilleurs paramètres sont: {'C': 0.6193889824323069, 'l1_ratio': 0.2996004362847121}\n"
     ]
    }
   ],
   "source": [
    "results['Regression logistique'] = -log_reg_rnd_search.best_score_\n",
    "print(f'Le meilleur score est (log loss moyen) : {-log_reg_rnd_search.best_score_}')\n",
    "print(f'Les meilleurs paramètres sont: {log_reg_rnd_search.best_params_}')"
   ]
  },
  {
   "cell_type": "code",
   "execution_count": 201,
   "id": "61c41bef",
   "metadata": {},
   "outputs": [],
   "source": [
    "# Score sur l'ensemble des données d'entrainement\n",
    "#y_train_pred_proba_lg_reg_rnd = log_reg_rnd_search.best_estimator_.predict_proba(X_train)[:,1]\n",
    "#results['Regression logistique'] = y_train_pred_proba_lg_reg_rnd\n",
    "\n",
    "#plot_roc_curve(y_train, results)\n",
    "\n",
    "#loss_log_reg = log_loss(y_train, y_train_pred_proba_lg_reg_rnd)\n",
    "#results['Regression logistique'] = loss_log_reg\n",
    "#print(f'Log loss Regression Logistique = {loss_log_reg}')"
   ]
  },
  {
   "cell_type": "code",
   "execution_count": 199,
   "id": "c2199be2",
   "metadata": {},
   "outputs": [
    {
     "data": {
      "image/png": "[encoded data removed]",
      "text/plain": [
       "<Figure size 640x480 with 1 Axes>"
      ]
     },
     "metadata": {},
     "output_type": "display_data"
    }
   ],
   "source": [
    "# Comparaison visuelle des log loss sur un digramme à bar\n",
    "plot_log_loss_bar(results)"
   ]
  },
  {
   "cell_type": "markdown",
   "id": "759488f1",
   "metadata": {},
   "source": [
    "## K plus proches voisin avec recherche aléatoire des meilleurs hyperparamètres"
   ]
  },
  {
   "cell_type": "code",
   "execution_count": 203,
   "id": "4af1850e",
   "metadata": {},
   "outputs": [],
   "source": [
    "# Estimateur\n",
    "knn_cf = KNeighborsClassifier(n_jobs=-1)"
   ]
  },
  {
   "cell_type": "code",
   "execution_count": 206,
   "id": "afca79f5",
   "metadata": {},
   "outputs": [],
   "source": [
    "# Paramètres de la recherche aléatoire\n",
    "param_rnd_search = dict(n_neighbors = randint(2, 50), weights = ['uniform', 'distance'])\n",
    "\n",
    "# Recherche aléatoire\n",
    "knn_rnd_search = RandomizedSearchCV(knn_cf, \n",
    "                                    param_rnd_search, \n",
    "                                    n_iter=100, \n",
    "                                    scoring='neg_log_loss', \n",
    "                                    cv=5, \n",
    "                                    verbose=1, \n",
    "                                    n_jobs=-1,\n",
    "                                    random_state=2023)"
   ]
  },
  {
   "cell_type": "code",
   "execution_count": 207,
   "id": "fd4f70d0",
   "metadata": {},
   "outputs": [
    {
     "name": "stdout",
     "output_type": "stream",
     "text": [
      "Fitting 5 folds for each of 100 candidates, totalling 500 fits\n"
     ]
    },
    {
     "data": {
      "text/html": [
       "<style>#sk-container-id-26 {color: black;background-color: white;}#sk-container-id-26 pre{padding: 0;}#sk-container-id-26 div.sk-toggleable {background-color: white;}#sk-container-id-26 label.sk-toggleable__label {cursor: pointer;display: block;width: 100%;margin-bottom: 0;padding: 0.3em;box-sizing: border-box;text-align: center;}#sk-container-id-26 label.sk-toggleable__label-arrow:before {content: \"▸\";float: left;margin-right: 0.25em;color: #696969;}#sk-container-id-26 label.sk-toggleable__label-arrow:hover:before {color: black;}#sk-container-id-26 div.sk-estimator:hover label.sk-toggleable__label-arrow:before {color: black;}#sk-container-id-26 div.sk-toggleable__content {max-height: 0;max-width: 0;overflow: hidden;text-align: left;background-color: #f0f8ff;}#sk-container-id-26 div.sk-toggleable__content pre {margin: 0.2em;color: black;border-radius: 0.25em;background-color: #f0f8ff;}#sk-container-id-26 input.sk-toggleable__control:checked~div.sk-toggleable__content {max-height: 200px;max-width: 100%;overflow: auto;}#sk-container-id-26 input.sk-toggleable__control:checked~label.sk-toggleable__label-arrow:before {content: \"▾\";}#sk-container-id-26 div.sk-estimator input.sk-toggleable__control:checked~label.sk-toggleable__label {background-color: #d4ebff;}#sk-container-id-26 div.sk-label input.sk-toggleable__control:checked~label.sk-toggleable__label {background-color: #d4ebff;}#sk-container-id-26 input.sk-hidden--visually {border: 0;clip: rect(1px 1px 1px 1px);clip: rect(1px, 1px, 1px, 1px);height: 1px;margin: -1px;overflow: hidden;padding: 0;position: absolute;width: 1px;}#sk-container-id-26 div.sk-estimator {font-family: monospace;background-color: #f0f8ff;border: 1px dotted black;border-radius: 0.25em;box-sizing: border-box;margin-bottom: 0.5em;}#sk-container-id-26 div.sk-estimator:hover {background-color: #d4ebff;}#sk-container-id-26 div.sk-parallel-item::after {content: \"\";width: 100%;border-bottom: 1px solid gray;flex-grow: 1;}#sk-container-id-26 div.sk-label:hover label.sk-toggleable__label {background-color: #d4ebff;}#sk-container-id-26 div.sk-serial::before {content: \"\";position: absolute;border-left: 1px solid gray;box-sizing: border-box;top: 0;bottom: 0;left: 50%;z-index: 0;}#sk-container-id-26 div.sk-serial {display: flex;flex-direction: column;align-items: center;background-color: white;padding-right: 0.2em;padding-left: 0.2em;position: relative;}#sk-container-id-26 div.sk-item {position: relative;z-index: 1;}#sk-container-id-26 div.sk-parallel {display: flex;align-items: stretch;justify-content: center;background-color: white;position: relative;}#sk-container-id-26 div.sk-item::before, #sk-container-id-26 div.sk-parallel-item::before {content: \"\";position: absolute;border-left: 1px solid gray;box-sizing: border-box;top: 0;bottom: 0;left: 50%;z-index: -1;}#sk-container-id-26 div.sk-parallel-item {display: flex;flex-direction: column;z-index: 1;position: relative;background-color: white;}#sk-container-id-26 div.sk-parallel-item:first-child::after {align-self: flex-end;width: 50%;}#sk-container-id-26 div.sk-parallel-item:last-child::after {align-self: flex-start;width: 50%;}#sk-container-id-26 div.sk-parallel-item:only-child::after {width: 0;}#sk-container-id-26 div.sk-dashed-wrapped {border: 1px dashed gray;margin: 0 0.4em 0.5em 0.4em;box-sizing: border-box;padding-bottom: 0.4em;background-color: white;}#sk-container-id-26 div.sk-label label {font-family: monospace;font-weight: bold;display: inline-block;line-height: 1.2em;}#sk-container-id-26 div.sk-label-container {text-align: center;}#sk-container-id-26 div.sk-container {/* jupyter's `normalize.less` sets `[hidden] { display: none; }` but bootstrap.min.css set `[hidden] { display: none !important; }` so we also need the `!important` here to be able to override the default hidden behavior on the sphinx rendered scikit-learn.org. See: https://github.com/scikit-learn/scikit-learn/issues/21755 */display: inline-block !important;position: relative;}#sk-container-id-26 div.sk-text-repr-fallback {display: none;}</style><div id=\"sk-container-id-26\" class=\"sk-top-container\"><div class=\"sk-text-repr-fallback\"><pre>RandomizedSearchCV(cv=5, estimator=KNeighborsClassifier(n_jobs=-1), n_iter=100,\n",
       "                   n_jobs=-1,\n",
       "                   param_distributions={&#x27;n_neighbors&#x27;: &lt;scipy.stats._distn_infrastructure.rv_discrete_frozen object at 0x7fee6c2463b0&gt;,\n",
       "                                        &#x27;weights&#x27;: [&#x27;uniform&#x27;, &#x27;distance&#x27;]},\n",
       "                   random_state=2023, scoring=&#x27;neg_log_loss&#x27;, verbose=1)</pre><b>In a Jupyter environment, please rerun this cell to show the HTML representation or trust the notebook. <br />On GitHub, the HTML representation is unable to render, please try loading this page with nbviewer.org.</b></div><div class=\"sk-container\" hidden><div class=\"sk-item sk-dashed-wrapped\"><div class=\"sk-label-container\"><div class=\"sk-label sk-toggleable\"><input class=\"sk-toggleable__control sk-hidden--visually\" id=\"sk-estimator-id-72\" type=\"checkbox\" ><label for=\"sk-estimator-id-72\" class=\"sk-toggleable__label sk-toggleable__label-arrow\">RandomizedSearchCV</label><div class=\"sk-toggleable__content\"><pre>RandomizedSearchCV(cv=5, estimator=KNeighborsClassifier(n_jobs=-1), n_iter=100,\n",
       "                   n_jobs=-1,\n",
       "                   param_distributions={&#x27;n_neighbors&#x27;: &lt;scipy.stats._distn_infrastructure.rv_discrete_frozen object at 0x7fee6c2463b0&gt;,\n",
       "                                        &#x27;weights&#x27;: [&#x27;uniform&#x27;, &#x27;distance&#x27;]},\n",
       "                   random_state=2023, scoring=&#x27;neg_log_loss&#x27;, verbose=1)</pre></div></div></div><div class=\"sk-parallel\"><div class=\"sk-parallel-item\"><div class=\"sk-item\"><div class=\"sk-label-container\"><div class=\"sk-label sk-toggleable\"><input class=\"sk-toggleable__control sk-hidden--visually\" id=\"sk-estimator-id-73\" type=\"checkbox\" ><label for=\"sk-estimator-id-73\" class=\"sk-toggleable__label sk-toggleable__label-arrow\">estimator: KNeighborsClassifier</label><div class=\"sk-toggleable__content\"><pre>KNeighborsClassifier(n_jobs=-1)</pre></div></div></div><div class=\"sk-serial\"><div class=\"sk-item\"><div class=\"sk-estimator sk-toggleable\"><input class=\"sk-toggleable__control sk-hidden--visually\" id=\"sk-estimator-id-74\" type=\"checkbox\" ><label for=\"sk-estimator-id-74\" class=\"sk-toggleable__label sk-toggleable__label-arrow\">KNeighborsClassifier</label><div class=\"sk-toggleable__content\"><pre>KNeighborsClassifier(n_jobs=-1)</pre></div></div></div></div></div></div></div></div></div></div>"
      ],
      "text/plain": [
       "RandomizedSearchCV(cv=5, estimator=KNeighborsClassifier(n_jobs=-1), n_iter=100,\n",
       "                   n_jobs=-1,\n",
       "                   param_distributions={'n_neighbors': <scipy.stats._distn_infrastructure.rv_discrete_frozen object at 0x7fee6c2463b0>,\n",
       "                                        'weights': ['uniform', 'distance']},\n",
       "                   random_state=2023, scoring='neg_log_loss', verbose=1)"
      ]
     },
     "execution_count": 207,
     "metadata": {},
     "output_type": "execute_result"
    }
   ],
   "source": [
    "# fit \n",
    "knn_rnd_search.fit(X_train, y_train)"
   ]
  },
  {
   "cell_type": "code",
   "execution_count": 208,
   "id": "81bab2e6",
   "metadata": {},
   "outputs": [
    {
     "name": "stdout",
     "output_type": "stream",
     "text": [
      "Le meilleur score est (log loss moyen) : 0.34463107922334013\n",
      "Les meilleurs paramètres sont: {'n_neighbors': 45, 'weights': 'distance'}\n"
     ]
    }
   ],
   "source": [
    "results['KNN'] = -knn_rnd_search.best_score_\n",
    "print(f'Le meilleur score est (log loss moyen) : {-knn_rnd_search.best_score_}')\n",
    "print(f'Les meilleurs paramètres sont: {knn_rnd_search.best_params_}')"
   ]
  },
  {
   "cell_type": "code",
   "execution_count": 209,
   "id": "ef24123b",
   "metadata": {},
   "outputs": [],
   "source": [
    "# Score sur l'ensemble des données d'entrainement: Courbe ROC et AUC\n",
    "#y_train_pred_proba_knn_rnd = knn_rnd_search.best_estimator_.predict_proba(X_train)[:,1]\n",
    "#results['K voisins'] = y_train_pred_proba_knn_rnd\n",
    "\n",
    "#plot_roc_curve(y_train, results)\n",
    "\n",
    "#loss_log_knn = log_loss(y_train, y_train_pred_proba_knn_rnd)\n",
    "#results['KNN'] = loss_log_knn\n",
    "#print(f'Log loss knn = {loss_log_knn}')"
   ]
  },
  {
   "cell_type": "code",
   "execution_count": 210,
   "id": "19f81371",
   "metadata": {},
   "outputs": [
    {
     "data": {
      "image/png": "[encoded data removed]",
      "text/plain": [
       "<Figure size 640x480 with 1 Axes>"
      ]
     },
     "metadata": {},
     "output_type": "display_data"
    }
   ],
   "source": [
    "# Comparaison visuelle des log loss sur un digramme à bar\n",
    "plot_log_loss_bar(results)"
   ]
  },
  {
   "cell_type": "markdown",
   "id": "a476cccf",
   "metadata": {},
   "source": [
    "## Arbre de décision"
   ]
  },
  {
   "cell_type": "code",
   "execution_count": 213,
   "id": "53e324e6",
   "metadata": {},
   "outputs": [],
   "source": [
    "# Estimateur\n",
    "dt_cf = DecisionTreeClassifier(random_state=2023)"
   ]
  },
  {
   "cell_type": "code",
   "execution_count": 232,
   "id": "de9212f2",
   "metadata": {},
   "outputs": [],
   "source": [
    "# Paramètres de la recherche aléatoire\n",
    "param_rnd_search = dict(ccp_alpha = loguniform(1e-3, 1e3),\n",
    "                        criterion=['gini','entropy','log_loss'],\n",
    "                        max_depth=randint(2, 35))\n",
    "\n",
    "# Recherche aléatoire\n",
    "dt_rnd_search = RandomizedSearchCV(dt_cf, \n",
    "                                    param_rnd_search, \n",
    "                                    n_iter=100, \n",
    "                                    scoring='neg_log_loss', \n",
    "                                    cv=5, \n",
    "                                    verbose=1, \n",
    "                                    n_jobs=-1,\n",
    "                                    random_state=2023)"
   ]
  },
  {
   "cell_type": "code",
   "execution_count": 233,
   "id": "af8d959d",
   "metadata": {},
   "outputs": [
    {
     "name": "stdout",
     "output_type": "stream",
     "text": [
      "Fitting 5 folds for each of 100 candidates, totalling 500 fits\n"
     ]
    },
    {
     "data": {
      "text/html": [
       "<style>#sk-container-id-33 {color: black;background-color: white;}#sk-container-id-33 pre{padding: 0;}#sk-container-id-33 div.sk-toggleable {background-color: white;}#sk-container-id-33 label.sk-toggleable__label {cursor: pointer;display: block;width: 100%;margin-bottom: 0;padding: 0.3em;box-sizing: border-box;text-align: center;}#sk-container-id-33 label.sk-toggleable__label-arrow:before {content: \"▸\";float: left;margin-right: 0.25em;color: #696969;}#sk-container-id-33 label.sk-toggleable__label-arrow:hover:before {color: black;}#sk-container-id-33 div.sk-estimator:hover label.sk-toggleable__label-arrow:before {color: black;}#sk-container-id-33 div.sk-toggleable__content {max-height: 0;max-width: 0;overflow: hidden;text-align: left;background-color: #f0f8ff;}#sk-container-id-33 div.sk-toggleable__content pre {margin: 0.2em;color: black;border-radius: 0.25em;background-color: #f0f8ff;}#sk-container-id-33 input.sk-toggleable__control:checked~div.sk-toggleable__content {max-height: 200px;max-width: 100%;overflow: auto;}#sk-container-id-33 input.sk-toggleable__control:checked~label.sk-toggleable__label-arrow:before {content: \"▾\";}#sk-container-id-33 div.sk-estimator input.sk-toggleable__control:checked~label.sk-toggleable__label {background-color: #d4ebff;}#sk-container-id-33 div.sk-label input.sk-toggleable__control:checked~label.sk-toggleable__label {background-color: #d4ebff;}#sk-container-id-33 input.sk-hidden--visually {border: 0;clip: rect(1px 1px 1px 1px);clip: rect(1px, 1px, 1px, 1px);height: 1px;margin: -1px;overflow: hidden;padding: 0;position: absolute;width: 1px;}#sk-container-id-33 div.sk-estimator {font-family: monospace;background-color: #f0f8ff;border: 1px dotted black;border-radius: 0.25em;box-sizing: border-box;margin-bottom: 0.5em;}#sk-container-id-33 div.sk-estimator:hover {background-color: #d4ebff;}#sk-container-id-33 div.sk-parallel-item::after {content: \"\";width: 100%;border-bottom: 1px solid gray;flex-grow: 1;}#sk-container-id-33 div.sk-label:hover label.sk-toggleable__label {background-color: #d4ebff;}#sk-container-id-33 div.sk-serial::before {content: \"\";position: absolute;border-left: 1px solid gray;box-sizing: border-box;top: 0;bottom: 0;left: 50%;z-index: 0;}#sk-container-id-33 div.sk-serial {display: flex;flex-direction: column;align-items: center;background-color: white;padding-right: 0.2em;padding-left: 0.2em;position: relative;}#sk-container-id-33 div.sk-item {position: relative;z-index: 1;}#sk-container-id-33 div.sk-parallel {display: flex;align-items: stretch;justify-content: center;background-color: white;position: relative;}#sk-container-id-33 div.sk-item::before, #sk-container-id-33 div.sk-parallel-item::before {content: \"\";position: absolute;border-left: 1px solid gray;box-sizing: border-box;top: 0;bottom: 0;left: 50%;z-index: -1;}#sk-container-id-33 div.sk-parallel-item {display: flex;flex-direction: column;z-index: 1;position: relative;background-color: white;}#sk-container-id-33 div.sk-parallel-item:first-child::after {align-self: flex-end;width: 50%;}#sk-container-id-33 div.sk-parallel-item:last-child::after {align-self: flex-start;width: 50%;}#sk-container-id-33 div.sk-parallel-item:only-child::after {width: 0;}#sk-container-id-33 div.sk-dashed-wrapped {border: 1px dashed gray;margin: 0 0.4em 0.5em 0.4em;box-sizing: border-box;padding-bottom: 0.4em;background-color: white;}#sk-container-id-33 div.sk-label label {font-family: monospace;font-weight: bold;display: inline-block;line-height: 1.2em;}#sk-container-id-33 div.sk-label-container {text-align: center;}#sk-container-id-33 div.sk-container {/* jupyter's `normalize.less` sets `[hidden] { display: none; }` but bootstrap.min.css set `[hidden] { display: none !important; }` so we also need the `!important` here to be able to override the default hidden behavior on the sphinx rendered scikit-learn.org. See: https://github.com/scikit-learn/scikit-learn/issues/21755 */display: inline-block !important;position: relative;}#sk-container-id-33 div.sk-text-repr-fallback {display: none;}</style><div id=\"sk-container-id-33\" class=\"sk-top-container\"><div class=\"sk-text-repr-fallback\"><pre>RandomizedSearchCV(cv=5, estimator=DecisionTreeClassifier(), n_iter=100,\n",
       "                   n_jobs=-1,\n",
       "                   param_distributions={&#x27;ccp_alpha&#x27;: &lt;scipy.stats._distn_infrastructure.rv_continuous_frozen object at 0x7fef33ed3f10&gt;,\n",
       "                                        &#x27;criterion&#x27;: [&#x27;gini&#x27;, &#x27;entropy&#x27;,\n",
       "                                                      &#x27;log_loss&#x27;],\n",
       "                                        &#x27;max_depth&#x27;: &lt;scipy.stats._distn_infrastructure.rv_discrete_frozen object at 0x7fee2c7c6c50&gt;},\n",
       "                   random_state=2023, scoring=&#x27;neg_log_loss&#x27;, verbose=1)</pre><b>In a Jupyter environment, please rerun this cell to show the HTML representation or trust the notebook. <br />On GitHub, the HTML representation is unable to render, please try loading this page with nbviewer.org.</b></div><div class=\"sk-container\" hidden><div class=\"sk-item sk-dashed-wrapped\"><div class=\"sk-label-container\"><div class=\"sk-label sk-toggleable\"><input class=\"sk-toggleable__control sk-hidden--visually\" id=\"sk-estimator-id-91\" type=\"checkbox\" ><label for=\"sk-estimator-id-91\" class=\"sk-toggleable__label sk-toggleable__label-arrow\">RandomizedSearchCV</label><div class=\"sk-toggleable__content\"><pre>RandomizedSearchCV(cv=5, estimator=DecisionTreeClassifier(), n_iter=100,\n",
       "                   n_jobs=-1,\n",
       "                   param_distributions={&#x27;ccp_alpha&#x27;: &lt;scipy.stats._distn_infrastructure.rv_continuous_frozen object at 0x7fef33ed3f10&gt;,\n",
       "                                        &#x27;criterion&#x27;: [&#x27;gini&#x27;, &#x27;entropy&#x27;,\n",
       "                                                      &#x27;log_loss&#x27;],\n",
       "                                        &#x27;max_depth&#x27;: &lt;scipy.stats._distn_infrastructure.rv_discrete_frozen object at 0x7fee2c7c6c50&gt;},\n",
       "                   random_state=2023, scoring=&#x27;neg_log_loss&#x27;, verbose=1)</pre></div></div></div><div class=\"sk-parallel\"><div class=\"sk-parallel-item\"><div class=\"sk-item\"><div class=\"sk-label-container\"><div class=\"sk-label sk-toggleable\"><input class=\"sk-toggleable__control sk-hidden--visually\" id=\"sk-estimator-id-92\" type=\"checkbox\" ><label for=\"sk-estimator-id-92\" class=\"sk-toggleable__label sk-toggleable__label-arrow\">estimator: DecisionTreeClassifier</label><div class=\"sk-toggleable__content\"><pre>DecisionTreeClassifier()</pre></div></div></div><div class=\"sk-serial\"><div class=\"sk-item\"><div class=\"sk-estimator sk-toggleable\"><input class=\"sk-toggleable__control sk-hidden--visually\" id=\"sk-estimator-id-93\" type=\"checkbox\" ><label for=\"sk-estimator-id-93\" class=\"sk-toggleable__label sk-toggleable__label-arrow\">DecisionTreeClassifier</label><div class=\"sk-toggleable__content\"><pre>DecisionTreeClassifier()</pre></div></div></div></div></div></div></div></div></div></div>"
      ],
      "text/plain": [
       "RandomizedSearchCV(cv=5, estimator=DecisionTreeClassifier(), n_iter=100,\n",
       "                   n_jobs=-1,\n",
       "                   param_distributions={'ccp_alpha': <scipy.stats._distn_infrastructure.rv_continuous_frozen object at 0x7fef33ed3f10>,\n",
       "                                        'criterion': ['gini', 'entropy',\n",
       "                                                      'log_loss'],\n",
       "                                        'max_depth': <scipy.stats._distn_infrastructure.rv_discrete_frozen object at 0x7fee2c7c6c50>},\n",
       "                   random_state=2023, scoring='neg_log_loss', verbose=1)"
      ]
     },
     "execution_count": 233,
     "metadata": {},
     "output_type": "execute_result"
    }
   ],
   "source": [
    "# fit \n",
    "dt_rnd_search.fit(X_train, y_train)"
   ]
  },
  {
   "cell_type": "code",
   "execution_count": 234,
   "id": "1ed35f94",
   "metadata": {},
   "outputs": [
    {
     "name": "stdout",
     "output_type": "stream",
     "text": [
      "Le meilleur score est (log loss moyen) : 0.37529387182936513\n",
      "Les meilleurs paramètres sont: {'ccp_alpha': 0.0019705610514033317, 'criterion': 'gini', 'max_depth': 8}\n"
     ]
    }
   ],
   "source": [
    "results['Decision Tree'] = -dt_rnd_search.best_score_\n",
    "print(f'Le meilleur score est (log loss moyen) : {-dt_rnd_search.best_score_}')\n",
    "print(f'Les meilleurs paramètres sont: {dt_rnd_search.best_params_}')"
   ]
  },
  {
   "cell_type": "code",
   "execution_count": 235,
   "id": "d39d0796",
   "metadata": {},
   "outputs": [
    {
     "data": {
      "image/png": "[encoded data removed]",
      "text/plain": [
       "<Figure size 640x480 with 1 Axes>"
      ]
     },
     "metadata": {},
     "output_type": "display_data"
    }
   ],
   "source": [
    "# Comparaison visuelle des log loss sur un digramme à bar\n",
    "plot_log_loss_bar(results)"
   ]
  },
  {
   "cell_type": "markdown",
   "id": "6768a463",
   "metadata": {},
   "source": [
    "## Forêt aléatoire"
   ]
  },
  {
   "cell_type": "code",
   "execution_count": null,
   "id": "dba51db9",
   "metadata": {},
   "outputs": [],
   "source": [
    "- choix des meilleurs hyperparamètres,\n",
    "- bagging, \n",
    "- boosting"
   ]
  }
 ],
 "metadata": {
  "kernelspec": {
   "display_name": "Python 3 (ipykernel)",
   "language": "python",
   "name": "python3"
  },
  "language_info": {
   "codemirror_mode": {
    "name": "ipython",
    "version": 3
   },
   "file_extension": ".py",
   "mimetype": "text/x-python",
   "name": "python",
   "nbconvert_exporter": "python",
   "pygments_lexer": "ipython3",
   "version": "3.10.9"
  }
 },
 "nbformat": 4,
 "nbformat_minor": 5
}
