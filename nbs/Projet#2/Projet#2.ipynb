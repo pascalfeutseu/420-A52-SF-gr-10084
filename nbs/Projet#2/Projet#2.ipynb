{
 "cells": [
  {
   "cell_type": "code",
   "execution_count": 1,
   "id": "3c67535d",
   "metadata": {},
   "outputs": [],
   "source": [
    "%reload_ext autoreload\n",
    "%autoreload 2\n",
    "%matplotlib inline"
   ]
  },
  {
   "cell_type": "markdown",
   "id": "d3406ccf",
   "metadata": {},
   "source": [
    "### NB: ---Nous avons constaté qu'avec la recherche par grille tout comme aléatoire, le score pour l'ensemble des données d'entrainement, est presque parfait avec les métriques 'auc' et 'log loss', pour le modèle KNeighborsClassifier. Raison pour laquelle nous avons décidé de  comparer nos différents modèles sur le best score retournés par la recherche aléatoire /grille, car celui n'est pas affecté par ce problème. Ce pourrait être un bug lié à scikit learn et notre environnement de travail, car d'autres étudiants n'ont pas eu ce problème (Nous travaillons avec l'image docker du cours et avec docker desktop). Nous examinerons d'avantage ce problème plus tard ---"
   ]
  },
  {
   "cell_type": "markdown",
   "id": "d90338f4",
   "metadata": {},
   "source": [
    "# 1- Bibilothèques"
   ]
  },
  {
   "cell_type": "code",
   "execution_count": 2,
   "id": "eab59be0",
   "metadata": {},
   "outputs": [],
   "source": [
    "import numpy as np\n",
    "import pandas as pd\n",
    "import seaborn as sns\n",
    "#from sklearn.utils.fixes import loguniform\n",
    "from sklearn.model_selection import StratifiedKFold\n",
    "from sklearn.preprocessing import StandardScaler\n",
    "from scipy.stats import randint\n",
    "from scipy.stats import loguniform\n",
    "from sklearn.model_selection import train_test_split\n",
    "from sklearn.dummy import DummyClassifier\n",
    "from sklearn.metrics import roc_auc_score\n",
    "from sklearn.metrics import roc_curve\n",
    "from sklearn.metrics import log_loss\n",
    "import matplotlib.pyplot as plt\n",
    "from sklearn.model_selection import RandomizedSearchCV\n",
    "from sklearn.model_selection import GridSearchCV\n",
    "from sklearn.linear_model import LogisticRegression\n",
    "from sklearn.linear_model import LogisticRegressionCV\n",
    "from sklearn.neighbors import KNeighborsClassifier\n",
    "from sklearn.tree import DecisionTreeClassifier\n",
    "from sklearn.ensemble import RandomForestClassifier\n",
    "from sklearn.ensemble import GradientBoostingClassifier\n",
    "from sklearn.ensemble import BaggingClassifier\n",
    "from sklearn.ensemble import AdaBoostClassifier\n",
    "from sklearn.ensemble import VotingClassifier\n",
    "from sklearn.ensemble import StackingClassifier\n",
    "from sklearn.model_selection import cross_val_predict\n",
    "from sklearn.model_selection import cross_val_score"
   ]
  },
  {
   "cell_type": "code",
   "execution_count": 3,
   "id": "d04fc9ce",
   "metadata": {},
   "outputs": [],
   "source": [
    "# fonction pour afficher plusieurs courbe ROC sur une même figure\n",
    "def plot_roc_curve(y_train, results):\n",
    "    plt.figure().clear()\n",
    "    for key in results:\n",
    "        fpr, tpr, thresholds = roc_curve(y_train, results[key], drop_intermediate=False)\n",
    "        auc = roc_auc_score(y_train, results[key])\n",
    "        plt.plot(fpr, tpr, label = key +', auc = '+str(auc))\n",
    "    plt.legend(loc=4)        "
   ]
  },
  {
   "cell_type": "code",
   "execution_count": 4,
   "id": "011eaaa4",
   "metadata": {},
   "outputs": [],
   "source": [
    "# fonctions pour afficher plusieurs diagrammes à baton afin de comparer visuellement les scores log loss\n",
    "def addlabels(x,y):\n",
    "    for key in results:\n",
    "        plt.text(key, results[key], round(results[key],3), ha = 'center')\n",
    "\n",
    "def plot_log_loss_bar(results):\n",
    "    x = np.arange(len(results))\n",
    "    plt.bar(results.keys(), results.values(), width=0.1)\n",
    "    plt.xticks(rotation=90)\n",
    "    plt.ylabel('Log los')\n",
    "    plt.title('Score log loss pour chaque modèle')\n",
    "    plt.xlabel('Modèles')\n",
    "    addlabels(results.keys(),results.values())\n",
    "    plt.show()"
   ]
  },
  {
   "cell_type": "markdown",
   "id": "1f384613",
   "metadata": {},
   "source": [
    "# 2- Lecture et exploration des données"
   ]
  },
  {
   "cell_type": "code",
   "execution_count": 5,
   "id": "07cb090f",
   "metadata": {},
   "outputs": [],
   "source": [
    "donnees = pd.read_csv('../../data/chansons.csv')"
   ]
  },
  {
   "cell_type": "code",
   "execution_count": 6,
   "id": "b6eb8e96",
   "metadata": {},
   "outputs": [
    {
     "data": {
      "text/plain": [
       "(7574, 39)"
      ]
     },
     "execution_count": 6,
     "metadata": {},
     "output_type": "execute_result"
    }
   ],
   "source": [
    "# Tailles du jeux de données\n",
    "donnees.shape"
   ]
  },
  {
   "cell_type": "code",
   "execution_count": 7,
   "id": "c98b3608",
   "metadata": {},
   "outputs": [
    {
     "data": {
      "text/html": [
       "<div>\n",
       "<style scoped>\n",
       "    .dataframe tbody tr th:only-of-type {\n",
       "        vertical-align: middle;\n",
       "    }\n",
       "\n",
       "    .dataframe tbody tr th {\n",
       "        vertical-align: top;\n",
       "    }\n",
       "\n",
       "    .dataframe thead th {\n",
       "        text-align: right;\n",
       "    }\n",
       "</style>\n",
       "<table border=\"1\" class=\"dataframe\">\n",
       "  <thead>\n",
       "    <tr style=\"text-align: right;\">\n",
       "      <th></th>\n",
       "      <th>annee</th>\n",
       "      <th>titre</th>\n",
       "      <th>artiste</th>\n",
       "      <th>chansonID</th>\n",
       "      <th>artisteID</th>\n",
       "      <th>signature_temp</th>\n",
       "      <th>signature_temp_confiance</th>\n",
       "      <th>intensite</th>\n",
       "      <th>tempo</th>\n",
       "      <th>tempo_confiance</th>\n",
       "      <th>...</th>\n",
       "      <th>timbre_7_max</th>\n",
       "      <th>timbre_8_min</th>\n",
       "      <th>timbre_8_max</th>\n",
       "      <th>timbre_9_min</th>\n",
       "      <th>timbre_9_max</th>\n",
       "      <th>timbre_10_min</th>\n",
       "      <th>timbre_10_max</th>\n",
       "      <th>timbre_11_min</th>\n",
       "      <th>timbre_11_max</th>\n",
       "      <th>Top10</th>\n",
       "    </tr>\n",
       "  </thead>\n",
       "  <tbody>\n",
       "    <tr>\n",
       "      <th>0</th>\n",
       "      <td>2010</td>\n",
       "      <td>This Is the House That Doubt Built</td>\n",
       "      <td>A Day to Remember</td>\n",
       "      <td>SOBGGAB12C5664F054</td>\n",
       "      <td>AROBSHL1187B9AFB01</td>\n",
       "      <td>3</td>\n",
       "      <td>0.853</td>\n",
       "      <td>-4.262</td>\n",
       "      <td>91.525</td>\n",
       "      <td>0.953</td>\n",
       "      <td>...</td>\n",
       "      <td>82.475</td>\n",
       "      <td>-52.025</td>\n",
       "      <td>39.116</td>\n",
       "      <td>-35.368</td>\n",
       "      <td>71.642</td>\n",
       "      <td>-126.440</td>\n",
       "      <td>18.658</td>\n",
       "      <td>-44.770</td>\n",
       "      <td>25.989</td>\n",
       "      <td>0</td>\n",
       "    </tr>\n",
       "    <tr>\n",
       "      <th>1</th>\n",
       "      <td>2010</td>\n",
       "      <td>Sticks &amp; Bricks</td>\n",
       "      <td>A Day to Remember</td>\n",
       "      <td>SOPAQHU1315CD47F31</td>\n",
       "      <td>AROBSHL1187B9AFB01</td>\n",
       "      <td>4</td>\n",
       "      <td>1.000</td>\n",
       "      <td>-4.051</td>\n",
       "      <td>140.048</td>\n",
       "      <td>0.921</td>\n",
       "      <td>...</td>\n",
       "      <td>106.918</td>\n",
       "      <td>-61.320</td>\n",
       "      <td>35.378</td>\n",
       "      <td>-81.928</td>\n",
       "      <td>74.574</td>\n",
       "      <td>-103.808</td>\n",
       "      <td>121.935</td>\n",
       "      <td>-38.892</td>\n",
       "      <td>22.513</td>\n",
       "      <td>0</td>\n",
       "    </tr>\n",
       "    <tr>\n",
       "      <th>2</th>\n",
       "      <td>2010</td>\n",
       "      <td>All I Want</td>\n",
       "      <td>A Day to Remember</td>\n",
       "      <td>SOOIZOU1376E7C6386</td>\n",
       "      <td>AROBSHL1187B9AFB01</td>\n",
       "      <td>4</td>\n",
       "      <td>1.000</td>\n",
       "      <td>-3.571</td>\n",
       "      <td>160.512</td>\n",
       "      <td>0.489</td>\n",
       "      <td>...</td>\n",
       "      <td>80.621</td>\n",
       "      <td>-59.773</td>\n",
       "      <td>45.979</td>\n",
       "      <td>-46.293</td>\n",
       "      <td>59.904</td>\n",
       "      <td>-108.313</td>\n",
       "      <td>33.300</td>\n",
       "      <td>-43.733</td>\n",
       "      <td>25.744</td>\n",
       "      <td>0</td>\n",
       "    </tr>\n",
       "    <tr>\n",
       "      <th>3</th>\n",
       "      <td>2010</td>\n",
       "      <td>It's Complicated</td>\n",
       "      <td>A Day to Remember</td>\n",
       "      <td>SODRYWD1315CD49DBE</td>\n",
       "      <td>AROBSHL1187B9AFB01</td>\n",
       "      <td>4</td>\n",
       "      <td>1.000</td>\n",
       "      <td>-3.815</td>\n",
       "      <td>97.525</td>\n",
       "      <td>0.794</td>\n",
       "      <td>...</td>\n",
       "      <td>96.675</td>\n",
       "      <td>-78.660</td>\n",
       "      <td>41.088</td>\n",
       "      <td>-49.194</td>\n",
       "      <td>95.440</td>\n",
       "      <td>-102.676</td>\n",
       "      <td>46.422</td>\n",
       "      <td>-59.439</td>\n",
       "      <td>37.082</td>\n",
       "      <td>0</td>\n",
       "    </tr>\n",
       "    <tr>\n",
       "      <th>4</th>\n",
       "      <td>2010</td>\n",
       "      <td>2nd Sucks</td>\n",
       "      <td>A Day to Remember</td>\n",
       "      <td>SOICMQB1315CD46EE3</td>\n",
       "      <td>AROBSHL1187B9AFB01</td>\n",
       "      <td>4</td>\n",
       "      <td>0.788</td>\n",
       "      <td>-4.707</td>\n",
       "      <td>140.053</td>\n",
       "      <td>0.286</td>\n",
       "      <td>...</td>\n",
       "      <td>110.332</td>\n",
       "      <td>-56.450</td>\n",
       "      <td>37.555</td>\n",
       "      <td>-48.588</td>\n",
       "      <td>67.570</td>\n",
       "      <td>-52.796</td>\n",
       "      <td>22.888</td>\n",
       "      <td>-50.414</td>\n",
       "      <td>32.758</td>\n",
       "      <td>0</td>\n",
       "    </tr>\n",
       "    <tr>\n",
       "      <th>5</th>\n",
       "      <td>2010</td>\n",
       "      <td>Better Off This Way</td>\n",
       "      <td>A Day to Remember</td>\n",
       "      <td>SOCEYON1315CD4A23E</td>\n",
       "      <td>AROBSHL1187B9AFB01</td>\n",
       "      <td>4</td>\n",
       "      <td>1.000</td>\n",
       "      <td>-3.807</td>\n",
       "      <td>160.366</td>\n",
       "      <td>0.347</td>\n",
       "      <td>...</td>\n",
       "      <td>91.117</td>\n",
       "      <td>-54.378</td>\n",
       "      <td>53.808</td>\n",
       "      <td>-33.183</td>\n",
       "      <td>54.657</td>\n",
       "      <td>-64.478</td>\n",
       "      <td>34.522</td>\n",
       "      <td>-40.922</td>\n",
       "      <td>36.453</td>\n",
       "      <td>0</td>\n",
       "    </tr>\n",
       "    <tr>\n",
       "      <th>6</th>\n",
       "      <td>2010</td>\n",
       "      <td>All Signs Point to Lauderdale</td>\n",
       "      <td>A Day to Remember</td>\n",
       "      <td>SODZEHH1377566C93F</td>\n",
       "      <td>AROBSHL1187B9AFB01</td>\n",
       "      <td>4</td>\n",
       "      <td>0.968</td>\n",
       "      <td>-4.114</td>\n",
       "      <td>149.967</td>\n",
       "      <td>0.273</td>\n",
       "      <td>...</td>\n",
       "      <td>97.938</td>\n",
       "      <td>-57.289</td>\n",
       "      <td>34.989</td>\n",
       "      <td>-35.724</td>\n",
       "      <td>72.925</td>\n",
       "      <td>-66.070</td>\n",
       "      <td>75.881</td>\n",
       "      <td>-51.232</td>\n",
       "      <td>28.741</td>\n",
       "      <td>0</td>\n",
       "    </tr>\n",
       "    <tr>\n",
       "      <th>7</th>\n",
       "      <td>2010</td>\n",
       "      <td>Out of Time</td>\n",
       "      <td>A Day to Remember</td>\n",
       "      <td>SOJQXRI12C5664F058</td>\n",
       "      <td>AROBSHL1187B9AFB01</td>\n",
       "      <td>4</td>\n",
       "      <td>0.861</td>\n",
       "      <td>-3.683</td>\n",
       "      <td>160.328</td>\n",
       "      <td>0.830</td>\n",
       "      <td>...</td>\n",
       "      <td>114.817</td>\n",
       "      <td>-56.108</td>\n",
       "      <td>25.915</td>\n",
       "      <td>-69.726</td>\n",
       "      <td>112.780</td>\n",
       "      <td>-117.207</td>\n",
       "      <td>27.494</td>\n",
       "      <td>-50.713</td>\n",
       "      <td>31.470</td>\n",
       "      <td>0</td>\n",
       "    </tr>\n",
       "    <tr>\n",
       "      <th>8</th>\n",
       "      <td>2010</td>\n",
       "      <td>If I Leave</td>\n",
       "      <td>A Day to Remember</td>\n",
       "      <td>SOWCXMH137733DA46E</td>\n",
       "      <td>AROBSHL1187B9AFB01</td>\n",
       "      <td>4</td>\n",
       "      <td>0.622</td>\n",
       "      <td>-4.967</td>\n",
       "      <td>155.112</td>\n",
       "      <td>0.018</td>\n",
       "      <td>...</td>\n",
       "      <td>67.466</td>\n",
       "      <td>-53.234</td>\n",
       "      <td>40.445</td>\n",
       "      <td>-33.081</td>\n",
       "      <td>50.643</td>\n",
       "      <td>-61.121</td>\n",
       "      <td>50.245</td>\n",
       "      <td>-53.695</td>\n",
       "      <td>26.625</td>\n",
       "      <td>0</td>\n",
       "    </tr>\n",
       "    <tr>\n",
       "      <th>9</th>\n",
       "      <td>2010</td>\n",
       "      <td>Whataya Want From Me</td>\n",
       "      <td>Adam Lambert</td>\n",
       "      <td>SOFOBLL13A9E22142F</td>\n",
       "      <td>ARIGTAO11FED0C4411</td>\n",
       "      <td>4</td>\n",
       "      <td>0.938</td>\n",
       "      <td>-15.557</td>\n",
       "      <td>95.904</td>\n",
       "      <td>0.929</td>\n",
       "      <td>...</td>\n",
       "      <td>99.150</td>\n",
       "      <td>-69.346</td>\n",
       "      <td>56.233</td>\n",
       "      <td>-94.733</td>\n",
       "      <td>62.789</td>\n",
       "      <td>-102.870</td>\n",
       "      <td>65.328</td>\n",
       "      <td>-48.411</td>\n",
       "      <td>47.376</td>\n",
       "      <td>1</td>\n",
       "    </tr>\n",
       "  </tbody>\n",
       "</table>\n",
       "<p>10 rows × 39 columns</p>\n",
       "</div>"
      ],
      "text/plain": [
       "   annee                               titre            artiste  \\\n",
       "0   2010  This Is the House That Doubt Built  A Day to Remember   \n",
       "1   2010                     Sticks & Bricks  A Day to Remember   \n",
       "2   2010                          All I Want  A Day to Remember   \n",
       "3   2010                    It's Complicated  A Day to Remember   \n",
       "4   2010                           2nd Sucks  A Day to Remember   \n",
       "5   2010                 Better Off This Way  A Day to Remember   \n",
       "6   2010       All Signs Point to Lauderdale  A Day to Remember   \n",
       "7   2010                         Out of Time  A Day to Remember   \n",
       "8   2010                          If I Leave  A Day to Remember   \n",
       "9   2010                Whataya Want From Me       Adam Lambert   \n",
       "\n",
       "            chansonID           artisteID  signature_temp  \\\n",
       "0  SOBGGAB12C5664F054  AROBSHL1187B9AFB01               3   \n",
       "1  SOPAQHU1315CD47F31  AROBSHL1187B9AFB01               4   \n",
       "2  SOOIZOU1376E7C6386  AROBSHL1187B9AFB01               4   \n",
       "3  SODRYWD1315CD49DBE  AROBSHL1187B9AFB01               4   \n",
       "4  SOICMQB1315CD46EE3  AROBSHL1187B9AFB01               4   \n",
       "5  SOCEYON1315CD4A23E  AROBSHL1187B9AFB01               4   \n",
       "6  SODZEHH1377566C93F  AROBSHL1187B9AFB01               4   \n",
       "7  SOJQXRI12C5664F058  AROBSHL1187B9AFB01               4   \n",
       "8  SOWCXMH137733DA46E  AROBSHL1187B9AFB01               4   \n",
       "9  SOFOBLL13A9E22142F  ARIGTAO11FED0C4411               4   \n",
       "\n",
       "   signature_temp_confiance  intensite    tempo  tempo_confiance  ...  \\\n",
       "0                     0.853     -4.262   91.525            0.953  ...   \n",
       "1                     1.000     -4.051  140.048            0.921  ...   \n",
       "2                     1.000     -3.571  160.512            0.489  ...   \n",
       "3                     1.000     -3.815   97.525            0.794  ...   \n",
       "4                     0.788     -4.707  140.053            0.286  ...   \n",
       "5                     1.000     -3.807  160.366            0.347  ...   \n",
       "6                     0.968     -4.114  149.967            0.273  ...   \n",
       "7                     0.861     -3.683  160.328            0.830  ...   \n",
       "8                     0.622     -4.967  155.112            0.018  ...   \n",
       "9                     0.938    -15.557   95.904            0.929  ...   \n",
       "\n",
       "   timbre_7_max  timbre_8_min  timbre_8_max  timbre_9_min  timbre_9_max  \\\n",
       "0        82.475       -52.025        39.116       -35.368        71.642   \n",
       "1       106.918       -61.320        35.378       -81.928        74.574   \n",
       "2        80.621       -59.773        45.979       -46.293        59.904   \n",
       "3        96.675       -78.660        41.088       -49.194        95.440   \n",
       "4       110.332       -56.450        37.555       -48.588        67.570   \n",
       "5        91.117       -54.378        53.808       -33.183        54.657   \n",
       "6        97.938       -57.289        34.989       -35.724        72.925   \n",
       "7       114.817       -56.108        25.915       -69.726       112.780   \n",
       "8        67.466       -53.234        40.445       -33.081        50.643   \n",
       "9        99.150       -69.346        56.233       -94.733        62.789   \n",
       "\n",
       "   timbre_10_min  timbre_10_max  timbre_11_min  timbre_11_max  Top10  \n",
       "0       -126.440         18.658        -44.770         25.989      0  \n",
       "1       -103.808        121.935        -38.892         22.513      0  \n",
       "2       -108.313         33.300        -43.733         25.744      0  \n",
       "3       -102.676         46.422        -59.439         37.082      0  \n",
       "4        -52.796         22.888        -50.414         32.758      0  \n",
       "5        -64.478         34.522        -40.922         36.453      0  \n",
       "6        -66.070         75.881        -51.232         28.741      0  \n",
       "7       -117.207         27.494        -50.713         31.470      0  \n",
       "8        -61.121         50.245        -53.695         26.625      0  \n",
       "9       -102.870         65.328        -48.411         47.376      1  \n",
       "\n",
       "[10 rows x 39 columns]"
      ]
     },
     "execution_count": 7,
     "metadata": {},
     "output_type": "execute_result"
    }
   ],
   "source": [
    "# Affichages des 10 premières lignes de données pour en avoir une idée\n",
    "donnees.head(10)"
   ]
  },
  {
   "cell_type": "code",
   "execution_count": 8,
   "id": "b772e96c",
   "metadata": {},
   "outputs": [
    {
     "data": {
      "text/html": [
       "<div>\n",
       "<style scoped>\n",
       "    .dataframe tbody tr th:only-of-type {\n",
       "        vertical-align: middle;\n",
       "    }\n",
       "\n",
       "    .dataframe tbody tr th {\n",
       "        vertical-align: top;\n",
       "    }\n",
       "\n",
       "    .dataframe thead th {\n",
       "        text-align: right;\n",
       "    }\n",
       "</style>\n",
       "<table border=\"1\" class=\"dataframe\">\n",
       "  <thead>\n",
       "    <tr style=\"text-align: right;\">\n",
       "      <th></th>\n",
       "      <th>annee</th>\n",
       "      <th>signature_temp</th>\n",
       "      <th>signature_temp_confiance</th>\n",
       "      <th>intensite</th>\n",
       "      <th>tempo</th>\n",
       "      <th>tempo_confiance</th>\n",
       "      <th>gamme</th>\n",
       "      <th>gamme_confiance</th>\n",
       "      <th>energie</th>\n",
       "      <th>hauteur</th>\n",
       "      <th>...</th>\n",
       "      <th>timbre_7_max</th>\n",
       "      <th>timbre_8_min</th>\n",
       "      <th>timbre_8_max</th>\n",
       "      <th>timbre_9_min</th>\n",
       "      <th>timbre_9_max</th>\n",
       "      <th>timbre_10_min</th>\n",
       "      <th>timbre_10_max</th>\n",
       "      <th>timbre_11_min</th>\n",
       "      <th>timbre_11_max</th>\n",
       "      <th>Top10</th>\n",
       "    </tr>\n",
       "  </thead>\n",
       "  <tbody>\n",
       "    <tr>\n",
       "      <th>count</th>\n",
       "      <td>7574.000000</td>\n",
       "      <td>7574.000000</td>\n",
       "      <td>7574.000000</td>\n",
       "      <td>7574.000000</td>\n",
       "      <td>7574.000000</td>\n",
       "      <td>7574.000000</td>\n",
       "      <td>7574.000000</td>\n",
       "      <td>7574.000000</td>\n",
       "      <td>7574.000000</td>\n",
       "      <td>7574.000000</td>\n",
       "      <td>...</td>\n",
       "      <td>7574.000000</td>\n",
       "      <td>7574.000000</td>\n",
       "      <td>7574.000000</td>\n",
       "      <td>7574.000000</td>\n",
       "      <td>7574.000000</td>\n",
       "      <td>7574.000000</td>\n",
       "      <td>7574.000000</td>\n",
       "      <td>7574.000000</td>\n",
       "      <td>7574.000000</td>\n",
       "      <td>7574.000000</td>\n",
       "    </tr>\n",
       "    <tr>\n",
       "      <th>mean</th>\n",
       "      <td>2001.455902</td>\n",
       "      <td>3.893979</td>\n",
       "      <td>0.853307</td>\n",
       "      <td>-8.817262</td>\n",
       "      <td>107.348267</td>\n",
       "      <td>0.622866</td>\n",
       "      <td>5.384605</td>\n",
       "      <td>0.433843</td>\n",
       "      <td>0.675471</td>\n",
       "      <td>0.010817</td>\n",
       "      <td>...</td>\n",
       "      <td>95.653221</td>\n",
       "      <td>-63.703984</td>\n",
       "      <td>50.057489</td>\n",
       "      <td>-59.515016</td>\n",
       "      <td>68.028067</td>\n",
       "      <td>-87.340055</td>\n",
       "      <td>55.520722</td>\n",
       "      <td>-50.868457</td>\n",
       "      <td>47.490774</td>\n",
       "      <td>0.147742</td>\n",
       "    </tr>\n",
       "    <tr>\n",
       "      <th>std</th>\n",
       "      <td>5.815223</td>\n",
       "      <td>0.532561</td>\n",
       "      <td>0.243748</td>\n",
       "      <td>4.377079</td>\n",
       "      <td>24.665030</td>\n",
       "      <td>0.304656</td>\n",
       "      <td>3.572579</td>\n",
       "      <td>0.273826</td>\n",
       "      <td>0.243473</td>\n",
       "      <td>0.013671</td>\n",
       "      <td>...</td>\n",
       "      <td>26.859726</td>\n",
       "      <td>15.970244</td>\n",
       "      <td>14.463524</td>\n",
       "      <td>17.190527</td>\n",
       "      <td>20.381321</td>\n",
       "      <td>30.464274</td>\n",
       "      <td>23.549473</td>\n",
       "      <td>11.701530</td>\n",
       "      <td>12.463966</td>\n",
       "      <td>0.354868</td>\n",
       "    </tr>\n",
       "    <tr>\n",
       "      <th>min</th>\n",
       "      <td>1990.000000</td>\n",
       "      <td>0.000000</td>\n",
       "      <td>0.000000</td>\n",
       "      <td>-42.451000</td>\n",
       "      <td>0.000000</td>\n",
       "      <td>0.000000</td>\n",
       "      <td>0.000000</td>\n",
       "      <td>0.000000</td>\n",
       "      <td>0.000020</td>\n",
       "      <td>0.000000</td>\n",
       "      <td>...</td>\n",
       "      <td>15.699000</td>\n",
       "      <td>-158.756000</td>\n",
       "      <td>-25.955000</td>\n",
       "      <td>-149.507000</td>\n",
       "      <td>8.415000</td>\n",
       "      <td>-208.819000</td>\n",
       "      <td>-6.359000</td>\n",
       "      <td>-145.599000</td>\n",
       "      <td>7.200000</td>\n",
       "      <td>0.000000</td>\n",
       "    </tr>\n",
       "    <tr>\n",
       "      <th>25%</th>\n",
       "      <td>1997.000000</td>\n",
       "      <td>4.000000</td>\n",
       "      <td>0.819250</td>\n",
       "      <td>-10.847000</td>\n",
       "      <td>88.860250</td>\n",
       "      <td>0.372000</td>\n",
       "      <td>2.000000</td>\n",
       "      <td>0.204000</td>\n",
       "      <td>0.500138</td>\n",
       "      <td>0.003000</td>\n",
       "      <td>...</td>\n",
       "      <td>76.498000</td>\n",
       "      <td>-73.050750</td>\n",
       "      <td>40.584500</td>\n",
       "      <td>-70.282500</td>\n",
       "      <td>53.037250</td>\n",
       "      <td>-105.130250</td>\n",
       "      <td>39.196000</td>\n",
       "      <td>-58.058000</td>\n",
       "      <td>38.975250</td>\n",
       "      <td>0.000000</td>\n",
       "    </tr>\n",
       "    <tr>\n",
       "      <th>50%</th>\n",
       "      <td>2002.000000</td>\n",
       "      <td>4.000000</td>\n",
       "      <td>0.979000</td>\n",
       "      <td>-7.649000</td>\n",
       "      <td>103.268000</td>\n",
       "      <td>0.701500</td>\n",
       "      <td>6.000000</td>\n",
       "      <td>0.451500</td>\n",
       "      <td>0.718160</td>\n",
       "      <td>0.007000</td>\n",
       "      <td>...</td>\n",
       "      <td>94.632500</td>\n",
       "      <td>-62.661500</td>\n",
       "      <td>49.220000</td>\n",
       "      <td>-58.650000</td>\n",
       "      <td>65.935000</td>\n",
       "      <td>-83.074000</td>\n",
       "      <td>50.895000</td>\n",
       "      <td>-50.892500</td>\n",
       "      <td>46.437500</td>\n",
       "      <td>0.000000</td>\n",
       "    </tr>\n",
       "    <tr>\n",
       "      <th>75%</th>\n",
       "      <td>2006.000000</td>\n",
       "      <td>4.000000</td>\n",
       "      <td>1.000000</td>\n",
       "      <td>-5.640000</td>\n",
       "      <td>124.800500</td>\n",
       "      <td>0.892000</td>\n",
       "      <td>9.000000</td>\n",
       "      <td>0.646000</td>\n",
       "      <td>0.887396</td>\n",
       "      <td>0.014000</td>\n",
       "      <td>...</td>\n",
       "      <td>112.708250</td>\n",
       "      <td>-52.982750</td>\n",
       "      <td>58.462000</td>\n",
       "      <td>-47.699750</td>\n",
       "      <td>81.267000</td>\n",
       "      <td>-64.518000</td>\n",
       "      <td>66.593000</td>\n",
       "      <td>-43.292250</td>\n",
       "      <td>55.030250</td>\n",
       "      <td>0.000000</td>\n",
       "    </tr>\n",
       "    <tr>\n",
       "      <th>max</th>\n",
       "      <td>2010.000000</td>\n",
       "      <td>7.000000</td>\n",
       "      <td>1.000000</td>\n",
       "      <td>1.305000</td>\n",
       "      <td>244.307000</td>\n",
       "      <td>1.000000</td>\n",
       "      <td>11.000000</td>\n",
       "      <td>1.000000</td>\n",
       "      <td>0.998492</td>\n",
       "      <td>0.541000</td>\n",
       "      <td>...</td>\n",
       "      <td>214.819000</td>\n",
       "      <td>-2.382000</td>\n",
       "      <td>144.985000</td>\n",
       "      <td>1.140000</td>\n",
       "      <td>161.518000</td>\n",
       "      <td>-10.640000</td>\n",
       "      <td>192.417000</td>\n",
       "      <td>-6.497000</td>\n",
       "      <td>110.272000</td>\n",
       "      <td>1.000000</td>\n",
       "    </tr>\n",
       "  </tbody>\n",
       "</table>\n",
       "<p>8 rows × 35 columns</p>\n",
       "</div>"
      ],
      "text/plain": [
       "             annee  signature_temp  signature_temp_confiance    intensite  \\\n",
       "count  7574.000000     7574.000000               7574.000000  7574.000000   \n",
       "mean   2001.455902        3.893979                  0.853307    -8.817262   \n",
       "std       5.815223        0.532561                  0.243748     4.377079   \n",
       "min    1990.000000        0.000000                  0.000000   -42.451000   \n",
       "25%    1997.000000        4.000000                  0.819250   -10.847000   \n",
       "50%    2002.000000        4.000000                  0.979000    -7.649000   \n",
       "75%    2006.000000        4.000000                  1.000000    -5.640000   \n",
       "max    2010.000000        7.000000                  1.000000     1.305000   \n",
       "\n",
       "             tempo  tempo_confiance        gamme  gamme_confiance  \\\n",
       "count  7574.000000      7574.000000  7574.000000      7574.000000   \n",
       "mean    107.348267         0.622866     5.384605         0.433843   \n",
       "std      24.665030         0.304656     3.572579         0.273826   \n",
       "min       0.000000         0.000000     0.000000         0.000000   \n",
       "25%      88.860250         0.372000     2.000000         0.204000   \n",
       "50%     103.268000         0.701500     6.000000         0.451500   \n",
       "75%     124.800500         0.892000     9.000000         0.646000   \n",
       "max     244.307000         1.000000    11.000000         1.000000   \n",
       "\n",
       "           energie      hauteur  ...  timbre_7_max  timbre_8_min  \\\n",
       "count  7574.000000  7574.000000  ...   7574.000000   7574.000000   \n",
       "mean      0.675471     0.010817  ...     95.653221    -63.703984   \n",
       "std       0.243473     0.013671  ...     26.859726     15.970244   \n",
       "min       0.000020     0.000000  ...     15.699000   -158.756000   \n",
       "25%       0.500138     0.003000  ...     76.498000    -73.050750   \n",
       "50%       0.718160     0.007000  ...     94.632500    -62.661500   \n",
       "75%       0.887396     0.014000  ...    112.708250    -52.982750   \n",
       "max       0.998492     0.541000  ...    214.819000     -2.382000   \n",
       "\n",
       "       timbre_8_max  timbre_9_min  timbre_9_max  timbre_10_min  timbre_10_max  \\\n",
       "count   7574.000000   7574.000000   7574.000000    7574.000000    7574.000000   \n",
       "mean      50.057489    -59.515016     68.028067     -87.340055      55.520722   \n",
       "std       14.463524     17.190527     20.381321      30.464274      23.549473   \n",
       "min      -25.955000   -149.507000      8.415000    -208.819000      -6.359000   \n",
       "25%       40.584500    -70.282500     53.037250    -105.130250      39.196000   \n",
       "50%       49.220000    -58.650000     65.935000     -83.074000      50.895000   \n",
       "75%       58.462000    -47.699750     81.267000     -64.518000      66.593000   \n",
       "max      144.985000      1.140000    161.518000     -10.640000     192.417000   \n",
       "\n",
       "       timbre_11_min  timbre_11_max        Top10  \n",
       "count    7574.000000    7574.000000  7574.000000  \n",
       "mean      -50.868457      47.490774     0.147742  \n",
       "std        11.701530      12.463966     0.354868  \n",
       "min      -145.599000       7.200000     0.000000  \n",
       "25%       -58.058000      38.975250     0.000000  \n",
       "50%       -50.892500      46.437500     0.000000  \n",
       "75%       -43.292250      55.030250     0.000000  \n",
       "max        -6.497000     110.272000     1.000000  \n",
       "\n",
       "[8 rows x 35 columns]"
      ]
     },
     "execution_count": 8,
     "metadata": {},
     "output_type": "execute_result"
    }
   ],
   "source": [
    "# Statistiques descriptives des colonnees numériques du jeu de données\n",
    "donnees.describe()"
   ]
  },
  {
   "cell_type": "code",
   "execution_count": 9,
   "id": "17e74628",
   "metadata": {},
   "outputs": [
    {
     "data": {
      "text/html": [
       "<div>\n",
       "<style scoped>\n",
       "    .dataframe tbody tr th:only-of-type {\n",
       "        vertical-align: middle;\n",
       "    }\n",
       "\n",
       "    .dataframe tbody tr th {\n",
       "        vertical-align: top;\n",
       "    }\n",
       "\n",
       "    .dataframe thead th {\n",
       "        text-align: right;\n",
       "    }\n",
       "</style>\n",
       "<table border=\"1\" class=\"dataframe\">\n",
       "  <thead>\n",
       "    <tr style=\"text-align: right;\">\n",
       "      <th></th>\n",
       "      <th>titre</th>\n",
       "      <th>artiste</th>\n",
       "      <th>chansonID</th>\n",
       "      <th>artisteID</th>\n",
       "    </tr>\n",
       "  </thead>\n",
       "  <tbody>\n",
       "    <tr>\n",
       "      <th>count</th>\n",
       "      <td>7574</td>\n",
       "      <td>7574</td>\n",
       "      <td>7574</td>\n",
       "      <td>7574</td>\n",
       "    </tr>\n",
       "    <tr>\n",
       "      <th>unique</th>\n",
       "      <td>7141</td>\n",
       "      <td>1032</td>\n",
       "      <td>7549</td>\n",
       "      <td>1047</td>\n",
       "    </tr>\n",
       "    <tr>\n",
       "      <th>top</th>\n",
       "      <td>Intro</td>\n",
       "      <td>Various artists</td>\n",
       "      <td>SOKLHIK131343A2E06</td>\n",
       "      <td>ARAGWS81187FB3F768</td>\n",
       "    </tr>\n",
       "    <tr>\n",
       "      <th>freq</th>\n",
       "      <td>15</td>\n",
       "      <td>162</td>\n",
       "      <td>2</td>\n",
       "      <td>222</td>\n",
       "    </tr>\n",
       "  </tbody>\n",
       "</table>\n",
       "</div>"
      ],
      "text/plain": [
       "        titre          artiste           chansonID           artisteID\n",
       "count    7574             7574                7574                7574\n",
       "unique   7141             1032                7549                1047\n",
       "top     Intro  Various artists  SOKLHIK131343A2E06  ARAGWS81187FB3F768\n",
       "freq       15              162                   2                 222"
      ]
     },
     "execution_count": 9,
     "metadata": {},
     "output_type": "execute_result"
    }
   ],
   "source": [
    "# Statistiques descriptives des colonnes catégoriques\n",
    "donnees.describe(exclude='number')"
   ]
  },
  {
   "cell_type": "code",
   "execution_count": 10,
   "id": "2157d55d",
   "metadata": {},
   "outputs": [],
   "source": [
    "# NB: Nous n'observons aucune valeur manquante au regard des statistiques précédentes"
   ]
  },
  {
   "cell_type": "code",
   "execution_count": 11,
   "id": "471d0747",
   "metadata": {},
   "outputs": [],
   "source": [
    "#g = sns.PairGrid(donnees.select_dtypes(include='number'))\n",
    "#g = g.map(sns.scatterplot)"
   ]
  },
  {
   "cell_type": "markdown",
   "id": "ee5e753b",
   "metadata": {},
   "source": [
    "# 3- Préparation des données"
   ]
  },
  {
   "cell_type": "code",
   "execution_count": 12,
   "id": "f3bdcbe1",
   "metadata": {},
   "outputs": [],
   "source": [
    "# Au regard du nombre très élévé de valeurs possibles pour les variables catégoriques (titre, artiste, chansonID et artisteID),\n",
    "# nous allons nous passer de ces variables dans nos modèles pour éviter le fleaux de la dimension.\n",
    "donnees_numerique = donnees.select_dtypes(exclude='object')\n",
    "#donnees_numerique"
   ]
  },
  {
   "cell_type": "code",
   "execution_count": 13,
   "id": "c677b8c3",
   "metadata": {},
   "outputs": [],
   "source": [
    "# Variables explicatives et variable expliquée\n",
    "X = donnees_numerique.drop('Top10', axis=1)\n",
    "y = donnees_numerique['Top10']"
   ]
  },
  {
   "cell_type": "code",
   "execution_count": 14,
   "id": "079618c8",
   "metadata": {},
   "outputs": [],
   "source": [
    "# Normalisation des variables explicatives: malgré la différence d'échelle qui n'est pas significative entre les valeurs,\n",
    "# nous allons normaliser nos variables explicatives\n",
    "scaler = StandardScaler()\n",
    "scaler.fit(X)\n",
    "X_scaled = scaler.transform(X)"
   ]
  },
  {
   "cell_type": "markdown",
   "id": "bcfd5176",
   "metadata": {},
   "source": [
    "# 4- Séparation des données en Train-Test"
   ]
  },
  {
   "cell_type": "code",
   "execution_count": 15,
   "id": "3f2c7ff9",
   "metadata": {},
   "outputs": [
    {
     "name": "stdout",
     "output_type": "stream",
     "text": [
      "Proportition de la classe positive = 0.14774227620808028\n"
     ]
    }
   ],
   "source": [
    "# Observation sur le débalancement des classes: Proportition de la classe positive(1) vs classe négative(0)\n",
    "prop_classe_positive = y.sum() / len(y)\n",
    "print(f'Proportition de la classe positive = {prop_classe_positive}')"
   ]
  },
  {
   "cell_type": "code",
   "execution_count": 16,
   "id": "e4b2a3ba",
   "metadata": {},
   "outputs": [],
   "source": [
    "# Vu le debalancement observé, nous allons, pour toute validation croisée utiliser une validation sur 5 plis strafiés, lorsque \n",
    "# le classificateur ne le fournit pas, définie comme suit\n",
    "strat_kfold = StratifiedKFold(n_splits=5, shuffle=True, random_state=2023)"
   ]
  },
  {
   "cell_type": "code",
   "execution_count": 17,
   "id": "62d072b5",
   "metadata": {},
   "outputs": [],
   "source": [
    "X_train, X_test, y_train, y_test = train_test_split(X_scaled, y, stratify=y, random_state=2023, shuffle=True, test_size=0.25)"
   ]
  },
  {
   "cell_type": "markdown",
   "id": "afebae2a",
   "metadata": {},
   "source": [
    "# 5- Modélisation\n",
    "Pour chacun des modèles (sauf le baseline), nous allons utiliser la recherche aléatoire pour trouver les meilleurs hyperparametres."
   ]
  },
  {
   "cell_type": "markdown",
   "id": "73d5aa27",
   "metadata": {},
   "source": [
    "## 5.1- Modèle baseline"
   ]
  },
  {
   "cell_type": "code",
   "execution_count": 18,
   "id": "d4a0818e",
   "metadata": {},
   "outputs": [
    {
     "data": {
      "text/html": [
       "<style>#sk-container-id-1 {color: black;background-color: white;}#sk-container-id-1 pre{padding: 0;}#sk-container-id-1 div.sk-toggleable {background-color: white;}#sk-container-id-1 label.sk-toggleable__label {cursor: pointer;display: block;width: 100%;margin-bottom: 0;padding: 0.3em;box-sizing: border-box;text-align: center;}#sk-container-id-1 label.sk-toggleable__label-arrow:before {content: \"▸\";float: left;margin-right: 0.25em;color: #696969;}#sk-container-id-1 label.sk-toggleable__label-arrow:hover:before {color: black;}#sk-container-id-1 div.sk-estimator:hover label.sk-toggleable__label-arrow:before {color: black;}#sk-container-id-1 div.sk-toggleable__content {max-height: 0;max-width: 0;overflow: hidden;text-align: left;background-color: #f0f8ff;}#sk-container-id-1 div.sk-toggleable__content pre {margin: 0.2em;color: black;border-radius: 0.25em;background-color: #f0f8ff;}#sk-container-id-1 input.sk-toggleable__control:checked~div.sk-toggleable__content {max-height: 200px;max-width: 100%;overflow: auto;}#sk-container-id-1 input.sk-toggleable__control:checked~label.sk-toggleable__label-arrow:before {content: \"▾\";}#sk-container-id-1 div.sk-estimator input.sk-toggleable__control:checked~label.sk-toggleable__label {background-color: #d4ebff;}#sk-container-id-1 div.sk-label input.sk-toggleable__control:checked~label.sk-toggleable__label {background-color: #d4ebff;}#sk-container-id-1 input.sk-hidden--visually {border: 0;clip: rect(1px 1px 1px 1px);clip: rect(1px, 1px, 1px, 1px);height: 1px;margin: -1px;overflow: hidden;padding: 0;position: absolute;width: 1px;}#sk-container-id-1 div.sk-estimator {font-family: monospace;background-color: #f0f8ff;border: 1px dotted black;border-radius: 0.25em;box-sizing: border-box;margin-bottom: 0.5em;}#sk-container-id-1 div.sk-estimator:hover {background-color: #d4ebff;}#sk-container-id-1 div.sk-parallel-item::after {content: \"\";width: 100%;border-bottom: 1px solid gray;flex-grow: 1;}#sk-container-id-1 div.sk-label:hover label.sk-toggleable__label {background-color: #d4ebff;}#sk-container-id-1 div.sk-serial::before {content: \"\";position: absolute;border-left: 1px solid gray;box-sizing: border-box;top: 0;bottom: 0;left: 50%;z-index: 0;}#sk-container-id-1 div.sk-serial {display: flex;flex-direction: column;align-items: center;background-color: white;padding-right: 0.2em;padding-left: 0.2em;position: relative;}#sk-container-id-1 div.sk-item {position: relative;z-index: 1;}#sk-container-id-1 div.sk-parallel {display: flex;align-items: stretch;justify-content: center;background-color: white;position: relative;}#sk-container-id-1 div.sk-item::before, #sk-container-id-1 div.sk-parallel-item::before {content: \"\";position: absolute;border-left: 1px solid gray;box-sizing: border-box;top: 0;bottom: 0;left: 50%;z-index: -1;}#sk-container-id-1 div.sk-parallel-item {display: flex;flex-direction: column;z-index: 1;position: relative;background-color: white;}#sk-container-id-1 div.sk-parallel-item:first-child::after {align-self: flex-end;width: 50%;}#sk-container-id-1 div.sk-parallel-item:last-child::after {align-self: flex-start;width: 50%;}#sk-container-id-1 div.sk-parallel-item:only-child::after {width: 0;}#sk-container-id-1 div.sk-dashed-wrapped {border: 1px dashed gray;margin: 0 0.4em 0.5em 0.4em;box-sizing: border-box;padding-bottom: 0.4em;background-color: white;}#sk-container-id-1 div.sk-label label {font-family: monospace;font-weight: bold;display: inline-block;line-height: 1.2em;}#sk-container-id-1 div.sk-label-container {text-align: center;}#sk-container-id-1 div.sk-container {/* jupyter's `normalize.less` sets `[hidden] { display: none; }` but bootstrap.min.css set `[hidden] { display: none !important; }` so we also need the `!important` here to be able to override the default hidden behavior on the sphinx rendered scikit-learn.org. See: https://github.com/scikit-learn/scikit-learn/issues/21755 */display: inline-block !important;position: relative;}#sk-container-id-1 div.sk-text-repr-fallback {display: none;}</style><div id=\"sk-container-id-1\" class=\"sk-top-container\"><div class=\"sk-text-repr-fallback\"><pre>DummyClassifier(strategy=&#x27;most_frequent&#x27;)</pre><b>In a Jupyter environment, please rerun this cell to show the HTML representation or trust the notebook. <br />On GitHub, the HTML representation is unable to render, please try loading this page with nbviewer.org.</b></div><div class=\"sk-container\" hidden><div class=\"sk-item\"><div class=\"sk-estimator sk-toggleable\"><input class=\"sk-toggleable__control sk-hidden--visually\" id=\"sk-estimator-id-1\" type=\"checkbox\" checked><label for=\"sk-estimator-id-1\" class=\"sk-toggleable__label sk-toggleable__label-arrow\">DummyClassifier</label><div class=\"sk-toggleable__content\"><pre>DummyClassifier(strategy=&#x27;most_frequent&#x27;)</pre></div></div></div></div></div>"
      ],
      "text/plain": [
       "DummyClassifier(strategy='most_frequent')"
      ]
     },
     "execution_count": 18,
     "metadata": {},
     "output_type": "execute_result"
    }
   ],
   "source": [
    "baseline_cf = DummyClassifier(strategy='most_frequent')\n",
    "baseline_cf.fit(X_train,y_train)"
   ]
  },
  {
   "cell_type": "code",
   "execution_count": 19,
   "id": "aa313cc1",
   "metadata": {},
   "outputs": [
    {
     "name": "stdout",
     "output_type": "stream",
     "text": [
      "Log loss Baseline = 5.324053731244594\n"
     ]
    }
   ],
   "source": [
    "# Score sur l'ensemble des données d'entrainement: Courbe ROC et AUC\n",
    "results = {}\n",
    "y_pred_proba_baseline = baseline_cf.predict_proba(X_train)[:,1]\n",
    "#results['Baseline'] = y_pred_proba_baseline\n",
    "\n",
    "#plot_roc_curve(y_train, results)\n",
    "\n",
    "loss_baseline = log_loss(y_train, y_pred_proba_baseline)\n",
    "results['Baseline'] = loss_baseline\n",
    "print(f'Log loss Baseline = {loss_baseline}')"
   ]
  },
  {
   "cell_type": "code",
   "execution_count": 20,
   "id": "33f7609b",
   "metadata": {},
   "outputs": [
    {
     "data": {
      "image/png": "[encoded data removed]",
      "text/plain": [
       "<Figure size 640x480 with 1 Axes>"
      ]
     },
     "metadata": {},
     "output_type": "display_data"
    }
   ],
   "source": [
    "# Comparaison visuelle des log loss sur un digramme à bar\n",
    "plot_log_loss_bar(results)"
   ]
  },
  {
   "cell_type": "markdown",
   "id": "38efdd88",
   "metadata": {},
   "source": [
    "## 5.2- Regression logistique avec recherche aléatoire des meilleurs hyperparamètres"
   ]
  },
  {
   "cell_type": "code",
   "execution_count": 21,
   "id": "7b3b7a83",
   "metadata": {},
   "outputs": [],
   "source": [
    "# Estimateur\n",
    "lg_reg = LogisticRegression(penalty='elasticnet', solver='saga', n_jobs=-1, max_iter=10000, random_state=2023)"
   ]
  },
  {
   "cell_type": "code",
   "execution_count": 22,
   "id": "d9634225",
   "metadata": {},
   "outputs": [],
   "source": [
    "# Parametre grille\n",
    "#param_grid = {'C': [1e-2, 1e-1, 0.3, 1e-0, 10, 76, 100], 'l1_ratio' : [0, 0.5, 1]}\n",
    "\n",
    "# Recherche grille\n",
    "#log_reg_grid_search = GridSearchCV(lg_reg, param_grid, scoring='roc_auc', cv=5, verbose=1, n_jobs=-1)\n",
    "\n",
    "# fit grille\n",
    "#log_reg_grid_search.fit(X_train, y_train)\n",
    "\n",
    "#print(f'Le meilleur score grille est (auc moyen) : {log_reg_grid_search.best_score_}')\n",
    "#print(f'Les meilleurs paramètres grille sont: {log_reg_grid_search.best_params_}')\n",
    "\n",
    "# Score sur l'ensemble des données d'entrainement: Courbe ROC et AUC\n",
    "#y_train_pred_proba_lg_reg = log_reg_grid_search.best_estimator_.predict_proba(X_train)[:,1]\n",
    "#results['Regression logistique grille'] = y_train_pred_proba_lg_reg\n",
    "\n",
    "#plot_roc_curve(y_train, results)"
   ]
  },
  {
   "cell_type": "code",
   "execution_count": 23,
   "id": "3e67a90c",
   "metadata": {},
   "outputs": [],
   "source": [
    "# Paramètres de la recherche aléatoire\n",
    "param_rnd_search = dict(C = loguniform(1e-20, 1e2), l1_ratio = loguniform(10e-10,1))\n",
    "\n",
    "# Recherche aléatoire: Nous précisons la valeur de cv pour avoir une validation croisée stratifiées à 5 plis\n",
    "log_reg_rnd_search = RandomizedSearchCV(lg_reg, \n",
    "                                        param_rnd_search, \n",
    "                                        n_iter=100, \n",
    "                                        scoring='neg_log_loss', \n",
    "                                        cv=5, \n",
    "                                        verbose=1, \n",
    "                                        n_jobs=-1,\n",
    "                                        random_state=2023)"
   ]
  },
  {
   "cell_type": "code",
   "execution_count": 24,
   "id": "3a34c206",
   "metadata": {},
   "outputs": [
    {
     "name": "stdout",
     "output_type": "stream",
     "text": [
      "Fitting 5 folds for each of 100 candidates, totalling 500 fits\n"
     ]
    },
    {
     "data": {
      "text/html": [
       "<style>#sk-container-id-2 {color: black;background-color: white;}#sk-container-id-2 pre{padding: 0;}#sk-container-id-2 div.sk-toggleable {background-color: white;}#sk-container-id-2 label.sk-toggleable__label {cursor: pointer;display: block;width: 100%;margin-bottom: 0;padding: 0.3em;box-sizing: border-box;text-align: center;}#sk-container-id-2 label.sk-toggleable__label-arrow:before {content: \"▸\";float: left;margin-right: 0.25em;color: #696969;}#sk-container-id-2 label.sk-toggleable__label-arrow:hover:before {color: black;}#sk-container-id-2 div.sk-estimator:hover label.sk-toggleable__label-arrow:before {color: black;}#sk-container-id-2 div.sk-toggleable__content {max-height: 0;max-width: 0;overflow: hidden;text-align: left;background-color: #f0f8ff;}#sk-container-id-2 div.sk-toggleable__content pre {margin: 0.2em;color: black;border-radius: 0.25em;background-color: #f0f8ff;}#sk-container-id-2 input.sk-toggleable__control:checked~div.sk-toggleable__content {max-height: 200px;max-width: 100%;overflow: auto;}#sk-container-id-2 input.sk-toggleable__control:checked~label.sk-toggleable__label-arrow:before {content: \"▾\";}#sk-container-id-2 div.sk-estimator input.sk-toggleable__control:checked~label.sk-toggleable__label {background-color: #d4ebff;}#sk-container-id-2 div.sk-label input.sk-toggleable__control:checked~label.sk-toggleable__label {background-color: #d4ebff;}#sk-container-id-2 input.sk-hidden--visually {border: 0;clip: rect(1px 1px 1px 1px);clip: rect(1px, 1px, 1px, 1px);height: 1px;margin: -1px;overflow: hidden;padding: 0;position: absolute;width: 1px;}#sk-container-id-2 div.sk-estimator {font-family: monospace;background-color: #f0f8ff;border: 1px dotted black;border-radius: 0.25em;box-sizing: border-box;margin-bottom: 0.5em;}#sk-container-id-2 div.sk-estimator:hover {background-color: #d4ebff;}#sk-container-id-2 div.sk-parallel-item::after {content: \"\";width: 100%;border-bottom: 1px solid gray;flex-grow: 1;}#sk-container-id-2 div.sk-label:hover label.sk-toggleable__label {background-color: #d4ebff;}#sk-container-id-2 div.sk-serial::before {content: \"\";position: absolute;border-left: 1px solid gray;box-sizing: border-box;top: 0;bottom: 0;left: 50%;z-index: 0;}#sk-container-id-2 div.sk-serial {display: flex;flex-direction: column;align-items: center;background-color: white;padding-right: 0.2em;padding-left: 0.2em;position: relative;}#sk-container-id-2 div.sk-item {position: relative;z-index: 1;}#sk-container-id-2 div.sk-parallel {display: flex;align-items: stretch;justify-content: center;background-color: white;position: relative;}#sk-container-id-2 div.sk-item::before, #sk-container-id-2 div.sk-parallel-item::before {content: \"\";position: absolute;border-left: 1px solid gray;box-sizing: border-box;top: 0;bottom: 0;left: 50%;z-index: -1;}#sk-container-id-2 div.sk-parallel-item {display: flex;flex-direction: column;z-index: 1;position: relative;background-color: white;}#sk-container-id-2 div.sk-parallel-item:first-child::after {align-self: flex-end;width: 50%;}#sk-container-id-2 div.sk-parallel-item:last-child::after {align-self: flex-start;width: 50%;}#sk-container-id-2 div.sk-parallel-item:only-child::after {width: 0;}#sk-container-id-2 div.sk-dashed-wrapped {border: 1px dashed gray;margin: 0 0.4em 0.5em 0.4em;box-sizing: border-box;padding-bottom: 0.4em;background-color: white;}#sk-container-id-2 div.sk-label label {font-family: monospace;font-weight: bold;display: inline-block;line-height: 1.2em;}#sk-container-id-2 div.sk-label-container {text-align: center;}#sk-container-id-2 div.sk-container {/* jupyter's `normalize.less` sets `[hidden] { display: none; }` but bootstrap.min.css set `[hidden] { display: none !important; }` so we also need the `!important` here to be able to override the default hidden behavior on the sphinx rendered scikit-learn.org. See: https://github.com/scikit-learn/scikit-learn/issues/21755 */display: inline-block !important;position: relative;}#sk-container-id-2 div.sk-text-repr-fallback {display: none;}</style><div id=\"sk-container-id-2\" class=\"sk-top-container\"><div class=\"sk-text-repr-fallback\"><pre>RandomizedSearchCV(cv=5,\n",
       "                   estimator=LogisticRegression(max_iter=10000, n_jobs=-1,\n",
       "                                                penalty=&#x27;elasticnet&#x27;,\n",
       "                                                random_state=2023,\n",
       "                                                solver=&#x27;saga&#x27;),\n",
       "                   n_iter=100, n_jobs=-1,\n",
       "                   param_distributions={&#x27;C&#x27;: &lt;scipy.stats._distn_infrastructure.rv_continuous_frozen object at 0x7fbd33d9be20&gt;,\n",
       "                                        &#x27;l1_ratio&#x27;: &lt;scipy.stats._distn_infrastructure.rv_continuous_frozen object at 0x7fbd33dec070&gt;},\n",
       "                   random_state=2023, scoring=&#x27;neg_log_loss&#x27;, verbose=1)</pre><b>In a Jupyter environment, please rerun this cell to show the HTML representation or trust the notebook. <br />On GitHub, the HTML representation is unable to render, please try loading this page with nbviewer.org.</b></div><div class=\"sk-container\" hidden><div class=\"sk-item sk-dashed-wrapped\"><div class=\"sk-label-container\"><div class=\"sk-label sk-toggleable\"><input class=\"sk-toggleable__control sk-hidden--visually\" id=\"sk-estimator-id-2\" type=\"checkbox\" ><label for=\"sk-estimator-id-2\" class=\"sk-toggleable__label sk-toggleable__label-arrow\">RandomizedSearchCV</label><div class=\"sk-toggleable__content\"><pre>RandomizedSearchCV(cv=5,\n",
       "                   estimator=LogisticRegression(max_iter=10000, n_jobs=-1,\n",
       "                                                penalty=&#x27;elasticnet&#x27;,\n",
       "                                                random_state=2023,\n",
       "                                                solver=&#x27;saga&#x27;),\n",
       "                   n_iter=100, n_jobs=-1,\n",
       "                   param_distributions={&#x27;C&#x27;: &lt;scipy.stats._distn_infrastructure.rv_continuous_frozen object at 0x7fbd33d9be20&gt;,\n",
       "                                        &#x27;l1_ratio&#x27;: &lt;scipy.stats._distn_infrastructure.rv_continuous_frozen object at 0x7fbd33dec070&gt;},\n",
       "                   random_state=2023, scoring=&#x27;neg_log_loss&#x27;, verbose=1)</pre></div></div></div><div class=\"sk-parallel\"><div class=\"sk-parallel-item\"><div class=\"sk-item\"><div class=\"sk-label-container\"><div class=\"sk-label sk-toggleable\"><input class=\"sk-toggleable__control sk-hidden--visually\" id=\"sk-estimator-id-3\" type=\"checkbox\" ><label for=\"sk-estimator-id-3\" class=\"sk-toggleable__label sk-toggleable__label-arrow\">estimator: LogisticRegression</label><div class=\"sk-toggleable__content\"><pre>LogisticRegression(max_iter=10000, n_jobs=-1, penalty=&#x27;elasticnet&#x27;,\n",
       "                   random_state=2023, solver=&#x27;saga&#x27;)</pre></div></div></div><div class=\"sk-serial\"><div class=\"sk-item\"><div class=\"sk-estimator sk-toggleable\"><input class=\"sk-toggleable__control sk-hidden--visually\" id=\"sk-estimator-id-4\" type=\"checkbox\" ><label for=\"sk-estimator-id-4\" class=\"sk-toggleable__label sk-toggleable__label-arrow\">LogisticRegression</label><div class=\"sk-toggleable__content\"><pre>LogisticRegression(max_iter=10000, n_jobs=-1, penalty=&#x27;elasticnet&#x27;,\n",
       "                   random_state=2023, solver=&#x27;saga&#x27;)</pre></div></div></div></div></div></div></div></div></div></div>"
      ],
      "text/plain": [
       "RandomizedSearchCV(cv=5,\n",
       "                   estimator=LogisticRegression(max_iter=10000, n_jobs=-1,\n",
       "                                                penalty='elasticnet',\n",
       "                                                random_state=2023,\n",
       "                                                solver='saga'),\n",
       "                   n_iter=100, n_jobs=-1,\n",
       "                   param_distributions={'C': <scipy.stats._distn_infrastructure.rv_continuous_frozen object at 0x7fbd33d9be20>,\n",
       "                                        'l1_ratio': <scipy.stats._distn_infrastructure.rv_continuous_frozen object at 0x7fbd33dec070>},\n",
       "                   random_state=2023, scoring='neg_log_loss', verbose=1)"
      ]
     },
     "execution_count": 24,
     "metadata": {},
     "output_type": "execute_result"
    }
   ],
   "source": [
    "# fit \n",
    "log_reg_rnd_search.fit(X_train, y_train)"
   ]
  },
  {
   "cell_type": "code",
   "execution_count": 25,
   "id": "235e7807",
   "metadata": {},
   "outputs": [
    {
     "name": "stdout",
     "output_type": "stream",
     "text": [
      "Le meilleur score est (log loss moyen) : 0.3289362627688452\n",
      "Les meilleurs paramètres sont: {'C': 0.6193889824323069, 'l1_ratio': 0.2996004362847121}\n"
     ]
    }
   ],
   "source": [
    "results['Regression logistique'] = -log_reg_rnd_search.best_score_\n",
    "print(f'Le meilleur score est (log loss moyen) : {-log_reg_rnd_search.best_score_}')\n",
    "print(f'Les meilleurs paramètres sont: {log_reg_rnd_search.best_params_}')\n",
    "best_lr = log_reg_rnd_search.best_estimator_"
   ]
  },
  {
   "cell_type": "code",
   "execution_count": 26,
   "id": "61c41bef",
   "metadata": {},
   "outputs": [],
   "source": [
    "# Score sur l'ensemble des données d'entrainement\n",
    "#y_train_pred_proba_lg_reg_rnd = log_reg_rnd_search.best_estimator_.predict_proba(X_train)[:,1]\n",
    "#results['Regression logistique'] = y_train_pred_proba_lg_reg_rnd\n",
    "\n",
    "#plot_roc_curve(y_train, results)\n",
    "\n",
    "#loss_log_reg = log_loss(y_train, y_train_pred_proba_lg_reg_rnd)\n",
    "#results['Regression logistique'] = loss_log_reg\n",
    "#print(f'Log loss Regression Logistique = {loss_log_reg}')"
   ]
  },
  {
   "cell_type": "code",
   "execution_count": 27,
   "id": "c2199be2",
   "metadata": {},
   "outputs": [
    {
     "data": {
      "image/png": "[encoded data removed]",
      "text/plain": [
       "<Figure size 640x480 with 1 Axes>"
      ]
     },
     "metadata": {},
     "output_type": "display_data"
    }
   ],
   "source": [
    "# Comparaison visuelle des log loss sur un digramme à bar\n",
    "plot_log_loss_bar(results)"
   ]
  },
  {
   "cell_type": "markdown",
   "id": "759488f1",
   "metadata": {},
   "source": [
    "## 5.3- K plus proches voisin avec recherche aléatoire des meilleurs hyperparamètres"
   ]
  },
  {
   "cell_type": "code",
   "execution_count": 28,
   "id": "4af1850e",
   "metadata": {},
   "outputs": [],
   "source": [
    "# Estimateur\n",
    "knn_cf = KNeighborsClassifier(n_jobs=-1)"
   ]
  },
  {
   "cell_type": "code",
   "execution_count": 29,
   "id": "afca79f5",
   "metadata": {},
   "outputs": [],
   "source": [
    "# Paramètres de la recherche aléatoire\n",
    "param_rnd_search = dict(n_neighbors = randint(2, 50), weights = ['uniform', 'distance'])\n",
    "\n",
    "# Remarque: avec np.arange(2, 51,1), le score est le même, mais le nombre de voisin pour le meilleur estimateur change.\n",
    "# randint semble retourner plusieurs fois les valeurs pour satisfaire le nombre d'itération si cela s'impose, alors \n",
    "# que np.arange ne le fait pas. Par exemple, si nous mettons randint(2, 10), on s'attendrait à avoir 9*2 = 18 possibilités pour \n",
    "# nos paramètres, mais on réussit quand même à faire 100 iterations avec cela. Comment? nous allons creuser cela plutard.\n",
    "\n",
    "# Recherche aléatoire\n",
    "knn_rnd_search = RandomizedSearchCV(knn_cf, \n",
    "                                    param_rnd_search, \n",
    "                                    n_iter=100, \n",
    "                                    scoring='neg_log_loss', \n",
    "                                    cv=5, \n",
    "                                    verbose=1, \n",
    "                                    n_jobs=-1,\n",
    "                                    random_state=2023)"
   ]
  },
  {
   "cell_type": "code",
   "execution_count": 30,
   "id": "fd4f70d0",
   "metadata": {},
   "outputs": [
    {
     "name": "stdout",
     "output_type": "stream",
     "text": [
      "Fitting 5 folds for each of 100 candidates, totalling 500 fits\n"
     ]
    },
    {
     "data": {
      "text/html": [
       "<style>#sk-container-id-3 {color: black;background-color: white;}#sk-container-id-3 pre{padding: 0;}#sk-container-id-3 div.sk-toggleable {background-color: white;}#sk-container-id-3 label.sk-toggleable__label {cursor: pointer;display: block;width: 100%;margin-bottom: 0;padding: 0.3em;box-sizing: border-box;text-align: center;}#sk-container-id-3 label.sk-toggleable__label-arrow:before {content: \"▸\";float: left;margin-right: 0.25em;color: #696969;}#sk-container-id-3 label.sk-toggleable__label-arrow:hover:before {color: black;}#sk-container-id-3 div.sk-estimator:hover label.sk-toggleable__label-arrow:before {color: black;}#sk-container-id-3 div.sk-toggleable__content {max-height: 0;max-width: 0;overflow: hidden;text-align: left;background-color: #f0f8ff;}#sk-container-id-3 div.sk-toggleable__content pre {margin: 0.2em;color: black;border-radius: 0.25em;background-color: #f0f8ff;}#sk-container-id-3 input.sk-toggleable__control:checked~div.sk-toggleable__content {max-height: 200px;max-width: 100%;overflow: auto;}#sk-container-id-3 input.sk-toggleable__control:checked~label.sk-toggleable__label-arrow:before {content: \"▾\";}#sk-container-id-3 div.sk-estimator input.sk-toggleable__control:checked~label.sk-toggleable__label {background-color: #d4ebff;}#sk-container-id-3 div.sk-label input.sk-toggleable__control:checked~label.sk-toggleable__label {background-color: #d4ebff;}#sk-container-id-3 input.sk-hidden--visually {border: 0;clip: rect(1px 1px 1px 1px);clip: rect(1px, 1px, 1px, 1px);height: 1px;margin: -1px;overflow: hidden;padding: 0;position: absolute;width: 1px;}#sk-container-id-3 div.sk-estimator {font-family: monospace;background-color: #f0f8ff;border: 1px dotted black;border-radius: 0.25em;box-sizing: border-box;margin-bottom: 0.5em;}#sk-container-id-3 div.sk-estimator:hover {background-color: #d4ebff;}#sk-container-id-3 div.sk-parallel-item::after {content: \"\";width: 100%;border-bottom: 1px solid gray;flex-grow: 1;}#sk-container-id-3 div.sk-label:hover label.sk-toggleable__label {background-color: #d4ebff;}#sk-container-id-3 div.sk-serial::before {content: \"\";position: absolute;border-left: 1px solid gray;box-sizing: border-box;top: 0;bottom: 0;left: 50%;z-index: 0;}#sk-container-id-3 div.sk-serial {display: flex;flex-direction: column;align-items: center;background-color: white;padding-right: 0.2em;padding-left: 0.2em;position: relative;}#sk-container-id-3 div.sk-item {position: relative;z-index: 1;}#sk-container-id-3 div.sk-parallel {display: flex;align-items: stretch;justify-content: center;background-color: white;position: relative;}#sk-container-id-3 div.sk-item::before, #sk-container-id-3 div.sk-parallel-item::before {content: \"\";position: absolute;border-left: 1px solid gray;box-sizing: border-box;top: 0;bottom: 0;left: 50%;z-index: -1;}#sk-container-id-3 div.sk-parallel-item {display: flex;flex-direction: column;z-index: 1;position: relative;background-color: white;}#sk-container-id-3 div.sk-parallel-item:first-child::after {align-self: flex-end;width: 50%;}#sk-container-id-3 div.sk-parallel-item:last-child::after {align-self: flex-start;width: 50%;}#sk-container-id-3 div.sk-parallel-item:only-child::after {width: 0;}#sk-container-id-3 div.sk-dashed-wrapped {border: 1px dashed gray;margin: 0 0.4em 0.5em 0.4em;box-sizing: border-box;padding-bottom: 0.4em;background-color: white;}#sk-container-id-3 div.sk-label label {font-family: monospace;font-weight: bold;display: inline-block;line-height: 1.2em;}#sk-container-id-3 div.sk-label-container {text-align: center;}#sk-container-id-3 div.sk-container {/* jupyter's `normalize.less` sets `[hidden] { display: none; }` but bootstrap.min.css set `[hidden] { display: none !important; }` so we also need the `!important` here to be able to override the default hidden behavior on the sphinx rendered scikit-learn.org. See: https://github.com/scikit-learn/scikit-learn/issues/21755 */display: inline-block !important;position: relative;}#sk-container-id-3 div.sk-text-repr-fallback {display: none;}</style><div id=\"sk-container-id-3\" class=\"sk-top-container\"><div class=\"sk-text-repr-fallback\"><pre>RandomizedSearchCV(cv=5, estimator=KNeighborsClassifier(n_jobs=-1), n_iter=100,\n",
       "                   n_jobs=-1,\n",
       "                   param_distributions={&#x27;n_neighbors&#x27;: &lt;scipy.stats._distn_infrastructure.rv_discrete_frozen object at 0x7fbd91220be0&gt;,\n",
       "                                        &#x27;weights&#x27;: [&#x27;uniform&#x27;, &#x27;distance&#x27;]},\n",
       "                   random_state=2023, scoring=&#x27;neg_log_loss&#x27;, verbose=1)</pre><b>In a Jupyter environment, please rerun this cell to show the HTML representation or trust the notebook. <br />On GitHub, the HTML representation is unable to render, please try loading this page with nbviewer.org.</b></div><div class=\"sk-container\" hidden><div class=\"sk-item sk-dashed-wrapped\"><div class=\"sk-label-container\"><div class=\"sk-label sk-toggleable\"><input class=\"sk-toggleable__control sk-hidden--visually\" id=\"sk-estimator-id-5\" type=\"checkbox\" ><label for=\"sk-estimator-id-5\" class=\"sk-toggleable__label sk-toggleable__label-arrow\">RandomizedSearchCV</label><div class=\"sk-toggleable__content\"><pre>RandomizedSearchCV(cv=5, estimator=KNeighborsClassifier(n_jobs=-1), n_iter=100,\n",
       "                   n_jobs=-1,\n",
       "                   param_distributions={&#x27;n_neighbors&#x27;: &lt;scipy.stats._distn_infrastructure.rv_discrete_frozen object at 0x7fbd91220be0&gt;,\n",
       "                                        &#x27;weights&#x27;: [&#x27;uniform&#x27;, &#x27;distance&#x27;]},\n",
       "                   random_state=2023, scoring=&#x27;neg_log_loss&#x27;, verbose=1)</pre></div></div></div><div class=\"sk-parallel\"><div class=\"sk-parallel-item\"><div class=\"sk-item\"><div class=\"sk-label-container\"><div class=\"sk-label sk-toggleable\"><input class=\"sk-toggleable__control sk-hidden--visually\" id=\"sk-estimator-id-6\" type=\"checkbox\" ><label for=\"sk-estimator-id-6\" class=\"sk-toggleable__label sk-toggleable__label-arrow\">estimator: KNeighborsClassifier</label><div class=\"sk-toggleable__content\"><pre>KNeighborsClassifier(n_jobs=-1)</pre></div></div></div><div class=\"sk-serial\"><div class=\"sk-item\"><div class=\"sk-estimator sk-toggleable\"><input class=\"sk-toggleable__control sk-hidden--visually\" id=\"sk-estimator-id-7\" type=\"checkbox\" ><label for=\"sk-estimator-id-7\" class=\"sk-toggleable__label sk-toggleable__label-arrow\">KNeighborsClassifier</label><div class=\"sk-toggleable__content\"><pre>KNeighborsClassifier(n_jobs=-1)</pre></div></div></div></div></div></div></div></div></div></div>"
      ],
      "text/plain": [
       "RandomizedSearchCV(cv=5, estimator=KNeighborsClassifier(n_jobs=-1), n_iter=100,\n",
       "                   n_jobs=-1,\n",
       "                   param_distributions={'n_neighbors': <scipy.stats._distn_infrastructure.rv_discrete_frozen object at 0x7fbd91220be0>,\n",
       "                                        'weights': ['uniform', 'distance']},\n",
       "                   random_state=2023, scoring='neg_log_loss', verbose=1)"
      ]
     },
     "execution_count": 30,
     "metadata": {},
     "output_type": "execute_result"
    }
   ],
   "source": [
    "# fit \n",
    "knn_rnd_search.fit(X_train, y_train)"
   ]
  },
  {
   "cell_type": "code",
   "execution_count": 31,
   "id": "81bab2e6",
   "metadata": {},
   "outputs": [
    {
     "name": "stdout",
     "output_type": "stream",
     "text": [
      "Le meilleur score est (log loss moyen) : 0.3436189168341346\n",
      "Les meilleurs paramètres sont: {'n_neighbors': 42, 'weights': 'distance'}\n"
     ]
    }
   ],
   "source": [
    "results['KNN'] = -knn_rnd_search.best_score_\n",
    "print(f'Le meilleur score est (log loss moyen) : {-knn_rnd_search.best_score_}')\n",
    "print(f'Les meilleurs paramètres sont: {knn_rnd_search.best_params_}')\n",
    "best_knn = knn_rnd_search.best_estimator_"
   ]
  },
  {
   "cell_type": "code",
   "execution_count": 32,
   "id": "ef24123b",
   "metadata": {},
   "outputs": [],
   "source": [
    "# Score sur l'ensemble des données d'entrainement: Courbe ROC et AUC\n",
    "#y_train_pred_proba_knn_rnd = knn_rnd_search.best_estimator_.predict_proba(X_train)[:,1]\n",
    "#results['K voisins'] = y_train_pred_proba_knn_rnd\n",
    "\n",
    "#plot_roc_curve(y_train, results)\n",
    "\n",
    "#loss_log_knn = log_loss(y_train, y_train_pred_proba_knn_rnd)\n",
    "#results['KNN'] = loss_log_knn\n",
    "#print(f'Log loss knn = {loss_log_knn}')"
   ]
  },
  {
   "cell_type": "code",
   "execution_count": 33,
   "id": "c7ab2ad5",
   "metadata": {},
   "outputs": [
    {
     "data": {
      "image/png": "[encoded data removed]",
      "text/plain": [
       "<Figure size 640x480 with 1 Axes>"
      ]
     },
     "metadata": {},
     "output_type": "display_data"
    }
   ],
   "source": [
    "# Comparaison visuelle des log loss sur un digramme à bar\n",
    "plot_log_loss_bar(results)"
   ]
  },
  {
   "cell_type": "markdown",
   "id": "a476cccf",
   "metadata": {},
   "source": [
    "## 5.4- Arbre de décision"
   ]
  },
  {
   "cell_type": "code",
   "execution_count": 34,
   "id": "53e324e6",
   "metadata": {},
   "outputs": [],
   "source": [
    "# Estimateur\n",
    "dt_cf = DecisionTreeClassifier(random_state=2023)"
   ]
  },
  {
   "cell_type": "code",
   "execution_count": 35,
   "id": "7e1533e2",
   "metadata": {},
   "outputs": [],
   "source": [
    "# Paramètres de la recherche aléatoire\n",
    "param_rnd_search = dict(ccp_alpha = loguniform(1e-3, 1e3),\n",
    "                        criterion=['gini','entropy','log_loss'],\n",
    "                        max_depth=randint(2, 35))\n",
    "\n",
    "# Remarque: avec np.arange(2, 36,1), le resultat est le même.\n",
    "# randint semble retourner plusieurs fois les valeurs pour satisfaire le nombre d'itération si cela s'impose, alors \n",
    "# que np.arange ne le fait pas.\n",
    "\n",
    "# Recherche aléatoire\n",
    "dt_rnd_search = RandomizedSearchCV(dt_cf, \n",
    "                                    param_rnd_search, \n",
    "                                    n_iter=100, \n",
    "                                    scoring='neg_log_loss', \n",
    "                                    cv=5, \n",
    "                                    verbose=1, \n",
    "                                    n_jobs=-1,\n",
    "                                    random_state=2023)"
   ]
  },
  {
   "cell_type": "code",
   "execution_count": 36,
   "id": "257a1c5d",
   "metadata": {},
   "outputs": [
    {
     "name": "stdout",
     "output_type": "stream",
     "text": [
      "Fitting 5 folds for each of 100 candidates, totalling 500 fits\n"
     ]
    },
    {
     "data": {
      "text/html": [
       "<style>#sk-container-id-4 {color: black;background-color: white;}#sk-container-id-4 pre{padding: 0;}#sk-container-id-4 div.sk-toggleable {background-color: white;}#sk-container-id-4 label.sk-toggleable__label {cursor: pointer;display: block;width: 100%;margin-bottom: 0;padding: 0.3em;box-sizing: border-box;text-align: center;}#sk-container-id-4 label.sk-toggleable__label-arrow:before {content: \"▸\";float: left;margin-right: 0.25em;color: #696969;}#sk-container-id-4 label.sk-toggleable__label-arrow:hover:before {color: black;}#sk-container-id-4 div.sk-estimator:hover label.sk-toggleable__label-arrow:before {color: black;}#sk-container-id-4 div.sk-toggleable__content {max-height: 0;max-width: 0;overflow: hidden;text-align: left;background-color: #f0f8ff;}#sk-container-id-4 div.sk-toggleable__content pre {margin: 0.2em;color: black;border-radius: 0.25em;background-color: #f0f8ff;}#sk-container-id-4 input.sk-toggleable__control:checked~div.sk-toggleable__content {max-height: 200px;max-width: 100%;overflow: auto;}#sk-container-id-4 input.sk-toggleable__control:checked~label.sk-toggleable__label-arrow:before {content: \"▾\";}#sk-container-id-4 div.sk-estimator input.sk-toggleable__control:checked~label.sk-toggleable__label {background-color: #d4ebff;}#sk-container-id-4 div.sk-label input.sk-toggleable__control:checked~label.sk-toggleable__label {background-color: #d4ebff;}#sk-container-id-4 input.sk-hidden--visually {border: 0;clip: rect(1px 1px 1px 1px);clip: rect(1px, 1px, 1px, 1px);height: 1px;margin: -1px;overflow: hidden;padding: 0;position: absolute;width: 1px;}#sk-container-id-4 div.sk-estimator {font-family: monospace;background-color: #f0f8ff;border: 1px dotted black;border-radius: 0.25em;box-sizing: border-box;margin-bottom: 0.5em;}#sk-container-id-4 div.sk-estimator:hover {background-color: #d4ebff;}#sk-container-id-4 div.sk-parallel-item::after {content: \"\";width: 100%;border-bottom: 1px solid gray;flex-grow: 1;}#sk-container-id-4 div.sk-label:hover label.sk-toggleable__label {background-color: #d4ebff;}#sk-container-id-4 div.sk-serial::before {content: \"\";position: absolute;border-left: 1px solid gray;box-sizing: border-box;top: 0;bottom: 0;left: 50%;z-index: 0;}#sk-container-id-4 div.sk-serial {display: flex;flex-direction: column;align-items: center;background-color: white;padding-right: 0.2em;padding-left: 0.2em;position: relative;}#sk-container-id-4 div.sk-item {position: relative;z-index: 1;}#sk-container-id-4 div.sk-parallel {display: flex;align-items: stretch;justify-content: center;background-color: white;position: relative;}#sk-container-id-4 div.sk-item::before, #sk-container-id-4 div.sk-parallel-item::before {content: \"\";position: absolute;border-left: 1px solid gray;box-sizing: border-box;top: 0;bottom: 0;left: 50%;z-index: -1;}#sk-container-id-4 div.sk-parallel-item {display: flex;flex-direction: column;z-index: 1;position: relative;background-color: white;}#sk-container-id-4 div.sk-parallel-item:first-child::after {align-self: flex-end;width: 50%;}#sk-container-id-4 div.sk-parallel-item:last-child::after {align-self: flex-start;width: 50%;}#sk-container-id-4 div.sk-parallel-item:only-child::after {width: 0;}#sk-container-id-4 div.sk-dashed-wrapped {border: 1px dashed gray;margin: 0 0.4em 0.5em 0.4em;box-sizing: border-box;padding-bottom: 0.4em;background-color: white;}#sk-container-id-4 div.sk-label label {font-family: monospace;font-weight: bold;display: inline-block;line-height: 1.2em;}#sk-container-id-4 div.sk-label-container {text-align: center;}#sk-container-id-4 div.sk-container {/* jupyter's `normalize.less` sets `[hidden] { display: none; }` but bootstrap.min.css set `[hidden] { display: none !important; }` so we also need the `!important` here to be able to override the default hidden behavior on the sphinx rendered scikit-learn.org. See: https://github.com/scikit-learn/scikit-learn/issues/21755 */display: inline-block !important;position: relative;}#sk-container-id-4 div.sk-text-repr-fallback {display: none;}</style><div id=\"sk-container-id-4\" class=\"sk-top-container\"><div class=\"sk-text-repr-fallback\"><pre>RandomizedSearchCV(cv=5, estimator=DecisionTreeClassifier(random_state=2023),\n",
       "                   n_iter=100, n_jobs=-1,\n",
       "                   param_distributions={&#x27;ccp_alpha&#x27;: &lt;scipy.stats._distn_infrastructure.rv_continuous_frozen object at 0x7fbd33def3a0&gt;,\n",
       "                                        &#x27;criterion&#x27;: [&#x27;gini&#x27;, &#x27;entropy&#x27;,\n",
       "                                                      &#x27;log_loss&#x27;],\n",
       "                                        &#x27;max_depth&#x27;: &lt;scipy.stats._distn_infrastructure.rv_discrete_frozen object at 0x7fbd91257580&gt;},\n",
       "                   random_state=2023, scoring=&#x27;neg_log_loss&#x27;, verbose=1)</pre><b>In a Jupyter environment, please rerun this cell to show the HTML representation or trust the notebook. <br />On GitHub, the HTML representation is unable to render, please try loading this page with nbviewer.org.</b></div><div class=\"sk-container\" hidden><div class=\"sk-item sk-dashed-wrapped\"><div class=\"sk-label-container\"><div class=\"sk-label sk-toggleable\"><input class=\"sk-toggleable__control sk-hidden--visually\" id=\"sk-estimator-id-8\" type=\"checkbox\" ><label for=\"sk-estimator-id-8\" class=\"sk-toggleable__label sk-toggleable__label-arrow\">RandomizedSearchCV</label><div class=\"sk-toggleable__content\"><pre>RandomizedSearchCV(cv=5, estimator=DecisionTreeClassifier(random_state=2023),\n",
       "                   n_iter=100, n_jobs=-1,\n",
       "                   param_distributions={&#x27;ccp_alpha&#x27;: &lt;scipy.stats._distn_infrastructure.rv_continuous_frozen object at 0x7fbd33def3a0&gt;,\n",
       "                                        &#x27;criterion&#x27;: [&#x27;gini&#x27;, &#x27;entropy&#x27;,\n",
       "                                                      &#x27;log_loss&#x27;],\n",
       "                                        &#x27;max_depth&#x27;: &lt;scipy.stats._distn_infrastructure.rv_discrete_frozen object at 0x7fbd91257580&gt;},\n",
       "                   random_state=2023, scoring=&#x27;neg_log_loss&#x27;, verbose=1)</pre></div></div></div><div class=\"sk-parallel\"><div class=\"sk-parallel-item\"><div class=\"sk-item\"><div class=\"sk-label-container\"><div class=\"sk-label sk-toggleable\"><input class=\"sk-toggleable__control sk-hidden--visually\" id=\"sk-estimator-id-9\" type=\"checkbox\" ><label for=\"sk-estimator-id-9\" class=\"sk-toggleable__label sk-toggleable__label-arrow\">estimator: DecisionTreeClassifier</label><div class=\"sk-toggleable__content\"><pre>DecisionTreeClassifier(random_state=2023)</pre></div></div></div><div class=\"sk-serial\"><div class=\"sk-item\"><div class=\"sk-estimator sk-toggleable\"><input class=\"sk-toggleable__control sk-hidden--visually\" id=\"sk-estimator-id-10\" type=\"checkbox\" ><label for=\"sk-estimator-id-10\" class=\"sk-toggleable__label sk-toggleable__label-arrow\">DecisionTreeClassifier</label><div class=\"sk-toggleable__content\"><pre>DecisionTreeClassifier(random_state=2023)</pre></div></div></div></div></div></div></div></div></div></div>"
      ],
      "text/plain": [
       "RandomizedSearchCV(cv=5, estimator=DecisionTreeClassifier(random_state=2023),\n",
       "                   n_iter=100, n_jobs=-1,\n",
       "                   param_distributions={'ccp_alpha': <scipy.stats._distn_infrastructure.rv_continuous_frozen object at 0x7fbd33def3a0>,\n",
       "                                        'criterion': ['gini', 'entropy',\n",
       "                                                      'log_loss'],\n",
       "                                        'max_depth': <scipy.stats._distn_infrastructure.rv_discrete_frozen object at 0x7fbd91257580>},\n",
       "                   random_state=2023, scoring='neg_log_loss', verbose=1)"
      ]
     },
     "execution_count": 36,
     "metadata": {},
     "output_type": "execute_result"
    }
   ],
   "source": [
    "# fit \n",
    "dt_rnd_search.fit(X_train, y_train)"
   ]
  },
  {
   "cell_type": "code",
   "execution_count": 37,
   "id": "c18b8c33",
   "metadata": {},
   "outputs": [
    {
     "name": "stdout",
     "output_type": "stream",
     "text": [
      "Le meilleur score est (log loss moyen) : 0.37042836426045367\n",
      "Les meilleurs paramètres sont: {'ccp_alpha': 0.004282248598847301, 'criterion': 'log_loss', 'max_depth': 24}\n"
     ]
    }
   ],
   "source": [
    "results['Decision Tree'] = -dt_rnd_search.best_score_\n",
    "print(f'Le meilleur score est (log loss moyen) : {-dt_rnd_search.best_score_}')\n",
    "print(f'Les meilleurs paramètres sont: {dt_rnd_search.best_params_}')\n",
    "best_dt = dt_rnd_search.best_estimator_"
   ]
  },
  {
   "cell_type": "code",
   "execution_count": 38,
   "id": "7b25bd5d",
   "metadata": {},
   "outputs": [
    {
     "data": {
      "image/png": "[encoded data removed]",
      "text/plain": [
       "<Figure size 640x480 with 1 Axes>"
      ]
     },
     "metadata": {},
     "output_type": "display_data"
    }
   ],
   "source": [
    "# Comparaison visuelle des log loss sur un digramme à bar\n",
    "plot_log_loss_bar(results)"
   ]
  },
  {
   "cell_type": "markdown",
   "id": "6768a463",
   "metadata": {},
   "source": [
    "## 5.5- Forêt aléatoire"
   ]
  },
  {
   "cell_type": "code",
   "execution_count": 39,
   "id": "dba51db9",
   "metadata": {},
   "outputs": [],
   "source": [
    "# Estimateur\n",
    "rdf_cf = RandomForestClassifier(random_state=2023)"
   ]
  },
  {
   "cell_type": "code",
   "execution_count": 40,
   "id": "332e3a71",
   "metadata": {},
   "outputs": [],
   "source": [
    "# Paramètres de la recherche aléatoire\n",
    "param_rnd_search = dict(ccp_alpha = loguniform(1e-3, 1e3),\n",
    "                        criterion=['gini','entropy','log_loss'],\n",
    "                        max_depth=randint(2, 35),\n",
    "                        n_estimators=randint(2,200))\n",
    "\n",
    "# Remarque: avec np.arange(2, 36,1) et np.arange(2, 201,1) pour max_depth et n_estimators respectivement, le resultat est le \n",
    "# même. randint semble retourner plusieurs fois les valeurs pour satisfaire le nombre d'itération si cela s'impose, alors \n",
    "# que np.arange ne le fait pas.\n",
    "\n",
    "# Recherche aléatoire\n",
    "rd_forest_rnd_search = RandomizedSearchCV(rdf_cf, \n",
    "                                    param_rnd_search, \n",
    "                                    n_iter=20, \n",
    "                                    scoring='neg_log_loss', \n",
    "                                    cv=5, \n",
    "                                    verbose=1, \n",
    "                                    n_jobs=-1,\n",
    "                                    random_state=2023)"
   ]
  },
  {
   "cell_type": "code",
   "execution_count": 41,
   "id": "ab1c53b1",
   "metadata": {},
   "outputs": [
    {
     "name": "stdout",
     "output_type": "stream",
     "text": [
      "Fitting 5 folds for each of 20 candidates, totalling 100 fits\n"
     ]
    },
    {
     "data": {
      "text/html": [
       "<style>#sk-container-id-5 {color: black;background-color: white;}#sk-container-id-5 pre{padding: 0;}#sk-container-id-5 div.sk-toggleable {background-color: white;}#sk-container-id-5 label.sk-toggleable__label {cursor: pointer;display: block;width: 100%;margin-bottom: 0;padding: 0.3em;box-sizing: border-box;text-align: center;}#sk-container-id-5 label.sk-toggleable__label-arrow:before {content: \"▸\";float: left;margin-right: 0.25em;color: #696969;}#sk-container-id-5 label.sk-toggleable__label-arrow:hover:before {color: black;}#sk-container-id-5 div.sk-estimator:hover label.sk-toggleable__label-arrow:before {color: black;}#sk-container-id-5 div.sk-toggleable__content {max-height: 0;max-width: 0;overflow: hidden;text-align: left;background-color: #f0f8ff;}#sk-container-id-5 div.sk-toggleable__content pre {margin: 0.2em;color: black;border-radius: 0.25em;background-color: #f0f8ff;}#sk-container-id-5 input.sk-toggleable__control:checked~div.sk-toggleable__content {max-height: 200px;max-width: 100%;overflow: auto;}#sk-container-id-5 input.sk-toggleable__control:checked~label.sk-toggleable__label-arrow:before {content: \"▾\";}#sk-container-id-5 div.sk-estimator input.sk-toggleable__control:checked~label.sk-toggleable__label {background-color: #d4ebff;}#sk-container-id-5 div.sk-label input.sk-toggleable__control:checked~label.sk-toggleable__label {background-color: #d4ebff;}#sk-container-id-5 input.sk-hidden--visually {border: 0;clip: rect(1px 1px 1px 1px);clip: rect(1px, 1px, 1px, 1px);height: 1px;margin: -1px;overflow: hidden;padding: 0;position: absolute;width: 1px;}#sk-container-id-5 div.sk-estimator {font-family: monospace;background-color: #f0f8ff;border: 1px dotted black;border-radius: 0.25em;box-sizing: border-box;margin-bottom: 0.5em;}#sk-container-id-5 div.sk-estimator:hover {background-color: #d4ebff;}#sk-container-id-5 div.sk-parallel-item::after {content: \"\";width: 100%;border-bottom: 1px solid gray;flex-grow: 1;}#sk-container-id-5 div.sk-label:hover label.sk-toggleable__label {background-color: #d4ebff;}#sk-container-id-5 div.sk-serial::before {content: \"\";position: absolute;border-left: 1px solid gray;box-sizing: border-box;top: 0;bottom: 0;left: 50%;z-index: 0;}#sk-container-id-5 div.sk-serial {display: flex;flex-direction: column;align-items: center;background-color: white;padding-right: 0.2em;padding-left: 0.2em;position: relative;}#sk-container-id-5 div.sk-item {position: relative;z-index: 1;}#sk-container-id-5 div.sk-parallel {display: flex;align-items: stretch;justify-content: center;background-color: white;position: relative;}#sk-container-id-5 div.sk-item::before, #sk-container-id-5 div.sk-parallel-item::before {content: \"\";position: absolute;border-left: 1px solid gray;box-sizing: border-box;top: 0;bottom: 0;left: 50%;z-index: -1;}#sk-container-id-5 div.sk-parallel-item {display: flex;flex-direction: column;z-index: 1;position: relative;background-color: white;}#sk-container-id-5 div.sk-parallel-item:first-child::after {align-self: flex-end;width: 50%;}#sk-container-id-5 div.sk-parallel-item:last-child::after {align-self: flex-start;width: 50%;}#sk-container-id-5 div.sk-parallel-item:only-child::after {width: 0;}#sk-container-id-5 div.sk-dashed-wrapped {border: 1px dashed gray;margin: 0 0.4em 0.5em 0.4em;box-sizing: border-box;padding-bottom: 0.4em;background-color: white;}#sk-container-id-5 div.sk-label label {font-family: monospace;font-weight: bold;display: inline-block;line-height: 1.2em;}#sk-container-id-5 div.sk-label-container {text-align: center;}#sk-container-id-5 div.sk-container {/* jupyter's `normalize.less` sets `[hidden] { display: none; }` but bootstrap.min.css set `[hidden] { display: none !important; }` so we also need the `!important` here to be able to override the default hidden behavior on the sphinx rendered scikit-learn.org. See: https://github.com/scikit-learn/scikit-learn/issues/21755 */display: inline-block !important;position: relative;}#sk-container-id-5 div.sk-text-repr-fallback {display: none;}</style><div id=\"sk-container-id-5\" class=\"sk-top-container\"><div class=\"sk-text-repr-fallback\"><pre>RandomizedSearchCV(cv=5, estimator=RandomForestClassifier(random_state=2023),\n",
       "                   n_iter=20, n_jobs=-1,\n",
       "                   param_distributions={&#x27;ccp_alpha&#x27;: &lt;scipy.stats._distn_infrastructure.rv_continuous_frozen object at 0x7fbd33e2d000&gt;,\n",
       "                                        &#x27;criterion&#x27;: [&#x27;gini&#x27;, &#x27;entropy&#x27;,\n",
       "                                                      &#x27;log_loss&#x27;],\n",
       "                                        &#x27;max_depth&#x27;: &lt;scipy.stats._distn_infrastructure.rv_discrete_frozen object at 0x7fbd33e51ea0&gt;,\n",
       "                                        &#x27;n_estimators&#x27;: &lt;scipy.stats._distn_infrastructure.rv_discrete_frozen object at 0x7fbd91223d00&gt;},\n",
       "                   random_state=2023, scoring=&#x27;neg_log_loss&#x27;, verbose=1)</pre><b>In a Jupyter environment, please rerun this cell to show the HTML representation or trust the notebook. <br />On GitHub, the HTML representation is unable to render, please try loading this page with nbviewer.org.</b></div><div class=\"sk-container\" hidden><div class=\"sk-item sk-dashed-wrapped\"><div class=\"sk-label-container\"><div class=\"sk-label sk-toggleable\"><input class=\"sk-toggleable__control sk-hidden--visually\" id=\"sk-estimator-id-11\" type=\"checkbox\" ><label for=\"sk-estimator-id-11\" class=\"sk-toggleable__label sk-toggleable__label-arrow\">RandomizedSearchCV</label><div class=\"sk-toggleable__content\"><pre>RandomizedSearchCV(cv=5, estimator=RandomForestClassifier(random_state=2023),\n",
       "                   n_iter=20, n_jobs=-1,\n",
       "                   param_distributions={&#x27;ccp_alpha&#x27;: &lt;scipy.stats._distn_infrastructure.rv_continuous_frozen object at 0x7fbd33e2d000&gt;,\n",
       "                                        &#x27;criterion&#x27;: [&#x27;gini&#x27;, &#x27;entropy&#x27;,\n",
       "                                                      &#x27;log_loss&#x27;],\n",
       "                                        &#x27;max_depth&#x27;: &lt;scipy.stats._distn_infrastructure.rv_discrete_frozen object at 0x7fbd33e51ea0&gt;,\n",
       "                                        &#x27;n_estimators&#x27;: &lt;scipy.stats._distn_infrastructure.rv_discrete_frozen object at 0x7fbd91223d00&gt;},\n",
       "                   random_state=2023, scoring=&#x27;neg_log_loss&#x27;, verbose=1)</pre></div></div></div><div class=\"sk-parallel\"><div class=\"sk-parallel-item\"><div class=\"sk-item\"><div class=\"sk-label-container\"><div class=\"sk-label sk-toggleable\"><input class=\"sk-toggleable__control sk-hidden--visually\" id=\"sk-estimator-id-12\" type=\"checkbox\" ><label for=\"sk-estimator-id-12\" class=\"sk-toggleable__label sk-toggleable__label-arrow\">estimator: RandomForestClassifier</label><div class=\"sk-toggleable__content\"><pre>RandomForestClassifier(random_state=2023)</pre></div></div></div><div class=\"sk-serial\"><div class=\"sk-item\"><div class=\"sk-estimator sk-toggleable\"><input class=\"sk-toggleable__control sk-hidden--visually\" id=\"sk-estimator-id-13\" type=\"checkbox\" ><label for=\"sk-estimator-id-13\" class=\"sk-toggleable__label sk-toggleable__label-arrow\">RandomForestClassifier</label><div class=\"sk-toggleable__content\"><pre>RandomForestClassifier(random_state=2023)</pre></div></div></div></div></div></div></div></div></div></div>"
      ],
      "text/plain": [
       "RandomizedSearchCV(cv=5, estimator=RandomForestClassifier(random_state=2023),\n",
       "                   n_iter=20, n_jobs=-1,\n",
       "                   param_distributions={'ccp_alpha': <scipy.stats._distn_infrastructure.rv_continuous_frozen object at 0x7fbd33e2d000>,\n",
       "                                        'criterion': ['gini', 'entropy',\n",
       "                                                      'log_loss'],\n",
       "                                        'max_depth': <scipy.stats._distn_infrastructure.rv_discrete_frozen object at 0x7fbd33e51ea0>,\n",
       "                                        'n_estimators': <scipy.stats._distn_infrastructure.rv_discrete_frozen object at 0x7fbd91223d00>},\n",
       "                   random_state=2023, scoring='neg_log_loss', verbose=1)"
      ]
     },
     "execution_count": 41,
     "metadata": {},
     "output_type": "execute_result"
    }
   ],
   "source": [
    "# fit \n",
    "rd_forest_rnd_search.fit(X_train, y_train)"
   ]
  },
  {
   "cell_type": "code",
   "execution_count": 42,
   "id": "7834420d",
   "metadata": {},
   "outputs": [
    {
     "name": "stdout",
     "output_type": "stream",
     "text": [
      "Le meilleur score est (log loss moyen) : 0.3316913859001574\n",
      "Les meilleurs paramètres sont: {'ccp_alpha': 0.001237969183995374, 'criterion': 'entropy', 'max_depth': 13, 'n_estimators': 131}\n"
     ]
    }
   ],
   "source": [
    "results['Random Forest'] = -rd_forest_rnd_search.best_score_\n",
    "print(f'Le meilleur score est (log loss moyen) : {-rd_forest_rnd_search.best_score_}')\n",
    "print(f'Les meilleurs paramètres sont: {rd_forest_rnd_search.best_params_}')\n",
    "best_rd_forest = rd_forest_rnd_search.best_estimator_"
   ]
  },
  {
   "cell_type": "code",
   "execution_count": 43,
   "id": "cde99917",
   "metadata": {},
   "outputs": [
    {
     "data": {
      "image/png": "[encoded data removed]",
      "text/plain": [
       "<Figure size 640x480 with 1 Axes>"
      ]
     },
     "metadata": {},
     "output_type": "display_data"
    }
   ],
   "source": [
    "# Comparaison visuelle des log loss sur un digramme à bar\n",
    "plot_log_loss_bar(results)"
   ]
  },
  {
   "cell_type": "markdown",
   "id": "6d1a3315",
   "metadata": {},
   "source": [
    "## 5.6- Bagging avec la meilleure regression logistique obtenue précédement pour essayer d'améliorer son score"
   ]
  },
  {
   "cell_type": "code",
   "execution_count": 44,
   "id": "70243276",
   "metadata": {},
   "outputs": [],
   "source": [
    "# Estimateur\n",
    "bg_cf = BaggingClassifier(estimator=log_reg_rnd_search.best_estimator_, random_state=2023)"
   ]
  },
  {
   "cell_type": "code",
   "execution_count": 45,
   "id": "8520f765",
   "metadata": {},
   "outputs": [],
   "source": [
    "# Paramètres de la recherche aléatoire\n",
    "param_rnd_search = dict(\n",
    "    n_estimators=randint(2,100))\n",
    "\n",
    "# Remarque: avec np.arange(2, 101,1), le resultat est le même.\n",
    "# randint semble retourner plusieurs fois les valeurs pour satisfaire le nombre d'itération si cela s'impose, alors \n",
    "# que np.arange ne le fait pas. Par exemple, si nous mettons randint(2, 10), on s'attendrait à avoir 9*2 = 18 possibilités pour \n",
    "# nos paramètres, mais on réussit quand même à faire 20 iterations avec cela. Comment? nous allons creuser cela plutard.\n",
    "\n",
    "# Recherche aléatoire avec validation croisée\n",
    "bg_cf_rnd_search = RandomizedSearchCV(bg_cf, \n",
    "                                      param_rnd_search, \n",
    "                                      n_iter=20, \n",
    "                                      cv=5, \n",
    "                                      scoring=\"neg_log_loss\", \n",
    "                                      verbose=1, \n",
    "                                      n_jobs=-1, \n",
    "                                      random_state=2023)"
   ]
  },
  {
   "cell_type": "code",
   "execution_count": 46,
   "id": "868e7ff2",
   "metadata": {},
   "outputs": [
    {
     "name": "stdout",
     "output_type": "stream",
     "text": [
      "Fitting 5 folds for each of 20 candidates, totalling 100 fits\n"
     ]
    },
    {
     "data": {
      "text/html": [
       "<style>#sk-container-id-6 {color: black;background-color: white;}#sk-container-id-6 pre{padding: 0;}#sk-container-id-6 div.sk-toggleable {background-color: white;}#sk-container-id-6 label.sk-toggleable__label {cursor: pointer;display: block;width: 100%;margin-bottom: 0;padding: 0.3em;box-sizing: border-box;text-align: center;}#sk-container-id-6 label.sk-toggleable__label-arrow:before {content: \"▸\";float: left;margin-right: 0.25em;color: #696969;}#sk-container-id-6 label.sk-toggleable__label-arrow:hover:before {color: black;}#sk-container-id-6 div.sk-estimator:hover label.sk-toggleable__label-arrow:before {color: black;}#sk-container-id-6 div.sk-toggleable__content {max-height: 0;max-width: 0;overflow: hidden;text-align: left;background-color: #f0f8ff;}#sk-container-id-6 div.sk-toggleable__content pre {margin: 0.2em;color: black;border-radius: 0.25em;background-color: #f0f8ff;}#sk-container-id-6 input.sk-toggleable__control:checked~div.sk-toggleable__content {max-height: 200px;max-width: 100%;overflow: auto;}#sk-container-id-6 input.sk-toggleable__control:checked~label.sk-toggleable__label-arrow:before {content: \"▾\";}#sk-container-id-6 div.sk-estimator input.sk-toggleable__control:checked~label.sk-toggleable__label {background-color: #d4ebff;}#sk-container-id-6 div.sk-label input.sk-toggleable__control:checked~label.sk-toggleable__label {background-color: #d4ebff;}#sk-container-id-6 input.sk-hidden--visually {border: 0;clip: rect(1px 1px 1px 1px);clip: rect(1px, 1px, 1px, 1px);height: 1px;margin: -1px;overflow: hidden;padding: 0;position: absolute;width: 1px;}#sk-container-id-6 div.sk-estimator {font-family: monospace;background-color: #f0f8ff;border: 1px dotted black;border-radius: 0.25em;box-sizing: border-box;margin-bottom: 0.5em;}#sk-container-id-6 div.sk-estimator:hover {background-color: #d4ebff;}#sk-container-id-6 div.sk-parallel-item::after {content: \"\";width: 100%;border-bottom: 1px solid gray;flex-grow: 1;}#sk-container-id-6 div.sk-label:hover label.sk-toggleable__label {background-color: #d4ebff;}#sk-container-id-6 div.sk-serial::before {content: \"\";position: absolute;border-left: 1px solid gray;box-sizing: border-box;top: 0;bottom: 0;left: 50%;z-index: 0;}#sk-container-id-6 div.sk-serial {display: flex;flex-direction: column;align-items: center;background-color: white;padding-right: 0.2em;padding-left: 0.2em;position: relative;}#sk-container-id-6 div.sk-item {position: relative;z-index: 1;}#sk-container-id-6 div.sk-parallel {display: flex;align-items: stretch;justify-content: center;background-color: white;position: relative;}#sk-container-id-6 div.sk-item::before, #sk-container-id-6 div.sk-parallel-item::before {content: \"\";position: absolute;border-left: 1px solid gray;box-sizing: border-box;top: 0;bottom: 0;left: 50%;z-index: -1;}#sk-container-id-6 div.sk-parallel-item {display: flex;flex-direction: column;z-index: 1;position: relative;background-color: white;}#sk-container-id-6 div.sk-parallel-item:first-child::after {align-self: flex-end;width: 50%;}#sk-container-id-6 div.sk-parallel-item:last-child::after {align-self: flex-start;width: 50%;}#sk-container-id-6 div.sk-parallel-item:only-child::after {width: 0;}#sk-container-id-6 div.sk-dashed-wrapped {border: 1px dashed gray;margin: 0 0.4em 0.5em 0.4em;box-sizing: border-box;padding-bottom: 0.4em;background-color: white;}#sk-container-id-6 div.sk-label label {font-family: monospace;font-weight: bold;display: inline-block;line-height: 1.2em;}#sk-container-id-6 div.sk-label-container {text-align: center;}#sk-container-id-6 div.sk-container {/* jupyter's `normalize.less` sets `[hidden] { display: none; }` but bootstrap.min.css set `[hidden] { display: none !important; }` so we also need the `!important` here to be able to override the default hidden behavior on the sphinx rendered scikit-learn.org. See: https://github.com/scikit-learn/scikit-learn/issues/21755 */display: inline-block !important;position: relative;}#sk-container-id-6 div.sk-text-repr-fallback {display: none;}</style><div id=\"sk-container-id-6\" class=\"sk-top-container\"><div class=\"sk-text-repr-fallback\"><pre>RandomizedSearchCV(cv=5,\n",
       "                   estimator=BaggingClassifier(estimator=LogisticRegression(C=0.6193889824323069,\n",
       "                                                                            l1_ratio=0.2996004362847121,\n",
       "                                                                            max_iter=10000,\n",
       "                                                                            n_jobs=-1,\n",
       "                                                                            penalty=&#x27;elasticnet&#x27;,\n",
       "                                                                            random_state=2023,\n",
       "                                                                            solver=&#x27;saga&#x27;),\n",
       "                                               random_state=2023),\n",
       "                   n_iter=20, n_jobs=-1,\n",
       "                   param_distributions={&#x27;n_estimators&#x27;: &lt;scipy.stats._distn_infrastructure.rv_discrete_frozen object at 0x7fbd90981c60&gt;},\n",
       "                   random_state=2023, scoring=&#x27;neg_log_loss&#x27;, verbose=1)</pre><b>In a Jupyter environment, please rerun this cell to show the HTML representation or trust the notebook. <br />On GitHub, the HTML representation is unable to render, please try loading this page with nbviewer.org.</b></div><div class=\"sk-container\" hidden><div class=\"sk-item sk-dashed-wrapped\"><div class=\"sk-label-container\"><div class=\"sk-label sk-toggleable\"><input class=\"sk-toggleable__control sk-hidden--visually\" id=\"sk-estimator-id-14\" type=\"checkbox\" ><label for=\"sk-estimator-id-14\" class=\"sk-toggleable__label sk-toggleable__label-arrow\">RandomizedSearchCV</label><div class=\"sk-toggleable__content\"><pre>RandomizedSearchCV(cv=5,\n",
       "                   estimator=BaggingClassifier(estimator=LogisticRegression(C=0.6193889824323069,\n",
       "                                                                            l1_ratio=0.2996004362847121,\n",
       "                                                                            max_iter=10000,\n",
       "                                                                            n_jobs=-1,\n",
       "                                                                            penalty=&#x27;elasticnet&#x27;,\n",
       "                                                                            random_state=2023,\n",
       "                                                                            solver=&#x27;saga&#x27;),\n",
       "                                               random_state=2023),\n",
       "                   n_iter=20, n_jobs=-1,\n",
       "                   param_distributions={&#x27;n_estimators&#x27;: &lt;scipy.stats._distn_infrastructure.rv_discrete_frozen object at 0x7fbd90981c60&gt;},\n",
       "                   random_state=2023, scoring=&#x27;neg_log_loss&#x27;, verbose=1)</pre></div></div></div><div class=\"sk-parallel\"><div class=\"sk-parallel-item\"><div class=\"sk-item\"><div class=\"sk-label-container\"><div class=\"sk-label sk-toggleable\"><input class=\"sk-toggleable__control sk-hidden--visually\" id=\"sk-estimator-id-15\" type=\"checkbox\" ><label for=\"sk-estimator-id-15\" class=\"sk-toggleable__label sk-toggleable__label-arrow\">estimator: BaggingClassifier</label><div class=\"sk-toggleable__content\"><pre>BaggingClassifier(estimator=LogisticRegression(C=0.6193889824323069,\n",
       "                                               l1_ratio=0.2996004362847121,\n",
       "                                               max_iter=10000, n_jobs=-1,\n",
       "                                               penalty=&#x27;elasticnet&#x27;,\n",
       "                                               random_state=2023,\n",
       "                                               solver=&#x27;saga&#x27;),\n",
       "                  random_state=2023)</pre></div></div></div><div class=\"sk-serial\"><div class=\"sk-item sk-dashed-wrapped\"><div class=\"sk-parallel\"><div class=\"sk-parallel-item\"><div class=\"sk-item\"><div class=\"sk-label-container\"><div class=\"sk-label sk-toggleable\"><input class=\"sk-toggleable__control sk-hidden--visually\" id=\"sk-estimator-id-16\" type=\"checkbox\" ><label for=\"sk-estimator-id-16\" class=\"sk-toggleable__label sk-toggleable__label-arrow\">estimator: LogisticRegression</label><div class=\"sk-toggleable__content\"><pre>LogisticRegression(C=0.6193889824323069, l1_ratio=0.2996004362847121,\n",
       "                   max_iter=10000, n_jobs=-1, penalty=&#x27;elasticnet&#x27;,\n",
       "                   random_state=2023, solver=&#x27;saga&#x27;)</pre></div></div></div><div class=\"sk-serial\"><div class=\"sk-item\"><div class=\"sk-estimator sk-toggleable\"><input class=\"sk-toggleable__control sk-hidden--visually\" id=\"sk-estimator-id-17\" type=\"checkbox\" ><label for=\"sk-estimator-id-17\" class=\"sk-toggleable__label sk-toggleable__label-arrow\">LogisticRegression</label><div class=\"sk-toggleable__content\"><pre>LogisticRegression(C=0.6193889824323069, l1_ratio=0.2996004362847121,\n",
       "                   max_iter=10000, n_jobs=-1, penalty=&#x27;elasticnet&#x27;,\n",
       "                   random_state=2023, solver=&#x27;saga&#x27;)</pre></div></div></div></div></div></div></div></div></div></div></div></div></div></div></div>"
      ],
      "text/plain": [
       "RandomizedSearchCV(cv=5,\n",
       "                   estimator=BaggingClassifier(estimator=LogisticRegression(C=0.6193889824323069,\n",
       "                                                                            l1_ratio=0.2996004362847121,\n",
       "                                                                            max_iter=10000,\n",
       "                                                                            n_jobs=-1,\n",
       "                                                                            penalty='elasticnet',\n",
       "                                                                            random_state=2023,\n",
       "                                                                            solver='saga'),\n",
       "                                               random_state=2023),\n",
       "                   n_iter=20, n_jobs=-1,\n",
       "                   param_distributions={'n_estimators': <scipy.stats._distn_infrastructure.rv_discrete_frozen object at 0x7fbd90981c60>},\n",
       "                   random_state=2023, scoring='neg_log_loss', verbose=1)"
      ]
     },
     "execution_count": 46,
     "metadata": {},
     "output_type": "execute_result"
    }
   ],
   "source": [
    "# fit \n",
    "bg_cf_rnd_search.fit(X_train, y_train)"
   ]
  },
  {
   "cell_type": "code",
   "execution_count": 47,
   "id": "2ddda620",
   "metadata": {},
   "outputs": [
    {
     "name": "stdout",
     "output_type": "stream",
     "text": [
      "Le meilleur score est (log loss moyen) : 0.32879448061555083\n",
      "Les meilleurs paramètres sont: {'n_estimators': 72}\n"
     ]
    }
   ],
   "source": [
    "results['Bagging Regression Logistique'] = -bg_cf_rnd_search.best_score_\n",
    "print(f'Le meilleur score est (log loss moyen) : {-bg_cf_rnd_search.best_score_}')\n",
    "print(f'Les meilleurs paramètres sont: {bg_cf_rnd_search.best_params_}')\n",
    "best_bagging = bg_cf_rnd_search.best_estimator_"
   ]
  },
  {
   "cell_type": "markdown",
   "id": "a89f5c45",
   "metadata": {},
   "source": [
    "NB: l'améloration de 0.000141 est insignifiante par rapport au coût d'entrainement du bagging que cela engendre."
   ]
  },
  {
   "cell_type": "code",
   "execution_count": 48,
   "id": "9900f394",
   "metadata": {},
   "outputs": [
    {
     "data": {
      "image/png": "[encoded data removed]",
      "text/plain": [
       "<Figure size 640x480 with 1 Axes>"
      ]
     },
     "metadata": {},
     "output_type": "display_data"
    }
   ],
   "source": [
    "# Comparaison visuelle des log loss sur un digramme à bar\n",
    "plot_log_loss_bar(results)"
   ]
  },
  {
   "cell_type": "markdown",
   "id": "ce3c1886",
   "metadata": {},
   "source": [
    "## 5.7- Gradient Boosting"
   ]
  },
  {
   "cell_type": "code",
   "execution_count": 49,
   "id": "ce1f01ff",
   "metadata": {},
   "outputs": [],
   "source": [
    "# Estimateur\n",
    "gb_cf = GradientBoostingClassifier(random_state=2023)"
   ]
  },
  {
   "cell_type": "code",
   "execution_count": 50,
   "id": "db89217c",
   "metadata": {},
   "outputs": [],
   "source": [
    "# Paramètres de la recherche aléatoire\n",
    "param_rnd_search = dict(ccp_alpha = loguniform(1e-3, 1e3),\n",
    "                        max_depth=randint(2, 6),\n",
    "                        n_estimators=randint(2,200))\n",
    "\n",
    "# Remarque: avec np.arange(2, 7,1) et np.arange(2, 201,1) pour max_depth et n_estimators respectivement, le score est le \n",
    "# même, mais les autres paramètres pour le best estimator sont différents. randint semble retourner plusieurs fois les valeurs \n",
    "# pour satisfaire le nombre d'itération si cela s'impose, alors que np.arange ne le fait pas.\n",
    "\n",
    "# Recherche aléatoire\n",
    "gb_rnd_search = RandomizedSearchCV(gb_cf, \n",
    "                                    param_rnd_search, \n",
    "                                    n_iter=20, \n",
    "                                    scoring='neg_log_loss', \n",
    "                                    cv=5, \n",
    "                                    verbose=1, \n",
    "                                    n_jobs=-1,\n",
    "                                    random_state=2023)"
   ]
  },
  {
   "cell_type": "code",
   "execution_count": 51,
   "id": "8b9aec9b",
   "metadata": {},
   "outputs": [
    {
     "name": "stdout",
     "output_type": "stream",
     "text": [
      "Fitting 5 folds for each of 20 candidates, totalling 100 fits\n"
     ]
    },
    {
     "data": {
      "text/html": [
       "<style>#sk-container-id-7 {color: black;background-color: white;}#sk-container-id-7 pre{padding: 0;}#sk-container-id-7 div.sk-toggleable {background-color: white;}#sk-container-id-7 label.sk-toggleable__label {cursor: pointer;display: block;width: 100%;margin-bottom: 0;padding: 0.3em;box-sizing: border-box;text-align: center;}#sk-container-id-7 label.sk-toggleable__label-arrow:before {content: \"▸\";float: left;margin-right: 0.25em;color: #696969;}#sk-container-id-7 label.sk-toggleable__label-arrow:hover:before {color: black;}#sk-container-id-7 div.sk-estimator:hover label.sk-toggleable__label-arrow:before {color: black;}#sk-container-id-7 div.sk-toggleable__content {max-height: 0;max-width: 0;overflow: hidden;text-align: left;background-color: #f0f8ff;}#sk-container-id-7 div.sk-toggleable__content pre {margin: 0.2em;color: black;border-radius: 0.25em;background-color: #f0f8ff;}#sk-container-id-7 input.sk-toggleable__control:checked~div.sk-toggleable__content {max-height: 200px;max-width: 100%;overflow: auto;}#sk-container-id-7 input.sk-toggleable__control:checked~label.sk-toggleable__label-arrow:before {content: \"▾\";}#sk-container-id-7 div.sk-estimator input.sk-toggleable__control:checked~label.sk-toggleable__label {background-color: #d4ebff;}#sk-container-id-7 div.sk-label input.sk-toggleable__control:checked~label.sk-toggleable__label {background-color: #d4ebff;}#sk-container-id-7 input.sk-hidden--visually {border: 0;clip: rect(1px 1px 1px 1px);clip: rect(1px, 1px, 1px, 1px);height: 1px;margin: -1px;overflow: hidden;padding: 0;position: absolute;width: 1px;}#sk-container-id-7 div.sk-estimator {font-family: monospace;background-color: #f0f8ff;border: 1px dotted black;border-radius: 0.25em;box-sizing: border-box;margin-bottom: 0.5em;}#sk-container-id-7 div.sk-estimator:hover {background-color: #d4ebff;}#sk-container-id-7 div.sk-parallel-item::after {content: \"\";width: 100%;border-bottom: 1px solid gray;flex-grow: 1;}#sk-container-id-7 div.sk-label:hover label.sk-toggleable__label {background-color: #d4ebff;}#sk-container-id-7 div.sk-serial::before {content: \"\";position: absolute;border-left: 1px solid gray;box-sizing: border-box;top: 0;bottom: 0;left: 50%;z-index: 0;}#sk-container-id-7 div.sk-serial {display: flex;flex-direction: column;align-items: center;background-color: white;padding-right: 0.2em;padding-left: 0.2em;position: relative;}#sk-container-id-7 div.sk-item {position: relative;z-index: 1;}#sk-container-id-7 div.sk-parallel {display: flex;align-items: stretch;justify-content: center;background-color: white;position: relative;}#sk-container-id-7 div.sk-item::before, #sk-container-id-7 div.sk-parallel-item::before {content: \"\";position: absolute;border-left: 1px solid gray;box-sizing: border-box;top: 0;bottom: 0;left: 50%;z-index: -1;}#sk-container-id-7 div.sk-parallel-item {display: flex;flex-direction: column;z-index: 1;position: relative;background-color: white;}#sk-container-id-7 div.sk-parallel-item:first-child::after {align-self: flex-end;width: 50%;}#sk-container-id-7 div.sk-parallel-item:last-child::after {align-self: flex-start;width: 50%;}#sk-container-id-7 div.sk-parallel-item:only-child::after {width: 0;}#sk-container-id-7 div.sk-dashed-wrapped {border: 1px dashed gray;margin: 0 0.4em 0.5em 0.4em;box-sizing: border-box;padding-bottom: 0.4em;background-color: white;}#sk-container-id-7 div.sk-label label {font-family: monospace;font-weight: bold;display: inline-block;line-height: 1.2em;}#sk-container-id-7 div.sk-label-container {text-align: center;}#sk-container-id-7 div.sk-container {/* jupyter's `normalize.less` sets `[hidden] { display: none; }` but bootstrap.min.css set `[hidden] { display: none !important; }` so we also need the `!important` here to be able to override the default hidden behavior on the sphinx rendered scikit-learn.org. See: https://github.com/scikit-learn/scikit-learn/issues/21755 */display: inline-block !important;position: relative;}#sk-container-id-7 div.sk-text-repr-fallback {display: none;}</style><div id=\"sk-container-id-7\" class=\"sk-top-container\"><div class=\"sk-text-repr-fallback\"><pre>RandomizedSearchCV(cv=5,\n",
       "                   estimator=GradientBoostingClassifier(random_state=2023),\n",
       "                   n_iter=20, n_jobs=-1,\n",
       "                   param_distributions={&#x27;ccp_alpha&#x27;: &lt;scipy.stats._distn_infrastructure.rv_continuous_frozen object at 0x7fbd909ff4c0&gt;,\n",
       "                                        &#x27;max_depth&#x27;: &lt;scipy.stats._distn_infrastructure.rv_discrete_frozen object at 0x7fbd909ff310&gt;,\n",
       "                                        &#x27;n_estimators&#x27;: &lt;scipy.stats._distn_infrastructure.rv_discrete_frozen object at 0x7fbd909fea40&gt;},\n",
       "                   random_state=2023, scoring=&#x27;neg_log_loss&#x27;, verbose=1)</pre><b>In a Jupyter environment, please rerun this cell to show the HTML representation or trust the notebook. <br />On GitHub, the HTML representation is unable to render, please try loading this page with nbviewer.org.</b></div><div class=\"sk-container\" hidden><div class=\"sk-item sk-dashed-wrapped\"><div class=\"sk-label-container\"><div class=\"sk-label sk-toggleable\"><input class=\"sk-toggleable__control sk-hidden--visually\" id=\"sk-estimator-id-18\" type=\"checkbox\" ><label for=\"sk-estimator-id-18\" class=\"sk-toggleable__label sk-toggleable__label-arrow\">RandomizedSearchCV</label><div class=\"sk-toggleable__content\"><pre>RandomizedSearchCV(cv=5,\n",
       "                   estimator=GradientBoostingClassifier(random_state=2023),\n",
       "                   n_iter=20, n_jobs=-1,\n",
       "                   param_distributions={&#x27;ccp_alpha&#x27;: &lt;scipy.stats._distn_infrastructure.rv_continuous_frozen object at 0x7fbd909ff4c0&gt;,\n",
       "                                        &#x27;max_depth&#x27;: &lt;scipy.stats._distn_infrastructure.rv_discrete_frozen object at 0x7fbd909ff310&gt;,\n",
       "                                        &#x27;n_estimators&#x27;: &lt;scipy.stats._distn_infrastructure.rv_discrete_frozen object at 0x7fbd909fea40&gt;},\n",
       "                   random_state=2023, scoring=&#x27;neg_log_loss&#x27;, verbose=1)</pre></div></div></div><div class=\"sk-parallel\"><div class=\"sk-parallel-item\"><div class=\"sk-item\"><div class=\"sk-label-container\"><div class=\"sk-label sk-toggleable\"><input class=\"sk-toggleable__control sk-hidden--visually\" id=\"sk-estimator-id-19\" type=\"checkbox\" ><label for=\"sk-estimator-id-19\" class=\"sk-toggleable__label sk-toggleable__label-arrow\">estimator: GradientBoostingClassifier</label><div class=\"sk-toggleable__content\"><pre>GradientBoostingClassifier(random_state=2023)</pre></div></div></div><div class=\"sk-serial\"><div class=\"sk-item\"><div class=\"sk-estimator sk-toggleable\"><input class=\"sk-toggleable__control sk-hidden--visually\" id=\"sk-estimator-id-20\" type=\"checkbox\" ><label for=\"sk-estimator-id-20\" class=\"sk-toggleable__label sk-toggleable__label-arrow\">GradientBoostingClassifier</label><div class=\"sk-toggleable__content\"><pre>GradientBoostingClassifier(random_state=2023)</pre></div></div></div></div></div></div></div></div></div></div>"
      ],
      "text/plain": [
       "RandomizedSearchCV(cv=5,\n",
       "                   estimator=GradientBoostingClassifier(random_state=2023),\n",
       "                   n_iter=20, n_jobs=-1,\n",
       "                   param_distributions={'ccp_alpha': <scipy.stats._distn_infrastructure.rv_continuous_frozen object at 0x7fbd909ff4c0>,\n",
       "                                        'max_depth': <scipy.stats._distn_infrastructure.rv_discrete_frozen object at 0x7fbd909ff310>,\n",
       "                                        'n_estimators': <scipy.stats._distn_infrastructure.rv_discrete_frozen object at 0x7fbd909fea40>},\n",
       "                   random_state=2023, scoring='neg_log_loss', verbose=1)"
      ]
     },
     "execution_count": 51,
     "metadata": {},
     "output_type": "execute_result"
    }
   ],
   "source": [
    "# fit \n",
    "gb_rnd_search.fit(X_train, y_train)"
   ]
  },
  {
   "cell_type": "code",
   "execution_count": 52,
   "id": "4b6b14b8",
   "metadata": {},
   "outputs": [
    {
     "name": "stdout",
     "output_type": "stream",
     "text": [
      "Le meilleur score est (log loss moyen) : 0.36718684091509013\n",
      "Les meilleurs paramètres sont: {'ccp_alpha': 0.001237969183995374, 'max_depth': 3, 'n_estimators': 36}\n"
     ]
    }
   ],
   "source": [
    "results['Gradient Booting'] = -gb_rnd_search.best_score_\n",
    "print(f'Le meilleur score est (log loss moyen) : {-gb_rnd_search.best_score_}')\n",
    "print(f'Les meilleurs paramètres sont: {gb_rnd_search.best_params_}')\n",
    "best_gradient = gb_rnd_search.best_estimator_"
   ]
  },
  {
   "cell_type": "markdown",
   "id": "9278708f",
   "metadata": {},
   "source": [
    "NB: Le resultat est moins bon que celui de regression logistique."
   ]
  },
  {
   "cell_type": "code",
   "execution_count": 53,
   "id": "7a11123f",
   "metadata": {},
   "outputs": [
    {
     "data": {
      "image/png": "[encoded data removed]",
      "text/plain": [
       "<Figure size 640x480 with 1 Axes>"
      ]
     },
     "metadata": {},
     "output_type": "display_data"
    }
   ],
   "source": [
    "# Comparaison visuelle des log loss sur un digramme à bar\n",
    "plot_log_loss_bar(results)"
   ]
  },
  {
   "cell_type": "markdown",
   "id": "d6e2341b",
   "metadata": {},
   "source": [
    "## 5.8 - Voting classifier"
   ]
  },
  {
   "cell_type": "code",
   "execution_count": 54,
   "id": "97c7ccf8",
   "metadata": {},
   "outputs": [],
   "source": [
    "# Nous allons appliquer le voting classifier au 3 modèles de base précédents: Regression Logistique, KNN, Arbre de décision."
   ]
  },
  {
   "cell_type": "code",
   "execution_count": 55,
   "id": "94080969",
   "metadata": {},
   "outputs": [],
   "source": [
    "# Liste des estimateurs\n",
    "estimators = [('lr', best_lr), \n",
    "              ('knn', best_knn),              \n",
    "              ('dt', best_dt)]"
   ]
  },
  {
   "cell_type": "code",
   "execution_count": 56,
   "id": "c21c887d",
   "metadata": {},
   "outputs": [],
   "source": [
    "voting = VotingClassifier(estimators=estimators, voting='soft', n_jobs=-1)"
   ]
  },
  {
   "cell_type": "code",
   "execution_count": 57,
   "id": "7d22b7de",
   "metadata": {},
   "outputs": [
    {
     "data": {
      "text/html": [
       "<style>#sk-container-id-8 {color: black;background-color: white;}#sk-container-id-8 pre{padding: 0;}#sk-container-id-8 div.sk-toggleable {background-color: white;}#sk-container-id-8 label.sk-toggleable__label {cursor: pointer;display: block;width: 100%;margin-bottom: 0;padding: 0.3em;box-sizing: border-box;text-align: center;}#sk-container-id-8 label.sk-toggleable__label-arrow:before {content: \"▸\";float: left;margin-right: 0.25em;color: #696969;}#sk-container-id-8 label.sk-toggleable__label-arrow:hover:before {color: black;}#sk-container-id-8 div.sk-estimator:hover label.sk-toggleable__label-arrow:before {color: black;}#sk-container-id-8 div.sk-toggleable__content {max-height: 0;max-width: 0;overflow: hidden;text-align: left;background-color: #f0f8ff;}#sk-container-id-8 div.sk-toggleable__content pre {margin: 0.2em;color: black;border-radius: 0.25em;background-color: #f0f8ff;}#sk-container-id-8 input.sk-toggleable__control:checked~div.sk-toggleable__content {max-height: 200px;max-width: 100%;overflow: auto;}#sk-container-id-8 input.sk-toggleable__control:checked~label.sk-toggleable__label-arrow:before {content: \"▾\";}#sk-container-id-8 div.sk-estimator input.sk-toggleable__control:checked~label.sk-toggleable__label {background-color: #d4ebff;}#sk-container-id-8 div.sk-label input.sk-toggleable__control:checked~label.sk-toggleable__label {background-color: #d4ebff;}#sk-container-id-8 input.sk-hidden--visually {border: 0;clip: rect(1px 1px 1px 1px);clip: rect(1px, 1px, 1px, 1px);height: 1px;margin: -1px;overflow: hidden;padding: 0;position: absolute;width: 1px;}#sk-container-id-8 div.sk-estimator {font-family: monospace;background-color: #f0f8ff;border: 1px dotted black;border-radius: 0.25em;box-sizing: border-box;margin-bottom: 0.5em;}#sk-container-id-8 div.sk-estimator:hover {background-color: #d4ebff;}#sk-container-id-8 div.sk-parallel-item::after {content: \"\";width: 100%;border-bottom: 1px solid gray;flex-grow: 1;}#sk-container-id-8 div.sk-label:hover label.sk-toggleable__label {background-color: #d4ebff;}#sk-container-id-8 div.sk-serial::before {content: \"\";position: absolute;border-left: 1px solid gray;box-sizing: border-box;top: 0;bottom: 0;left: 50%;z-index: 0;}#sk-container-id-8 div.sk-serial {display: flex;flex-direction: column;align-items: center;background-color: white;padding-right: 0.2em;padding-left: 0.2em;position: relative;}#sk-container-id-8 div.sk-item {position: relative;z-index: 1;}#sk-container-id-8 div.sk-parallel {display: flex;align-items: stretch;justify-content: center;background-color: white;position: relative;}#sk-container-id-8 div.sk-item::before, #sk-container-id-8 div.sk-parallel-item::before {content: \"\";position: absolute;border-left: 1px solid gray;box-sizing: border-box;top: 0;bottom: 0;left: 50%;z-index: -1;}#sk-container-id-8 div.sk-parallel-item {display: flex;flex-direction: column;z-index: 1;position: relative;background-color: white;}#sk-container-id-8 div.sk-parallel-item:first-child::after {align-self: flex-end;width: 50%;}#sk-container-id-8 div.sk-parallel-item:last-child::after {align-self: flex-start;width: 50%;}#sk-container-id-8 div.sk-parallel-item:only-child::after {width: 0;}#sk-container-id-8 div.sk-dashed-wrapped {border: 1px dashed gray;margin: 0 0.4em 0.5em 0.4em;box-sizing: border-box;padding-bottom: 0.4em;background-color: white;}#sk-container-id-8 div.sk-label label {font-family: monospace;font-weight: bold;display: inline-block;line-height: 1.2em;}#sk-container-id-8 div.sk-label-container {text-align: center;}#sk-container-id-8 div.sk-container {/* jupyter's `normalize.less` sets `[hidden] { display: none; }` but bootstrap.min.css set `[hidden] { display: none !important; }` so we also need the `!important` here to be able to override the default hidden behavior on the sphinx rendered scikit-learn.org. See: https://github.com/scikit-learn/scikit-learn/issues/21755 */display: inline-block !important;position: relative;}#sk-container-id-8 div.sk-text-repr-fallback {display: none;}</style><div id=\"sk-container-id-8\" class=\"sk-top-container\"><div class=\"sk-text-repr-fallback\"><pre>VotingClassifier(estimators=[(&#x27;lr&#x27;,\n",
       "                              LogisticRegression(C=0.6193889824323069,\n",
       "                                                 l1_ratio=0.2996004362847121,\n",
       "                                                 max_iter=10000, n_jobs=-1,\n",
       "                                                 penalty=&#x27;elasticnet&#x27;,\n",
       "                                                 random_state=2023,\n",
       "                                                 solver=&#x27;saga&#x27;)),\n",
       "                             (&#x27;knn&#x27;,\n",
       "                              KNeighborsClassifier(n_jobs=-1, n_neighbors=42,\n",
       "                                                   weights=&#x27;distance&#x27;)),\n",
       "                             (&#x27;dt&#x27;,\n",
       "                              DecisionTreeClassifier(ccp_alpha=0.004282248598847301,\n",
       "                                                     criterion=&#x27;log_loss&#x27;,\n",
       "                                                     max_depth=24,\n",
       "                                                     random_state=2023))],\n",
       "                 n_jobs=-1, voting=&#x27;soft&#x27;)</pre><b>In a Jupyter environment, please rerun this cell to show the HTML representation or trust the notebook. <br />On GitHub, the HTML representation is unable to render, please try loading this page with nbviewer.org.</b></div><div class=\"sk-container\" hidden><div class=\"sk-item sk-dashed-wrapped\"><div class=\"sk-label-container\"><div class=\"sk-label sk-toggleable\"><input class=\"sk-toggleable__control sk-hidden--visually\" id=\"sk-estimator-id-21\" type=\"checkbox\" ><label for=\"sk-estimator-id-21\" class=\"sk-toggleable__label sk-toggleable__label-arrow\">VotingClassifier</label><div class=\"sk-toggleable__content\"><pre>VotingClassifier(estimators=[(&#x27;lr&#x27;,\n",
       "                              LogisticRegression(C=0.6193889824323069,\n",
       "                                                 l1_ratio=0.2996004362847121,\n",
       "                                                 max_iter=10000, n_jobs=-1,\n",
       "                                                 penalty=&#x27;elasticnet&#x27;,\n",
       "                                                 random_state=2023,\n",
       "                                                 solver=&#x27;saga&#x27;)),\n",
       "                             (&#x27;knn&#x27;,\n",
       "                              KNeighborsClassifier(n_jobs=-1, n_neighbors=42,\n",
       "                                                   weights=&#x27;distance&#x27;)),\n",
       "                             (&#x27;dt&#x27;,\n",
       "                              DecisionTreeClassifier(ccp_alpha=0.004282248598847301,\n",
       "                                                     criterion=&#x27;log_loss&#x27;,\n",
       "                                                     max_depth=24,\n",
       "                                                     random_state=2023))],\n",
       "                 n_jobs=-1, voting=&#x27;soft&#x27;)</pre></div></div></div><div class=\"sk-parallel\"><div class=\"sk-parallel-item\"><div class=\"sk-item\"><div class=\"sk-label-container\"><div class=\"sk-label sk-toggleable\"><label>lr</label></div></div><div class=\"sk-serial\"><div class=\"sk-item\"><div class=\"sk-estimator sk-toggleable\"><input class=\"sk-toggleable__control sk-hidden--visually\" id=\"sk-estimator-id-22\" type=\"checkbox\" ><label for=\"sk-estimator-id-22\" class=\"sk-toggleable__label sk-toggleable__label-arrow\">LogisticRegression</label><div class=\"sk-toggleable__content\"><pre>LogisticRegression(C=0.6193889824323069, l1_ratio=0.2996004362847121,\n",
       "                   max_iter=10000, n_jobs=-1, penalty=&#x27;elasticnet&#x27;,\n",
       "                   random_state=2023, solver=&#x27;saga&#x27;)</pre></div></div></div></div></div></div><div class=\"sk-parallel-item\"><div class=\"sk-item\"><div class=\"sk-label-container\"><div class=\"sk-label sk-toggleable\"><label>knn</label></div></div><div class=\"sk-serial\"><div class=\"sk-item\"><div class=\"sk-estimator sk-toggleable\"><input class=\"sk-toggleable__control sk-hidden--visually\" id=\"sk-estimator-id-23\" type=\"checkbox\" ><label for=\"sk-estimator-id-23\" class=\"sk-toggleable__label sk-toggleable__label-arrow\">KNeighborsClassifier</label><div class=\"sk-toggleable__content\"><pre>KNeighborsClassifier(n_jobs=-1, n_neighbors=42, weights=&#x27;distance&#x27;)</pre></div></div></div></div></div></div><div class=\"sk-parallel-item\"><div class=\"sk-item\"><div class=\"sk-label-container\"><div class=\"sk-label sk-toggleable\"><label>dt</label></div></div><div class=\"sk-serial\"><div class=\"sk-item\"><div class=\"sk-estimator sk-toggleable\"><input class=\"sk-toggleable__control sk-hidden--visually\" id=\"sk-estimator-id-24\" type=\"checkbox\" ><label for=\"sk-estimator-id-24\" class=\"sk-toggleable__label sk-toggleable__label-arrow\">DecisionTreeClassifier</label><div class=\"sk-toggleable__content\"><pre>DecisionTreeClassifier(ccp_alpha=0.004282248598847301, criterion=&#x27;log_loss&#x27;,\n",
       "                       max_depth=24, random_state=2023)</pre></div></div></div></div></div></div></div></div></div></div>"
      ],
      "text/plain": [
       "VotingClassifier(estimators=[('lr',\n",
       "                              LogisticRegression(C=0.6193889824323069,\n",
       "                                                 l1_ratio=0.2996004362847121,\n",
       "                                                 max_iter=10000, n_jobs=-1,\n",
       "                                                 penalty='elasticnet',\n",
       "                                                 random_state=2023,\n",
       "                                                 solver='saga')),\n",
       "                             ('knn',\n",
       "                              KNeighborsClassifier(n_jobs=-1, n_neighbors=42,\n",
       "                                                   weights='distance')),\n",
       "                             ('dt',\n",
       "                              DecisionTreeClassifier(ccp_alpha=0.004282248598847301,\n",
       "                                                     criterion='log_loss',\n",
       "                                                     max_depth=24,\n",
       "                                                     random_state=2023))],\n",
       "                 n_jobs=-1, voting='soft')"
      ]
     },
     "execution_count": 57,
     "metadata": {},
     "output_type": "execute_result"
    }
   ],
   "source": [
    "voting.fit(X_train, y_train)"
   ]
  },
  {
   "cell_type": "code",
   "execution_count": 58,
   "id": "51ec9054",
   "metadata": {},
   "outputs": [],
   "source": [
    "# Score sur les plis de validation\n",
    "score_log_loss_voting = -cross_val_score(voting, X_train, y_train, scoring='neg_log_loss', cv=strat_kfold, n_jobs=-1).mean()"
   ]
  },
  {
   "cell_type": "code",
   "execution_count": 59,
   "id": "9c2b8145",
   "metadata": {},
   "outputs": [
    {
     "name": "stdout",
     "output_type": "stream",
     "text": [
      "Le score log loss pour le voting est de : 0.3322930572138265\n"
     ]
    }
   ],
   "source": [
    "print(f'Le score log loss pour le voting est de : {score_log_loss_voting}')"
   ]
  },
  {
   "cell_type": "markdown",
   "id": "c5be78f3",
   "metadata": {},
   "source": [
    "NB: Le resultat est moins bon que celui de regression logistique."
   ]
  },
  {
   "cell_type": "code",
   "execution_count": 60,
   "id": "505f8390",
   "metadata": {},
   "outputs": [
    {
     "data": {
      "image/png": "[encoded data removed]",
      "text/plain": [
       "<Figure size 640x480 with 1 Axes>"
      ]
     },
     "metadata": {},
     "output_type": "display_data"
    }
   ],
   "source": [
    "# Comparaison visuelle des log loss sur un digramme à bar\n",
    "results['Voting'] = score_log_loss_voting\n",
    "plot_log_loss_bar(results)"
   ]
  },
  {
   "cell_type": "markdown",
   "id": "00340193",
   "metadata": {},
   "source": [
    "## 5.9- Stacking"
   ]
  },
  {
   "cell_type": "code",
   "execution_count": 61,
   "id": "eb51a592",
   "metadata": {},
   "outputs": [],
   "source": [
    "# Nous allons ici tenter d'obtenir un meilleur modèle avec les techniques de stacking"
   ]
  },
  {
   "cell_type": "markdown",
   "id": "f9667402",
   "metadata": {},
   "source": [
    "### Stacking 1er variante"
   ]
  },
  {
   "cell_type": "code",
   "execution_count": 62,
   "id": "b4d51eaf",
   "metadata": {},
   "outputs": [],
   "source": [
    "# Liste des estimateurs\n",
    "estimators = [('lr', best_lr), \n",
    "              ('knn', best_knn),              \n",
    "              ('dt', best_dt)]"
   ]
  },
  {
   "cell_type": "code",
   "execution_count": 63,
   "id": "f275f188",
   "metadata": {},
   "outputs": [],
   "source": [
    "stacking1 = StackingClassifier(estimators = estimators, cv=strat_kfold, final_estimator=LogisticRegression())"
   ]
  },
  {
   "cell_type": "code",
   "execution_count": 64,
   "id": "efef770c",
   "metadata": {},
   "outputs": [
    {
     "data": {
      "text/html": [
       "<style>#sk-container-id-9 {color: black;background-color: white;}#sk-container-id-9 pre{padding: 0;}#sk-container-id-9 div.sk-toggleable {background-color: white;}#sk-container-id-9 label.sk-toggleable__label {cursor: pointer;display: block;width: 100%;margin-bottom: 0;padding: 0.3em;box-sizing: border-box;text-align: center;}#sk-container-id-9 label.sk-toggleable__label-arrow:before {content: \"▸\";float: left;margin-right: 0.25em;color: #696969;}#sk-container-id-9 label.sk-toggleable__label-arrow:hover:before {color: black;}#sk-container-id-9 div.sk-estimator:hover label.sk-toggleable__label-arrow:before {color: black;}#sk-container-id-9 div.sk-toggleable__content {max-height: 0;max-width: 0;overflow: hidden;text-align: left;background-color: #f0f8ff;}#sk-container-id-9 div.sk-toggleable__content pre {margin: 0.2em;color: black;border-radius: 0.25em;background-color: #f0f8ff;}#sk-container-id-9 input.sk-toggleable__control:checked~div.sk-toggleable__content {max-height: 200px;max-width: 100%;overflow: auto;}#sk-container-id-9 input.sk-toggleable__control:checked~label.sk-toggleable__label-arrow:before {content: \"▾\";}#sk-container-id-9 div.sk-estimator input.sk-toggleable__control:checked~label.sk-toggleable__label {background-color: #d4ebff;}#sk-container-id-9 div.sk-label input.sk-toggleable__control:checked~label.sk-toggleable__label {background-color: #d4ebff;}#sk-container-id-9 input.sk-hidden--visually {border: 0;clip: rect(1px 1px 1px 1px);clip: rect(1px, 1px, 1px, 1px);height: 1px;margin: -1px;overflow: hidden;padding: 0;position: absolute;width: 1px;}#sk-container-id-9 div.sk-estimator {font-family: monospace;background-color: #f0f8ff;border: 1px dotted black;border-radius: 0.25em;box-sizing: border-box;margin-bottom: 0.5em;}#sk-container-id-9 div.sk-estimator:hover {background-color: #d4ebff;}#sk-container-id-9 div.sk-parallel-item::after {content: \"\";width: 100%;border-bottom: 1px solid gray;flex-grow: 1;}#sk-container-id-9 div.sk-label:hover label.sk-toggleable__label {background-color: #d4ebff;}#sk-container-id-9 div.sk-serial::before {content: \"\";position: absolute;border-left: 1px solid gray;box-sizing: border-box;top: 0;bottom: 0;left: 50%;z-index: 0;}#sk-container-id-9 div.sk-serial {display: flex;flex-direction: column;align-items: center;background-color: white;padding-right: 0.2em;padding-left: 0.2em;position: relative;}#sk-container-id-9 div.sk-item {position: relative;z-index: 1;}#sk-container-id-9 div.sk-parallel {display: flex;align-items: stretch;justify-content: center;background-color: white;position: relative;}#sk-container-id-9 div.sk-item::before, #sk-container-id-9 div.sk-parallel-item::before {content: \"\";position: absolute;border-left: 1px solid gray;box-sizing: border-box;top: 0;bottom: 0;left: 50%;z-index: -1;}#sk-container-id-9 div.sk-parallel-item {display: flex;flex-direction: column;z-index: 1;position: relative;background-color: white;}#sk-container-id-9 div.sk-parallel-item:first-child::after {align-self: flex-end;width: 50%;}#sk-container-id-9 div.sk-parallel-item:last-child::after {align-self: flex-start;width: 50%;}#sk-container-id-9 div.sk-parallel-item:only-child::after {width: 0;}#sk-container-id-9 div.sk-dashed-wrapped {border: 1px dashed gray;margin: 0 0.4em 0.5em 0.4em;box-sizing: border-box;padding-bottom: 0.4em;background-color: white;}#sk-container-id-9 div.sk-label label {font-family: monospace;font-weight: bold;display: inline-block;line-height: 1.2em;}#sk-container-id-9 div.sk-label-container {text-align: center;}#sk-container-id-9 div.sk-container {/* jupyter's `normalize.less` sets `[hidden] { display: none; }` but bootstrap.min.css set `[hidden] { display: none !important; }` so we also need the `!important` here to be able to override the default hidden behavior on the sphinx rendered scikit-learn.org. See: https://github.com/scikit-learn/scikit-learn/issues/21755 */display: inline-block !important;position: relative;}#sk-container-id-9 div.sk-text-repr-fallback {display: none;}</style><div id=\"sk-container-id-9\" class=\"sk-top-container\"><div class=\"sk-text-repr-fallback\"><pre>StackingClassifier(cv=StratifiedKFold(n_splits=5, random_state=2023, shuffle=True),\n",
       "                   estimators=[(&#x27;lr&#x27;,\n",
       "                                LogisticRegression(C=0.6193889824323069,\n",
       "                                                   l1_ratio=0.2996004362847121,\n",
       "                                                   max_iter=10000, n_jobs=-1,\n",
       "                                                   penalty=&#x27;elasticnet&#x27;,\n",
       "                                                   random_state=2023,\n",
       "                                                   solver=&#x27;saga&#x27;)),\n",
       "                               (&#x27;knn&#x27;,\n",
       "                                KNeighborsClassifier(n_jobs=-1, n_neighbors=42,\n",
       "                                                     weights=&#x27;distance&#x27;)),\n",
       "                               (&#x27;dt&#x27;,\n",
       "                                DecisionTreeClassifier(ccp_alpha=0.004282248598847301,\n",
       "                                                       criterion=&#x27;log_loss&#x27;,\n",
       "                                                       max_depth=24,\n",
       "                                                       random_state=2023))],\n",
       "                   final_estimator=LogisticRegression())</pre><b>In a Jupyter environment, please rerun this cell to show the HTML representation or trust the notebook. <br />On GitHub, the HTML representation is unable to render, please try loading this page with nbviewer.org.</b></div><div class=\"sk-container\" hidden><div class=\"sk-item sk-dashed-wrapped\"><div class=\"sk-label-container\"><div class=\"sk-label sk-toggleable\"><input class=\"sk-toggleable__control sk-hidden--visually\" id=\"sk-estimator-id-25\" type=\"checkbox\" ><label for=\"sk-estimator-id-25\" class=\"sk-toggleable__label sk-toggleable__label-arrow\">StackingClassifier</label><div class=\"sk-toggleable__content\"><pre>StackingClassifier(cv=StratifiedKFold(n_splits=5, random_state=2023, shuffle=True),\n",
       "                   estimators=[(&#x27;lr&#x27;,\n",
       "                                LogisticRegression(C=0.6193889824323069,\n",
       "                                                   l1_ratio=0.2996004362847121,\n",
       "                                                   max_iter=10000, n_jobs=-1,\n",
       "                                                   penalty=&#x27;elasticnet&#x27;,\n",
       "                                                   random_state=2023,\n",
       "                                                   solver=&#x27;saga&#x27;)),\n",
       "                               (&#x27;knn&#x27;,\n",
       "                                KNeighborsClassifier(n_jobs=-1, n_neighbors=42,\n",
       "                                                     weights=&#x27;distance&#x27;)),\n",
       "                               (&#x27;dt&#x27;,\n",
       "                                DecisionTreeClassifier(ccp_alpha=0.004282248598847301,\n",
       "                                                       criterion=&#x27;log_loss&#x27;,\n",
       "                                                       max_depth=24,\n",
       "                                                       random_state=2023))],\n",
       "                   final_estimator=LogisticRegression())</pre></div></div></div><div class=\"sk-serial\"><div class=\"sk-item\"><div class=\"sk-parallel\"><div class=\"sk-parallel-item\"><div class=\"sk-item\"><div class=\"sk-label-container\"><div class=\"sk-label sk-toggleable\"><label>lr</label></div></div><div class=\"sk-serial\"><div class=\"sk-item\"><div class=\"sk-estimator sk-toggleable\"><input class=\"sk-toggleable__control sk-hidden--visually\" id=\"sk-estimator-id-26\" type=\"checkbox\" ><label for=\"sk-estimator-id-26\" class=\"sk-toggleable__label sk-toggleable__label-arrow\">LogisticRegression</label><div class=\"sk-toggleable__content\"><pre>LogisticRegression(C=0.6193889824323069, l1_ratio=0.2996004362847121,\n",
       "                   max_iter=10000, n_jobs=-1, penalty=&#x27;elasticnet&#x27;,\n",
       "                   random_state=2023, solver=&#x27;saga&#x27;)</pre></div></div></div></div></div></div><div class=\"sk-parallel-item\"><div class=\"sk-item\"><div class=\"sk-label-container\"><div class=\"sk-label sk-toggleable\"><label>knn</label></div></div><div class=\"sk-serial\"><div class=\"sk-item\"><div class=\"sk-estimator sk-toggleable\"><input class=\"sk-toggleable__control sk-hidden--visually\" id=\"sk-estimator-id-27\" type=\"checkbox\" ><label for=\"sk-estimator-id-27\" class=\"sk-toggleable__label sk-toggleable__label-arrow\">KNeighborsClassifier</label><div class=\"sk-toggleable__content\"><pre>KNeighborsClassifier(n_jobs=-1, n_neighbors=42, weights=&#x27;distance&#x27;)</pre></div></div></div></div></div></div><div class=\"sk-parallel-item\"><div class=\"sk-item\"><div class=\"sk-label-container\"><div class=\"sk-label sk-toggleable\"><label>dt</label></div></div><div class=\"sk-serial\"><div class=\"sk-item\"><div class=\"sk-estimator sk-toggleable\"><input class=\"sk-toggleable__control sk-hidden--visually\" id=\"sk-estimator-id-28\" type=\"checkbox\" ><label for=\"sk-estimator-id-28\" class=\"sk-toggleable__label sk-toggleable__label-arrow\">DecisionTreeClassifier</label><div class=\"sk-toggleable__content\"><pre>DecisionTreeClassifier(ccp_alpha=0.004282248598847301, criterion=&#x27;log_loss&#x27;,\n",
       "                       max_depth=24, random_state=2023)</pre></div></div></div></div></div></div></div></div><div class=\"sk-item\"><div class=\"sk-parallel\"><div class=\"sk-parallel-item\"><div class=\"sk-item\"><div class=\"sk-label-container\"><div class=\"sk-label sk-toggleable\"><label>final_estimator</label></div></div><div class=\"sk-serial\"><div class=\"sk-item\"><div class=\"sk-estimator sk-toggleable\"><input class=\"sk-toggleable__control sk-hidden--visually\" id=\"sk-estimator-id-29\" type=\"checkbox\" ><label for=\"sk-estimator-id-29\" class=\"sk-toggleable__label sk-toggleable__label-arrow\">LogisticRegression</label><div class=\"sk-toggleable__content\"><pre>LogisticRegression()</pre></div></div></div></div></div></div></div></div></div></div></div></div>"
      ],
      "text/plain": [
       "StackingClassifier(cv=StratifiedKFold(n_splits=5, random_state=2023, shuffle=True),\n",
       "                   estimators=[('lr',\n",
       "                                LogisticRegression(C=0.6193889824323069,\n",
       "                                                   l1_ratio=0.2996004362847121,\n",
       "                                                   max_iter=10000, n_jobs=-1,\n",
       "                                                   penalty='elasticnet',\n",
       "                                                   random_state=2023,\n",
       "                                                   solver='saga')),\n",
       "                               ('knn',\n",
       "                                KNeighborsClassifier(n_jobs=-1, n_neighbors=42,\n",
       "                                                     weights='distance')),\n",
       "                               ('dt',\n",
       "                                DecisionTreeClassifier(ccp_alpha=0.004282248598847301,\n",
       "                                                       criterion='log_loss',\n",
       "                                                       max_depth=24,\n",
       "                                                       random_state=2023))],\n",
       "                   final_estimator=LogisticRegression())"
      ]
     },
     "execution_count": 64,
     "metadata": {},
     "output_type": "execute_result"
    }
   ],
   "source": [
    "stacking1.fit(X_train, y_train)"
   ]
  },
  {
   "cell_type": "code",
   "execution_count": 65,
   "id": "0dd6ed3f",
   "metadata": {},
   "outputs": [],
   "source": [
    "# Score sur les plis de validation\n",
    "score_log_loss_staking1 = -cross_val_score(stacking1, \n",
    "                                           X_train, \n",
    "                                           y_train, \n",
    "                                           scoring='neg_log_loss', \n",
    "                                           cv=strat_kfold, \n",
    "                                           n_jobs=-1).mean()"
   ]
  },
  {
   "cell_type": "code",
   "execution_count": 66,
   "id": "4ae9de44",
   "metadata": {},
   "outputs": [
    {
     "name": "stdout",
     "output_type": "stream",
     "text": [
      "Le score log loss pour le stacking 1 est de : 0.3293418607330162\n"
     ]
    }
   ],
   "source": [
    "print(f'Le score log loss pour le stacking 1 est de : {score_log_loss_staking1}')"
   ]
  },
  {
   "cell_type": "markdown",
   "id": "ebb04a7f",
   "metadata": {},
   "source": [
    "NB: l'améloration de 0.00041 est insignifiante par rapport au coût d'entrainement du stacking que cela engendre."
   ]
  },
  {
   "cell_type": "code",
   "execution_count": 67,
   "id": "9b05f1e9",
   "metadata": {},
   "outputs": [
    {
     "data": {
      "image/png": "[encoded data removed]",
      "text/plain": [
       "<Figure size 640x480 with 1 Axes>"
      ]
     },
     "metadata": {},
     "output_type": "display_data"
    }
   ],
   "source": [
    "# Comparaison visuelle des log loss sur un digramme à bar\n",
    "results['Staking 1'] = score_log_loss_staking1\n",
    "plot_log_loss_bar(results)"
   ]
  },
  {
   "cell_type": "markdown",
   "id": "e9423170",
   "metadata": {},
   "source": [
    "### Stacking 2ieme variante"
   ]
  },
  {
   "cell_type": "code",
   "execution_count": 68,
   "id": "fe135032",
   "metadata": {},
   "outputs": [],
   "source": [
    "# Nous allons séparer notre jeux d'entrainement en 3 jeux de taille respective 50%, 25% et 25%\n",
    "X_a, X_1, y_a, y_1 = train_test_split(X_train, y_train, stratify=y_train, random_state=2023, shuffle=True, train_size=0.50)"
   ]
  },
  {
   "cell_type": "code",
   "execution_count": 69,
   "id": "e47bfdf0",
   "metadata": {},
   "outputs": [],
   "source": [
    "X_b, X_c, y_b, y_c = train_test_split(X_1, y_1, stratify=y_1, random_state=2023, shuffle=True, test_size=0.5)"
   ]
  },
  {
   "cell_type": "code",
   "execution_count": 70,
   "id": "16f71a13",
   "metadata": {},
   "outputs": [],
   "source": [
    "# Estimateur à stacker\n",
    "lr = best_lr\n",
    "knn = best_knn\n",
    "dt = best_dt"
   ]
  },
  {
   "cell_type": "code",
   "execution_count": 71,
   "id": "83050d21",
   "metadata": {},
   "outputs": [
    {
     "data": {
      "text/html": [
       "<style>#sk-container-id-10 {color: black;background-color: white;}#sk-container-id-10 pre{padding: 0;}#sk-container-id-10 div.sk-toggleable {background-color: white;}#sk-container-id-10 label.sk-toggleable__label {cursor: pointer;display: block;width: 100%;margin-bottom: 0;padding: 0.3em;box-sizing: border-box;text-align: center;}#sk-container-id-10 label.sk-toggleable__label-arrow:before {content: \"▸\";float: left;margin-right: 0.25em;color: #696969;}#sk-container-id-10 label.sk-toggleable__label-arrow:hover:before {color: black;}#sk-container-id-10 div.sk-estimator:hover label.sk-toggleable__label-arrow:before {color: black;}#sk-container-id-10 div.sk-toggleable__content {max-height: 0;max-width: 0;overflow: hidden;text-align: left;background-color: #f0f8ff;}#sk-container-id-10 div.sk-toggleable__content pre {margin: 0.2em;color: black;border-radius: 0.25em;background-color: #f0f8ff;}#sk-container-id-10 input.sk-toggleable__control:checked~div.sk-toggleable__content {max-height: 200px;max-width: 100%;overflow: auto;}#sk-container-id-10 input.sk-toggleable__control:checked~label.sk-toggleable__label-arrow:before {content: \"▾\";}#sk-container-id-10 div.sk-estimator input.sk-toggleable__control:checked~label.sk-toggleable__label {background-color: #d4ebff;}#sk-container-id-10 div.sk-label input.sk-toggleable__control:checked~label.sk-toggleable__label {background-color: #d4ebff;}#sk-container-id-10 input.sk-hidden--visually {border: 0;clip: rect(1px 1px 1px 1px);clip: rect(1px, 1px, 1px, 1px);height: 1px;margin: -1px;overflow: hidden;padding: 0;position: absolute;width: 1px;}#sk-container-id-10 div.sk-estimator {font-family: monospace;background-color: #f0f8ff;border: 1px dotted black;border-radius: 0.25em;box-sizing: border-box;margin-bottom: 0.5em;}#sk-container-id-10 div.sk-estimator:hover {background-color: #d4ebff;}#sk-container-id-10 div.sk-parallel-item::after {content: \"\";width: 100%;border-bottom: 1px solid gray;flex-grow: 1;}#sk-container-id-10 div.sk-label:hover label.sk-toggleable__label {background-color: #d4ebff;}#sk-container-id-10 div.sk-serial::before {content: \"\";position: absolute;border-left: 1px solid gray;box-sizing: border-box;top: 0;bottom: 0;left: 50%;z-index: 0;}#sk-container-id-10 div.sk-serial {display: flex;flex-direction: column;align-items: center;background-color: white;padding-right: 0.2em;padding-left: 0.2em;position: relative;}#sk-container-id-10 div.sk-item {position: relative;z-index: 1;}#sk-container-id-10 div.sk-parallel {display: flex;align-items: stretch;justify-content: center;background-color: white;position: relative;}#sk-container-id-10 div.sk-item::before, #sk-container-id-10 div.sk-parallel-item::before {content: \"\";position: absolute;border-left: 1px solid gray;box-sizing: border-box;top: 0;bottom: 0;left: 50%;z-index: -1;}#sk-container-id-10 div.sk-parallel-item {display: flex;flex-direction: column;z-index: 1;position: relative;background-color: white;}#sk-container-id-10 div.sk-parallel-item:first-child::after {align-self: flex-end;width: 50%;}#sk-container-id-10 div.sk-parallel-item:last-child::after {align-self: flex-start;width: 50%;}#sk-container-id-10 div.sk-parallel-item:only-child::after {width: 0;}#sk-container-id-10 div.sk-dashed-wrapped {border: 1px dashed gray;margin: 0 0.4em 0.5em 0.4em;box-sizing: border-box;padding-bottom: 0.4em;background-color: white;}#sk-container-id-10 div.sk-label label {font-family: monospace;font-weight: bold;display: inline-block;line-height: 1.2em;}#sk-container-id-10 div.sk-label-container {text-align: center;}#sk-container-id-10 div.sk-container {/* jupyter's `normalize.less` sets `[hidden] { display: none; }` but bootstrap.min.css set `[hidden] { display: none !important; }` so we also need the `!important` here to be able to override the default hidden behavior on the sphinx rendered scikit-learn.org. See: https://github.com/scikit-learn/scikit-learn/issues/21755 */display: inline-block !important;position: relative;}#sk-container-id-10 div.sk-text-repr-fallback {display: none;}</style><div id=\"sk-container-id-10\" class=\"sk-top-container\"><div class=\"sk-text-repr-fallback\"><pre>LogisticRegression(C=0.6193889824323069, l1_ratio=0.2996004362847121,\n",
       "                   max_iter=10000, n_jobs=-1, penalty=&#x27;elasticnet&#x27;,\n",
       "                   random_state=2023, solver=&#x27;saga&#x27;)</pre><b>In a Jupyter environment, please rerun this cell to show the HTML representation or trust the notebook. <br />On GitHub, the HTML representation is unable to render, please try loading this page with nbviewer.org.</b></div><div class=\"sk-container\" hidden><div class=\"sk-item\"><div class=\"sk-estimator sk-toggleable\"><input class=\"sk-toggleable__control sk-hidden--visually\" id=\"sk-estimator-id-30\" type=\"checkbox\" checked><label for=\"sk-estimator-id-30\" class=\"sk-toggleable__label sk-toggleable__label-arrow\">LogisticRegression</label><div class=\"sk-toggleable__content\"><pre>LogisticRegression(C=0.6193889824323069, l1_ratio=0.2996004362847121,\n",
       "                   max_iter=10000, n_jobs=-1, penalty=&#x27;elasticnet&#x27;,\n",
       "                   random_state=2023, solver=&#x27;saga&#x27;)</pre></div></div></div></div></div>"
      ],
      "text/plain": [
       "LogisticRegression(C=0.6193889824323069, l1_ratio=0.2996004362847121,\n",
       "                   max_iter=10000, n_jobs=-1, penalty='elasticnet',\n",
       "                   random_state=2023, solver='saga')"
      ]
     },
     "execution_count": 71,
     "metadata": {},
     "output_type": "execute_result"
    }
   ],
   "source": [
    "# Entrainement de la meilleure regression logistique sur X_1. \n",
    "lr.fit(X_1, y_1)"
   ]
  },
  {
   "cell_type": "code",
   "execution_count": 72,
   "id": "49ac71f4",
   "metadata": {},
   "outputs": [
    {
     "data": {
      "text/html": [
       "<style>#sk-container-id-11 {color: black;background-color: white;}#sk-container-id-11 pre{padding: 0;}#sk-container-id-11 div.sk-toggleable {background-color: white;}#sk-container-id-11 label.sk-toggleable__label {cursor: pointer;display: block;width: 100%;margin-bottom: 0;padding: 0.3em;box-sizing: border-box;text-align: center;}#sk-container-id-11 label.sk-toggleable__label-arrow:before {content: \"▸\";float: left;margin-right: 0.25em;color: #696969;}#sk-container-id-11 label.sk-toggleable__label-arrow:hover:before {color: black;}#sk-container-id-11 div.sk-estimator:hover label.sk-toggleable__label-arrow:before {color: black;}#sk-container-id-11 div.sk-toggleable__content {max-height: 0;max-width: 0;overflow: hidden;text-align: left;background-color: #f0f8ff;}#sk-container-id-11 div.sk-toggleable__content pre {margin: 0.2em;color: black;border-radius: 0.25em;background-color: #f0f8ff;}#sk-container-id-11 input.sk-toggleable__control:checked~div.sk-toggleable__content {max-height: 200px;max-width: 100%;overflow: auto;}#sk-container-id-11 input.sk-toggleable__control:checked~label.sk-toggleable__label-arrow:before {content: \"▾\";}#sk-container-id-11 div.sk-estimator input.sk-toggleable__control:checked~label.sk-toggleable__label {background-color: #d4ebff;}#sk-container-id-11 div.sk-label input.sk-toggleable__control:checked~label.sk-toggleable__label {background-color: #d4ebff;}#sk-container-id-11 input.sk-hidden--visually {border: 0;clip: rect(1px 1px 1px 1px);clip: rect(1px, 1px, 1px, 1px);height: 1px;margin: -1px;overflow: hidden;padding: 0;position: absolute;width: 1px;}#sk-container-id-11 div.sk-estimator {font-family: monospace;background-color: #f0f8ff;border: 1px dotted black;border-radius: 0.25em;box-sizing: border-box;margin-bottom: 0.5em;}#sk-container-id-11 div.sk-estimator:hover {background-color: #d4ebff;}#sk-container-id-11 div.sk-parallel-item::after {content: \"\";width: 100%;border-bottom: 1px solid gray;flex-grow: 1;}#sk-container-id-11 div.sk-label:hover label.sk-toggleable__label {background-color: #d4ebff;}#sk-container-id-11 div.sk-serial::before {content: \"\";position: absolute;border-left: 1px solid gray;box-sizing: border-box;top: 0;bottom: 0;left: 50%;z-index: 0;}#sk-container-id-11 div.sk-serial {display: flex;flex-direction: column;align-items: center;background-color: white;padding-right: 0.2em;padding-left: 0.2em;position: relative;}#sk-container-id-11 div.sk-item {position: relative;z-index: 1;}#sk-container-id-11 div.sk-parallel {display: flex;align-items: stretch;justify-content: center;background-color: white;position: relative;}#sk-container-id-11 div.sk-item::before, #sk-container-id-11 div.sk-parallel-item::before {content: \"\";position: absolute;border-left: 1px solid gray;box-sizing: border-box;top: 0;bottom: 0;left: 50%;z-index: -1;}#sk-container-id-11 div.sk-parallel-item {display: flex;flex-direction: column;z-index: 1;position: relative;background-color: white;}#sk-container-id-11 div.sk-parallel-item:first-child::after {align-self: flex-end;width: 50%;}#sk-container-id-11 div.sk-parallel-item:last-child::after {align-self: flex-start;width: 50%;}#sk-container-id-11 div.sk-parallel-item:only-child::after {width: 0;}#sk-container-id-11 div.sk-dashed-wrapped {border: 1px dashed gray;margin: 0 0.4em 0.5em 0.4em;box-sizing: border-box;padding-bottom: 0.4em;background-color: white;}#sk-container-id-11 div.sk-label label {font-family: monospace;font-weight: bold;display: inline-block;line-height: 1.2em;}#sk-container-id-11 div.sk-label-container {text-align: center;}#sk-container-id-11 div.sk-container {/* jupyter's `normalize.less` sets `[hidden] { display: none; }` but bootstrap.min.css set `[hidden] { display: none !important; }` so we also need the `!important` here to be able to override the default hidden behavior on the sphinx rendered scikit-learn.org. See: https://github.com/scikit-learn/scikit-learn/issues/21755 */display: inline-block !important;position: relative;}#sk-container-id-11 div.sk-text-repr-fallback {display: none;}</style><div id=\"sk-container-id-11\" class=\"sk-top-container\"><div class=\"sk-text-repr-fallback\"><pre>KNeighborsClassifier(n_jobs=-1, n_neighbors=42, weights=&#x27;distance&#x27;)</pre><b>In a Jupyter environment, please rerun this cell to show the HTML representation or trust the notebook. <br />On GitHub, the HTML representation is unable to render, please try loading this page with nbviewer.org.</b></div><div class=\"sk-container\" hidden><div class=\"sk-item\"><div class=\"sk-estimator sk-toggleable\"><input class=\"sk-toggleable__control sk-hidden--visually\" id=\"sk-estimator-id-31\" type=\"checkbox\" checked><label for=\"sk-estimator-id-31\" class=\"sk-toggleable__label sk-toggleable__label-arrow\">KNeighborsClassifier</label><div class=\"sk-toggleable__content\"><pre>KNeighborsClassifier(n_jobs=-1, n_neighbors=42, weights=&#x27;distance&#x27;)</pre></div></div></div></div></div>"
      ],
      "text/plain": [
       "KNeighborsClassifier(n_jobs=-1, n_neighbors=42, weights='distance')"
      ]
     },
     "execution_count": 72,
     "metadata": {},
     "output_type": "execute_result"
    }
   ],
   "source": [
    "# Entrainement du meilleur KNN sur X_1. \n",
    "knn.fit(X_1, y_1)"
   ]
  },
  {
   "cell_type": "code",
   "execution_count": 73,
   "id": "47c25c27",
   "metadata": {},
   "outputs": [
    {
     "data": {
      "text/html": [
       "<style>#sk-container-id-12 {color: black;background-color: white;}#sk-container-id-12 pre{padding: 0;}#sk-container-id-12 div.sk-toggleable {background-color: white;}#sk-container-id-12 label.sk-toggleable__label {cursor: pointer;display: block;width: 100%;margin-bottom: 0;padding: 0.3em;box-sizing: border-box;text-align: center;}#sk-container-id-12 label.sk-toggleable__label-arrow:before {content: \"▸\";float: left;margin-right: 0.25em;color: #696969;}#sk-container-id-12 label.sk-toggleable__label-arrow:hover:before {color: black;}#sk-container-id-12 div.sk-estimator:hover label.sk-toggleable__label-arrow:before {color: black;}#sk-container-id-12 div.sk-toggleable__content {max-height: 0;max-width: 0;overflow: hidden;text-align: left;background-color: #f0f8ff;}#sk-container-id-12 div.sk-toggleable__content pre {margin: 0.2em;color: black;border-radius: 0.25em;background-color: #f0f8ff;}#sk-container-id-12 input.sk-toggleable__control:checked~div.sk-toggleable__content {max-height: 200px;max-width: 100%;overflow: auto;}#sk-container-id-12 input.sk-toggleable__control:checked~label.sk-toggleable__label-arrow:before {content: \"▾\";}#sk-container-id-12 div.sk-estimator input.sk-toggleable__control:checked~label.sk-toggleable__label {background-color: #d4ebff;}#sk-container-id-12 div.sk-label input.sk-toggleable__control:checked~label.sk-toggleable__label {background-color: #d4ebff;}#sk-container-id-12 input.sk-hidden--visually {border: 0;clip: rect(1px 1px 1px 1px);clip: rect(1px, 1px, 1px, 1px);height: 1px;margin: -1px;overflow: hidden;padding: 0;position: absolute;width: 1px;}#sk-container-id-12 div.sk-estimator {font-family: monospace;background-color: #f0f8ff;border: 1px dotted black;border-radius: 0.25em;box-sizing: border-box;margin-bottom: 0.5em;}#sk-container-id-12 div.sk-estimator:hover {background-color: #d4ebff;}#sk-container-id-12 div.sk-parallel-item::after {content: \"\";width: 100%;border-bottom: 1px solid gray;flex-grow: 1;}#sk-container-id-12 div.sk-label:hover label.sk-toggleable__label {background-color: #d4ebff;}#sk-container-id-12 div.sk-serial::before {content: \"\";position: absolute;border-left: 1px solid gray;box-sizing: border-box;top: 0;bottom: 0;left: 50%;z-index: 0;}#sk-container-id-12 div.sk-serial {display: flex;flex-direction: column;align-items: center;background-color: white;padding-right: 0.2em;padding-left: 0.2em;position: relative;}#sk-container-id-12 div.sk-item {position: relative;z-index: 1;}#sk-container-id-12 div.sk-parallel {display: flex;align-items: stretch;justify-content: center;background-color: white;position: relative;}#sk-container-id-12 div.sk-item::before, #sk-container-id-12 div.sk-parallel-item::before {content: \"\";position: absolute;border-left: 1px solid gray;box-sizing: border-box;top: 0;bottom: 0;left: 50%;z-index: -1;}#sk-container-id-12 div.sk-parallel-item {display: flex;flex-direction: column;z-index: 1;position: relative;background-color: white;}#sk-container-id-12 div.sk-parallel-item:first-child::after {align-self: flex-end;width: 50%;}#sk-container-id-12 div.sk-parallel-item:last-child::after {align-self: flex-start;width: 50%;}#sk-container-id-12 div.sk-parallel-item:only-child::after {width: 0;}#sk-container-id-12 div.sk-dashed-wrapped {border: 1px dashed gray;margin: 0 0.4em 0.5em 0.4em;box-sizing: border-box;padding-bottom: 0.4em;background-color: white;}#sk-container-id-12 div.sk-label label {font-family: monospace;font-weight: bold;display: inline-block;line-height: 1.2em;}#sk-container-id-12 div.sk-label-container {text-align: center;}#sk-container-id-12 div.sk-container {/* jupyter's `normalize.less` sets `[hidden] { display: none; }` but bootstrap.min.css set `[hidden] { display: none !important; }` so we also need the `!important` here to be able to override the default hidden behavior on the sphinx rendered scikit-learn.org. See: https://github.com/scikit-learn/scikit-learn/issues/21755 */display: inline-block !important;position: relative;}#sk-container-id-12 div.sk-text-repr-fallback {display: none;}</style><div id=\"sk-container-id-12\" class=\"sk-top-container\"><div class=\"sk-text-repr-fallback\"><pre>DecisionTreeClassifier(ccp_alpha=0.004282248598847301, criterion=&#x27;log_loss&#x27;,\n",
       "                       max_depth=24, random_state=2023)</pre><b>In a Jupyter environment, please rerun this cell to show the HTML representation or trust the notebook. <br />On GitHub, the HTML representation is unable to render, please try loading this page with nbviewer.org.</b></div><div class=\"sk-container\" hidden><div class=\"sk-item\"><div class=\"sk-estimator sk-toggleable\"><input class=\"sk-toggleable__control sk-hidden--visually\" id=\"sk-estimator-id-32\" type=\"checkbox\" checked><label for=\"sk-estimator-id-32\" class=\"sk-toggleable__label sk-toggleable__label-arrow\">DecisionTreeClassifier</label><div class=\"sk-toggleable__content\"><pre>DecisionTreeClassifier(ccp_alpha=0.004282248598847301, criterion=&#x27;log_loss&#x27;,\n",
       "                       max_depth=24, random_state=2023)</pre></div></div></div></div></div>"
      ],
      "text/plain": [
       "DecisionTreeClassifier(ccp_alpha=0.004282248598847301, criterion='log_loss',\n",
       "                       max_depth=24, random_state=2023)"
      ]
     },
     "execution_count": 73,
     "metadata": {},
     "output_type": "execute_result"
    }
   ],
   "source": [
    "# Entrainement du meilleur arbre de décision sur X_1. \n",
    "dt.fit(X_1, y_1)"
   ]
  },
  {
   "cell_type": "code",
   "execution_count": 74,
   "id": "2c0e9ae3",
   "metadata": {},
   "outputs": [],
   "source": [
    "# Prediction sur X_b et X_c et stockage des resultats dans X_b1 et X_c1: Jeux d'entrainement et de validation respective du \n",
    "# modèle final\n",
    "X_b1 = np.hstack((lr.predict_proba(X_b)[:,1].reshape(-1,1),\n",
    "                  knn.predict_proba(X_b)[:,1].reshape(-1,1), \n",
    "                  dt.predict_proba(X_b)[:,1].reshape(-1,1)))\n",
    "X_c1 = np.hstack((lr.predict_proba(X_b)[:,1].reshape(-1,1),\n",
    "                  knn.predict_proba(X_b)[:,1].reshape(-1,1), \n",
    "                  dt.predict_proba(X_b)[:,1].reshape(-1,1)))"
   ]
  },
  {
   "cell_type": "code",
   "execution_count": 75,
   "id": "afb1952b",
   "metadata": {},
   "outputs": [],
   "source": [
    "# Estimateur final pour le stacking (Regression Logistique)\n",
    "lr_final_staking = LogisticRegression(penalty='elasticnet', \n",
    "                                      random_state=2023, \n",
    "                                      C=0.6, \n",
    "                                      l1_ratio=0.3,\n",
    "                                      max_iter=10000, \n",
    "                                      n_jobs=-1,\n",
    "                                      solver='saga')"
   ]
  },
  {
   "cell_type": "code",
   "execution_count": 76,
   "id": "9d40f9bd",
   "metadata": {},
   "outputs": [
    {
     "data": {
      "text/html": [
       "<style>#sk-container-id-13 {color: black;background-color: white;}#sk-container-id-13 pre{padding: 0;}#sk-container-id-13 div.sk-toggleable {background-color: white;}#sk-container-id-13 label.sk-toggleable__label {cursor: pointer;display: block;width: 100%;margin-bottom: 0;padding: 0.3em;box-sizing: border-box;text-align: center;}#sk-container-id-13 label.sk-toggleable__label-arrow:before {content: \"▸\";float: left;margin-right: 0.25em;color: #696969;}#sk-container-id-13 label.sk-toggleable__label-arrow:hover:before {color: black;}#sk-container-id-13 div.sk-estimator:hover label.sk-toggleable__label-arrow:before {color: black;}#sk-container-id-13 div.sk-toggleable__content {max-height: 0;max-width: 0;overflow: hidden;text-align: left;background-color: #f0f8ff;}#sk-container-id-13 div.sk-toggleable__content pre {margin: 0.2em;color: black;border-radius: 0.25em;background-color: #f0f8ff;}#sk-container-id-13 input.sk-toggleable__control:checked~div.sk-toggleable__content {max-height: 200px;max-width: 100%;overflow: auto;}#sk-container-id-13 input.sk-toggleable__control:checked~label.sk-toggleable__label-arrow:before {content: \"▾\";}#sk-container-id-13 div.sk-estimator input.sk-toggleable__control:checked~label.sk-toggleable__label {background-color: #d4ebff;}#sk-container-id-13 div.sk-label input.sk-toggleable__control:checked~label.sk-toggleable__label {background-color: #d4ebff;}#sk-container-id-13 input.sk-hidden--visually {border: 0;clip: rect(1px 1px 1px 1px);clip: rect(1px, 1px, 1px, 1px);height: 1px;margin: -1px;overflow: hidden;padding: 0;position: absolute;width: 1px;}#sk-container-id-13 div.sk-estimator {font-family: monospace;background-color: #f0f8ff;border: 1px dotted black;border-radius: 0.25em;box-sizing: border-box;margin-bottom: 0.5em;}#sk-container-id-13 div.sk-estimator:hover {background-color: #d4ebff;}#sk-container-id-13 div.sk-parallel-item::after {content: \"\";width: 100%;border-bottom: 1px solid gray;flex-grow: 1;}#sk-container-id-13 div.sk-label:hover label.sk-toggleable__label {background-color: #d4ebff;}#sk-container-id-13 div.sk-serial::before {content: \"\";position: absolute;border-left: 1px solid gray;box-sizing: border-box;top: 0;bottom: 0;left: 50%;z-index: 0;}#sk-container-id-13 div.sk-serial {display: flex;flex-direction: column;align-items: center;background-color: white;padding-right: 0.2em;padding-left: 0.2em;position: relative;}#sk-container-id-13 div.sk-item {position: relative;z-index: 1;}#sk-container-id-13 div.sk-parallel {display: flex;align-items: stretch;justify-content: center;background-color: white;position: relative;}#sk-container-id-13 div.sk-item::before, #sk-container-id-13 div.sk-parallel-item::before {content: \"\";position: absolute;border-left: 1px solid gray;box-sizing: border-box;top: 0;bottom: 0;left: 50%;z-index: -1;}#sk-container-id-13 div.sk-parallel-item {display: flex;flex-direction: column;z-index: 1;position: relative;background-color: white;}#sk-container-id-13 div.sk-parallel-item:first-child::after {align-self: flex-end;width: 50%;}#sk-container-id-13 div.sk-parallel-item:last-child::after {align-self: flex-start;width: 50%;}#sk-container-id-13 div.sk-parallel-item:only-child::after {width: 0;}#sk-container-id-13 div.sk-dashed-wrapped {border: 1px dashed gray;margin: 0 0.4em 0.5em 0.4em;box-sizing: border-box;padding-bottom: 0.4em;background-color: white;}#sk-container-id-13 div.sk-label label {font-family: monospace;font-weight: bold;display: inline-block;line-height: 1.2em;}#sk-container-id-13 div.sk-label-container {text-align: center;}#sk-container-id-13 div.sk-container {/* jupyter's `normalize.less` sets `[hidden] { display: none; }` but bootstrap.min.css set `[hidden] { display: none !important; }` so we also need the `!important` here to be able to override the default hidden behavior on the sphinx rendered scikit-learn.org. See: https://github.com/scikit-learn/scikit-learn/issues/21755 */display: inline-block !important;position: relative;}#sk-container-id-13 div.sk-text-repr-fallback {display: none;}</style><div id=\"sk-container-id-13\" class=\"sk-top-container\"><div class=\"sk-text-repr-fallback\"><pre>LogisticRegression(C=0.6, l1_ratio=0.3, max_iter=10000, n_jobs=-1,\n",
       "                   penalty=&#x27;elasticnet&#x27;, random_state=2023, solver=&#x27;saga&#x27;)</pre><b>In a Jupyter environment, please rerun this cell to show the HTML representation or trust the notebook. <br />On GitHub, the HTML representation is unable to render, please try loading this page with nbviewer.org.</b></div><div class=\"sk-container\" hidden><div class=\"sk-item\"><div class=\"sk-estimator sk-toggleable\"><input class=\"sk-toggleable__control sk-hidden--visually\" id=\"sk-estimator-id-33\" type=\"checkbox\" checked><label for=\"sk-estimator-id-33\" class=\"sk-toggleable__label sk-toggleable__label-arrow\">LogisticRegression</label><div class=\"sk-toggleable__content\"><pre>LogisticRegression(C=0.6, l1_ratio=0.3, max_iter=10000, n_jobs=-1,\n",
       "                   penalty=&#x27;elasticnet&#x27;, random_state=2023, solver=&#x27;saga&#x27;)</pre></div></div></div></div></div>"
      ],
      "text/plain": [
       "LogisticRegression(C=0.6, l1_ratio=0.3, max_iter=10000, n_jobs=-1,\n",
       "                   penalty='elasticnet', random_state=2023, solver='saga')"
      ]
     },
     "execution_count": 76,
     "metadata": {},
     "output_type": "execute_result"
    }
   ],
   "source": [
    "# fit de l'algorithme final sur X_b1 (prédictions des modèles de base sur X_b) \n",
    "lr_final_staking.fit(X_b1, y_b)"
   ]
  },
  {
   "cell_type": "code",
   "execution_count": 77,
   "id": "179a9e28",
   "metadata": {},
   "outputs": [
    {
     "name": "stdout",
     "output_type": "stream",
     "text": [
      "Le score val log loss pour le stacking 2 est de 0.42041288099998947\n"
     ]
    }
   ],
   "source": [
    "# score de validation du model final de stacking sur le jeux de validation (X_c1)\n",
    "score_val_log_loss_staking2 = -cross_val_score(lr_final_staking, \n",
    "                                               X_c1, \n",
    "                                               y_c, \n",
    "                                               scoring='neg_log_loss', \n",
    "                                               cv=strat_kfold, \n",
    "                                               n_jobs=-1).mean()\n",
    "print(f'Le score val log loss pour le stacking 2 est de {score_val_log_loss_staking2}')"
   ]
  },
  {
   "cell_type": "markdown",
   "id": "d811742c",
   "metadata": {},
   "source": [
    "NB: Le resultat est moins bon que celui de regression logistique."
   ]
  },
  {
   "cell_type": "code",
   "execution_count": 78,
   "id": "a6313940",
   "metadata": {},
   "outputs": [
    {
     "data": {
      "image/png": "[encoded data removed]",
      "text/plain": [
       "<Figure size 640x480 with 1 Axes>"
      ]
     },
     "metadata": {},
     "output_type": "display_data"
    }
   ],
   "source": [
    "# Comparaison visuelle des log loss sur un digramme à bar\n",
    "results['Staking 2'] = score_val_log_loss_staking2\n",
    "plot_log_loss_bar(results)"
   ]
  },
  {
   "cell_type": "markdown",
   "id": "82fa2798",
   "metadata": {},
   "source": [
    "# 6- Choix du modèle final et score final (sur le le jeux de test)"
   ]
  },
  {
   "cell_type": "markdown",
   "id": "28b2c04e",
   "metadata": {},
   "source": [
    "De tous ce qui précède, notre meilleur modèle de regression logistique, obtenu par recherche aléatoire des hyperparamètres, \n",
    "performe mieux que tout les autres modèles, avec un score (log_loss) sur les plis de validation de 0.3289362627688452 et les hyerparamètres suivants: {penalty: 'elasticnet', solver: 'saga', 'C': 0.6193889824323069, 'l1_ratio': 0.2996004362847121}"
   ]
  },
  {
   "cell_type": "code",
   "execution_count": 79,
   "id": "d84405d1",
   "metadata": {},
   "outputs": [],
   "source": [
    "# Score du modèle final sur le jeux de test\n",
    "y_predict_proba_test = best_lr.predict_proba(X_test)[:,1]\n",
    "score_log_loss_final_test = log_loss(y_test, y_predict_proba_test)"
   ]
  },
  {
   "cell_type": "code",
   "execution_count": 80,
   "id": "7eef835e",
   "metadata": {},
   "outputs": [
    {
     "name": "stdout",
     "output_type": "stream",
     "text": [
      "Score final test : 0.3352428373111055\n"
     ]
    }
   ],
   "source": [
    "print(f'Score final test : {score_log_loss_final_test}')"
   ]
  },
  {
   "cell_type": "code",
   "execution_count": null,
   "id": "a0f7c481",
   "metadata": {},
   "outputs": [],
   "source": []
  }
 ],
 "metadata": {
  "kernelspec": {
   "display_name": "Python 3 (ipykernel)",
   "language": "python",
   "name": "python3"
  },
  "language_info": {
   "codemirror_mode": {
    "name": "ipython",
    "version": 3
   },
   "file_extension": ".py",
   "mimetype": "text/x-python",
   "name": "python",
   "nbconvert_exporter": "python",
   "pygments_lexer": "ipython3",
   "version": "3.10.9"
  }
 },
 "nbformat": 4,
 "nbformat_minor": 5
}
