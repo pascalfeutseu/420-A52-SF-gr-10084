{
 "cells": [
  {
   "cell_type": "markdown",
   "metadata": {},
   "source": [
    "**420-A52-SF - Algorithmes d'apprentissage supervisé - Automne 2022 - Spécialisation technique en Intelligence Artificielle**<br/>\n",
    "MIT License - Copyright (c) 2022 Mikaël Swawola"
   ]
  },
  {
   "cell_type": "markdown",
   "metadata": {},
   "source": [
    "# Correction du projet #2 (classification)"
   ]
  },
  {
   "cell_type": "code",
   "execution_count": null,
   "metadata": {},
   "outputs": [],
   "source": [
    "%reload_ext autoreload\n",
    "%autoreload 2\n",
    "%matplotlib inline"
   ]
  },
  {
   "cell_type": "code",
   "execution_count": null,
   "metadata": {},
   "outputs": [],
   "source": [
    "import matplotlib.pyplot as plt\n",
    "plt.rcParams['figure.figsize'] = [6, 6]"
   ]
  },
  {
   "cell_type": "markdown",
   "metadata": {},
   "source": [
    "## A - Chargement et préparation sommaire des données"
   ]
  },
  {
   "cell_type": "markdown",
   "metadata": {},
   "source": [
    "#### Lecture de `chansons.csv`"
   ]
  },
  {
   "cell_type": "code",
   "execution_count": null,
   "metadata": {},
   "outputs": [],
   "source": [
    "import pandas as pd\n",
    "chansons = pd.read_csv('../../data/chansons.csv')"
   ]
  },
  {
   "cell_type": "code",
   "execution_count": null,
   "metadata": {},
   "outputs": [],
   "source": [
    "chansons.head()"
   ]
  },
  {
   "cell_type": "markdown",
   "metadata": {},
   "source": [
    "#### On ne garde pour le moment que les variables \"acoustiques\". Nous n'avons pas les outils nécéssaires pour gérer les variables catégorielles."
   ]
  },
  {
   "cell_type": "code",
   "execution_count": null,
   "metadata": {},
   "outputs": [],
   "source": [
    "X = chansons.drop(columns=['annee', 'titre', 'artiste', 'chansonID', 'artisteID', 'Top10'])\n",
    "y = chansons['Top10']"
   ]
  },
  {
   "cell_type": "markdown",
   "metadata": {},
   "source": [
    "#### Vérification de la proportion des classes positives (dans le Top10) et négatives (hors Top10) "
   ]
  },
  {
   "cell_type": "code",
   "execution_count": null,
   "metadata": {},
   "outputs": [],
   "source": [
    "ratio = y.sum()/len(y)\n",
    "print(f'Ratio de la classe + : {ratio}')"
   ]
  },
  {
   "cell_type": "markdown",
   "metadata": {},
   "source": [
    "Il y a un fort débalancement. En effet, ce ne sont pas tous les artistes qui ont la chance (ou le talent) de se retrouver dans le Top 10 !"
   ]
  },
  {
   "cell_type": "markdown",
   "metadata": {},
   "source": [
    "#### Préparation du jeu de test"
   ]
  },
  {
   "cell_type": "code",
   "execution_count": null,
   "metadata": {},
   "outputs": [],
   "source": [
    "from sklearn.preprocessing import StandardScaler\n",
    "\n",
    "scaler = StandardScaler()\n",
    "scaler.fit(X)\n",
    "# Cette fois-ci, nous appliqueront la standardiation après le train_test_split"
   ]
  },
  {
   "cell_type": "code",
   "execution_count": null,
   "metadata": {},
   "outputs": [],
   "source": [
    "from sklearn.model_selection import train_test_split\n",
    "\n",
    "X_train, X_test, y_train, y_test = train_test_split(X, y, test_size=0.15, stratify=y, random_state=2023)"
   ]
  },
  {
   "cell_type": "code",
   "execution_count": null,
   "metadata": {},
   "outputs": [],
   "source": [
    "print(f'X_train: {X_train.shape[0]} observations - Ratio de la classe + : {y_train.sum()/len(y_train)}')\n",
    "print(f'X_test: {X_test.shape[0]} observations - Ratio de la classe + : {y_test.sum()/len(y_test)}')"
   ]
  },
  {
   "cell_type": "markdown",
   "metadata": {},
   "source": [
    "#### On garde les indices d'origine au cas où..."
   ]
  },
  {
   "cell_type": "code",
   "execution_count": null,
   "metadata": {},
   "outputs": [],
   "source": [
    "train_index = X_train.index\n",
    "test_index = X_test.index"
   ]
  },
  {
   "cell_type": "markdown",
   "metadata": {},
   "source": [
    "#### On applique la standardisation sur l'entraînement uniquement"
   ]
  },
  {
   "cell_type": "code",
   "execution_count": null,
   "metadata": {},
   "outputs": [],
   "source": [
    "X_train_scaled = scaler.transform(X_train)"
   ]
  },
  {
   "cell_type": "markdown",
   "metadata": {},
   "source": [
    "## B - Modélisation"
   ]
  },
  {
   "cell_type": "markdown",
   "metadata": {},
   "source": [
    "### 1 - Régression logistique"
   ]
  },
  {
   "cell_type": "code",
   "execution_count": null,
   "metadata": {},
   "outputs": [],
   "source": [
    "from sklearn.linear_model import LogisticRegression\n",
    "from sklearn.model_selection import GridSearchCV\n",
    "from sklearn.model_selection import cross_val_score\n",
    "from sklearn.metrics import roc_auc_score\n",
    "from helpers import plot_roc_curve"
   ]
  },
  {
   "cell_type": "code",
   "execution_count": null,
   "metadata": {},
   "outputs": [],
   "source": [
    "# Grille de recherche\n",
    "parameters = {'C':[0.01, 0.5, 1, 5, 10, 100],\n",
    "              'l1_ratio':[0, 0.5, 0.9, 1]}\n",
    "\n",
    "# Régression logistique\n",
    "clf_logreg = LogisticRegression(penalty='elasticnet',\n",
    "                                  max_iter=10000,\n",
    "                                  solver='saga',\n",
    "                                  n_jobs=-1,\n",
    "                                  random_state=2023)\n",
    "\n",
    "# GridSearch avec Validation croisée\n",
    "clf_logreg_grid = GridSearchCV(clf_logreg, parameters, cv=5, scoring=\"neg_log_loss\", verbose=1, n_jobs=-1, refit=True)\n",
    "\n",
    "# Entraînement\n",
    "clf_logreg_grid.fit(X_train_scaled, y_train)"
   ]
  },
  {
   "cell_type": "code",
   "execution_count": null,
   "metadata": {},
   "outputs": [],
   "source": []
  },
  {
   "cell_type": "code",
   "execution_count": null,
   "metadata": {},
   "outputs": [],
   "source": [
    "print(f'Meilleurs paramètres: {clf_logreg_grid.best_params_}')\n",
    "print(f'Meilleur score (mean log loss CV): {-clf_logreg_grid.best_score_}')"
   ]
  },
  {
   "cell_type": "code",
   "execution_count": null,
   "metadata": {},
   "outputs": [],
   "source": [
    "clf_logreg_final = clf_logreg_grid.best_estimator_\n",
    "clf_logreg_final"
   ]
  },
  {
   "cell_type": "markdown",
   "metadata": {},
   "source": [
    "#### Aire sous la courbe"
   ]
  },
  {
   "cell_type": "code",
   "execution_count": null,
   "metadata": {},
   "outputs": [],
   "source": [
    "y_train_pred_proba_logreg = clf_logreg_final.predict_proba(X_train_scaled)[:,1]\n",
    "print(f'AUC = {roc_auc_score(y_train, y_train_pred_proba_logreg)}')"
   ]
  },
  {
   "cell_type": "markdown",
   "metadata": {},
   "source": [
    "| Modèle | Log loss | AUC (refit)\n",
    "| ------ | ------ | ------\n",
    "| Régression logisitique | 0.3345   | 0.8175"
   ]
  },
  {
   "cell_type": "markdown",
   "metadata": {},
   "source": [
    "#### Courbe ROC"
   ]
  },
  {
   "cell_type": "code",
   "execution_count": null,
   "metadata": {},
   "outputs": [],
   "source": [
    "results = {}\n",
    "results['Logistic Regression'] = y_train_pred_proba_logreg\n",
    "plot_roc_curve(results, y_train)"
   ]
  },
  {
   "cell_type": "markdown",
   "metadata": {},
   "source": [
    "### 2 - K plus proches voisins"
   ]
  },
  {
   "cell_type": "code",
   "execution_count": null,
   "metadata": {},
   "outputs": [],
   "source": [
    "from sklearn.neighbors import KNeighborsClassifier"
   ]
  },
  {
   "cell_type": "code",
   "execution_count": null,
   "metadata": {},
   "outputs": [],
   "source": [
    "# Grille de recherche\n",
    "parameters = {\n",
    "    \"n_neighbors\": [100, 110, 120, 130, 140, 150, 200],\n",
    "    \"weights\": [\"distance\", \"uniform\"]\n",
    "}\n",
    "\n",
    "# KNN\n",
    "clf_knn = KNeighborsClassifier(algorithm=\"brute\")\n",
    "\n",
    "# GridSearch avec Validation croisée\n",
    "clf_knn_grid = GridSearchCV(clf_knn, parameters, cv=5, scoring=\"neg_log_loss\", verbose=1, n_jobs=-1, refit=True)\n",
    "\n",
    "# Entraînement\n",
    "clf_knn_grid.fit(X_train_scaled, y_train)"
   ]
  },
  {
   "cell_type": "code",
   "execution_count": null,
   "metadata": {},
   "outputs": [],
   "source": [
    "print(f'Meilleurs paramètres: {clf_knn_grid.best_params_}')\n",
    "print(f'Meilleur score (mean log loss CV): {-clf_knn_grid.best_score_}')"
   ]
  },
  {
   "cell_type": "code",
   "execution_count": null,
   "metadata": {},
   "outputs": [],
   "source": [
    "clf_knn_final = clf_knn_grid.best_estimator_\n",
    "clf_knn_final"
   ]
  },
  {
   "cell_type": "markdown",
   "metadata": {},
   "source": [
    "#### Aire sous la courbe"
   ]
  },
  {
   "cell_type": "code",
   "execution_count": null,
   "metadata": {},
   "outputs": [],
   "source": [
    "y_train_pred_proba_knn = clf_knn_final.predict_proba(X_train_scaled)[:,1]\n",
    "print(f'AUC = {roc_auc_score(y_train, y_train_pred_proba_knn)}')"
   ]
  },
  {
   "cell_type": "markdown",
   "metadata": {},
   "source": [
    "| Modèle | Log loss | AUC (refit)\n",
    "| ------ | ------ | ------\n",
    "| Régression logisitique | 0.3345   | 0.8174  \n",
    "| KNN | 0.3532 | 0.8166"
   ]
  },
  {
   "cell_type": "markdown",
   "metadata": {},
   "source": [
    "#### Courbe ROC"
   ]
  },
  {
   "cell_type": "code",
   "execution_count": null,
   "metadata": {},
   "outputs": [],
   "source": [
    "results['KNN'] = y_train_pred_proba_knn\n",
    "plot_roc_curve(results, y_train)"
   ]
  },
  {
   "cell_type": "markdown",
   "metadata": {},
   "source": [
    "### 3 - Arbres de décision"
   ]
  },
  {
   "cell_type": "code",
   "execution_count": null,
   "metadata": {},
   "outputs": [],
   "source": [
    "from sklearn.utils.fixes import loguniform\n",
    "from scipy.stats import randint\n",
    "from sklearn.tree import DecisionTreeClassifier\n",
    "from sklearn.model_selection import RandomizedSearchCV"
   ]
  },
  {
   "cell_type": "code",
   "execution_count": null,
   "metadata": {},
   "outputs": [],
   "source": [
    "# Distributions des paramètres\n",
    "distributions = dict(\n",
    "    criterion=['gini', 'entropy'],\n",
    "    ccp_alpha=loguniform(1e-3, 1e3),\n",
    "    max_depth=randint(2, 128))\n",
    "\n",
    "# Arbre de décision\n",
    "clf_tree = DecisionTreeClassifier(random_state=2023)\n",
    "\n",
    "# Recherche aléatoire avec avec validation croisée\n",
    "clf_tree_rnd = RandomizedSearchCV(clf_tree, distributions, n_iter=100, cv=5, scoring=\"neg_log_loss\", verbose=2, n_jobs=-1, random_state=2023, refit=True)\n",
    "\n",
    "# Entraînement\n",
    "clf_tree_rnd.fit(X_train_scaled, y_train)"
   ]
  },
  {
   "cell_type": "code",
   "execution_count": null,
   "metadata": {},
   "outputs": [],
   "source": [
    "print(f'Meilleurs paramètres: {clf_tree_rnd.best_params_}')\n",
    "print(f'Meilleur score (mean log loss CV): {-clf_tree_rnd.best_score_}')"
   ]
  },
  {
   "cell_type": "code",
   "execution_count": null,
   "metadata": {},
   "outputs": [],
   "source": [
    "clf_tree_final = clf_tree_rnd.best_estimator_\n",
    "clf_tree_final"
   ]
  },
  {
   "cell_type": "markdown",
   "metadata": {},
   "source": [
    "#### Aire sous la courbe"
   ]
  },
  {
   "cell_type": "code",
   "execution_count": null,
   "metadata": {},
   "outputs": [],
   "source": [
    "y_train_pred_proba_tree = clf_tree_final.predict_proba(X_train_scaled)[:,1]\n",
    "print(f'AUC = {roc_auc_score(y_train, y_train_pred_proba_tree)}')"
   ]
  },
  {
   "cell_type": "markdown",
   "metadata": {},
   "source": [
    "| Modèle | Log loss | AUC (refit)\n",
    "| ------ | ------ | ------\n",
    "| Régression logisitique | 0.3345   | 0.8174  \n",
    "| KNN | 0.3532 | 0.8166\n",
    "| Arbres | 0.3780 | 0.7537"
   ]
  },
  {
   "cell_type": "markdown",
   "metadata": {},
   "source": [
    "#### Courbe ROC"
   ]
  },
  {
   "cell_type": "code",
   "execution_count": null,
   "metadata": {},
   "outputs": [],
   "source": [
    "results['Decision Tree'] = y_train_pred_proba_tree\n",
    "plot_roc_curve(results, y_train)"
   ]
  },
  {
   "cell_type": "markdown",
   "metadata": {},
   "source": [
    "### 4 - Bagging avec arbres"
   ]
  },
  {
   "cell_type": "code",
   "execution_count": null,
   "metadata": {},
   "outputs": [],
   "source": [
    "from sklearn.ensemble import BaggingClassifier"
   ]
  },
  {
   "cell_type": "code",
   "execution_count": null,
   "metadata": {},
   "outputs": [],
   "source": [
    "# Distributions des paramètres\n",
    "distributions = dict(\n",
    "    n_estimators=randint(2, 100))\n",
    "\n",
    "# Bagging\n",
    "clf_bag = BaggingClassifier(estimator=clf_tree_final, random_state=2023)\n",
    "\n",
    "# Recherche aléatoire avec validation croisée\n",
    "clf_bag_rnd = RandomizedSearchCV(clf_bag, distributions, n_iter=20, cv=5, scoring=\"neg_log_loss\", verbose=1, n_jobs=-1, random_state=2023, refit=True)\n",
    "\n",
    "# Entraînement\n",
    "clf_bag_rnd.fit(X_train_scaled, y_train)"
   ]
  },
  {
   "cell_type": "code",
   "execution_count": null,
   "metadata": {},
   "outputs": [],
   "source": [
    "print(f'Meilleurs paramètres: {clf_bag_rnd.best_params_}')\n",
    "print(f'Meilleur score (mean log loss CV): {-clf_bag_rnd.best_score_}')"
   ]
  },
  {
   "cell_type": "code",
   "execution_count": null,
   "metadata": {},
   "outputs": [],
   "source": [
    "clf_bag_final = clf_bag_rnd.best_estimator_\n",
    "clf_bag_final"
   ]
  },
  {
   "cell_type": "markdown",
   "metadata": {},
   "source": [
    "#### Aire sous la courbe"
   ]
  },
  {
   "cell_type": "code",
   "execution_count": null,
   "metadata": {},
   "outputs": [],
   "source": [
    "y_train_pred_proba_bag = clf_bag_final.predict_proba(X_train_scaled)[:,1]\n",
    "print(f'AUC = {roc_auc_score(y_train, y_train_pred_proba_bag)}')"
   ]
  },
  {
   "cell_type": "markdown",
   "metadata": {},
   "source": [
    "| Modèle | Log loss | AUC (refit)\n",
    "| ------ | ------ | ------\n",
    "| Régression logisitique | 0.3345   | 0.8174  \n",
    "| KNN | 0.3532 | 0.8166\n",
    "| Arbres | 0.3780 | 0.7573\n",
    "| Bagging (arbres) | 0.3452 | 0.8423"
   ]
  },
  {
   "cell_type": "markdown",
   "metadata": {},
   "source": [
    "#### Courbe ROC"
   ]
  },
  {
   "cell_type": "code",
   "execution_count": null,
   "metadata": {},
   "outputs": [],
   "source": [
    "results['Bagging (Tree)'] = y_train_pred_proba_bag\n",
    "plot_roc_curve(results, y_train)"
   ]
  },
  {
   "cell_type": "markdown",
   "metadata": {},
   "source": [
    "### 5 - Gradient boosting"
   ]
  },
  {
   "cell_type": "code",
   "execution_count": null,
   "metadata": {},
   "outputs": [],
   "source": [
    "from sklearn.ensemble import GradientBoostingClassifier"
   ]
  },
  {
   "cell_type": "code",
   "execution_count": null,
   "metadata": {},
   "outputs": [],
   "source": [
    "# Distributions des paramètres\n",
    "distributions = dict(\n",
    "    n_estimators=randint(2, 100),\n",
    "    learning_rate=loguniform(1e-5, 1),\n",
    "    max_depth=randint(2, 100),\n",
    "    max_features=['sqrt', 'log2', None],\n",
    "    loss=['log_loss', 'exponential'],\n",
    "    ccp_alpha=loguniform(1e-6, 10)\n",
    ")\n",
    "\n",
    "# Gradient boosting\n",
    "clf_gb = GradientBoostingClassifier(random_state=2023)\n",
    "\n",
    "\n",
    "# Recherche aléatoire avec validation croisée\n",
    "clf_gb_rnd = RandomizedSearchCV(clf_gb, distributions, n_iter=20, cv=5, scoring=\"neg_log_loss\", verbose=1, n_jobs=-1, random_state=2023, refit=True)\n",
    "\n",
    "# Entraînement\n",
    "clf_gb_rnd.fit(X_train_scaled, y_train)"
   ]
  },
  {
   "cell_type": "code",
   "execution_count": null,
   "metadata": {},
   "outputs": [],
   "source": [
    "clf_gb_final = clf_gb_rnd.best_estimator_\n",
    "clf_gb_final"
   ]
  },
  {
   "cell_type": "code",
   "execution_count": null,
   "metadata": {},
   "outputs": [],
   "source": [
    "print(f'Meilleurs paramètres: {clf_gb_rnd.best_params_}')\n",
    "print(f'Meilleur score (mean log loss CV): {-clf_gb_rnd.best_score_}')"
   ]
  },
  {
   "cell_type": "markdown",
   "metadata": {},
   "source": [
    "#### Aire sous la courbe"
   ]
  },
  {
   "cell_type": "code",
   "execution_count": null,
   "metadata": {},
   "outputs": [],
   "source": [
    "y_train_pred_proba_gb = clf_gb_final.predict_proba(X_train_scaled)[:,1]\n",
    "print(f'AUC = {roc_auc_score(y_train, y_train_pred_proba_gb)}')"
   ]
  },
  {
   "cell_type": "markdown",
   "metadata": {},
   "source": [
    "| Modèle | Log loss | AUC (refit)\n",
    "| ------ | ------ | ------\n",
    "| Régression logisitique | 0.3345   | 0.8174  \n",
    "| KNN | 0.3532 | 0.8166\n",
    "| Arbres | 0.3780 | 0.7573\n",
    "| Bagging (arbres) | 0.3452 | 0.8423\n",
    "| Gradient boosting | 0.3452 | 0.8184"
   ]
  },
  {
   "cell_type": "markdown",
   "metadata": {},
   "source": [
    "#### Courbe ROC"
   ]
  },
  {
   "cell_type": "code",
   "execution_count": null,
   "metadata": {},
   "outputs": [],
   "source": [
    "results['Gradient Boosting'] = y_train_pred_proba_gb\n",
    "plot_roc_curve(results, y_train)"
   ]
  },
  {
   "cell_type": "markdown",
   "metadata": {},
   "source": [
    "### 6 - Forêts aléatoires"
   ]
  },
  {
   "cell_type": "code",
   "execution_count": null,
   "metadata": {},
   "outputs": [],
   "source": [
    "from sklearn.ensemble import RandomForestClassifier"
   ]
  },
  {
   "cell_type": "code",
   "execution_count": null,
   "metadata": {},
   "outputs": [],
   "source": [
    "# Distributions des paramètres\n",
    "distributions = dict(\n",
    "    n_estimators=randint(2, 100),\n",
    "    max_depth=randint(2, 100),\n",
    "    max_features=['sqrt', 'log2', None],\n",
    "    ccp_alpha=loguniform(1e-6, 10)\n",
    ")\n",
    "\n",
    "# Forêts aléatoires\n",
    "clf_rf = RandomForestClassifier(random_state=2023)\n",
    "\n",
    "\n",
    "# Recherche aléatoire avec validation croisée\n",
    "clf_rf_rnd = RandomizedSearchCV(clf_rf, distributions, n_iter=100, cv=5, scoring=\"neg_log_loss\", verbose=1, n_jobs=-1, random_state=2023, refit=True)\n",
    "\n",
    "# Entraînement\n",
    "clf_rf_rnd.fit(X_train_scaled, y_train)"
   ]
  },
  {
   "cell_type": "code",
   "execution_count": null,
   "metadata": {},
   "outputs": [],
   "source": [
    "clf_rf_final = clf_rf_rnd.best_estimator_\n",
    "clf_rf_final"
   ]
  },
  {
   "cell_type": "code",
   "execution_count": null,
   "metadata": {},
   "outputs": [],
   "source": [
    "print(f'Meilleurs paramètres: {clf_rf_rnd.best_params_}')\n",
    "print(f'Meilleur score (mean log loss CV): {-clf_rf_rnd.best_score_}')"
   ]
  },
  {
   "cell_type": "markdown",
   "metadata": {},
   "source": [
    "#### Aire sous la courbe"
   ]
  },
  {
   "cell_type": "code",
   "execution_count": null,
   "metadata": {},
   "outputs": [],
   "source": [
    "y_train_pred_proba_rf = clf_rf_final.predict_proba(X_train_scaled)[:,1]\n",
    "print(f'AUC = {roc_auc_score(y_train, y_train_pred_proba_rf)}')"
   ]
  },
  {
   "cell_type": "markdown",
   "metadata": {},
   "source": [
    "| Modèle | Log loss | AUC (refit)\n",
    "| ------ | ------ | ------\n",
    "| Régression logisitique | 0.3345   | 0.8174  \n",
    "| KNN | 0.3532 | 0.8166\n",
    "| Arbres | 0.3780 | 0.7573\n",
    "| Bagging (arbres) | 0.3452 | 0.8423\n",
    "| Gradient boosting | 0.3452 | 0.8221\n",
    "| Forêts aléatoires | 0.3451 | 0.9796"
   ]
  },
  {
   "cell_type": "markdown",
   "metadata": {},
   "source": [
    "#### Courbe ROC"
   ]
  },
  {
   "cell_type": "code",
   "execution_count": null,
   "metadata": {},
   "outputs": [],
   "source": [
    "results['Random Forests'] = y_train_pred_proba_rf\n",
    "plot_roc_curve(results, y_train)"
   ]
  },
  {
   "cell_type": "markdown",
   "metadata": {},
   "source": [
    "### 7 - Ajout de l'ACP"
   ]
  },
  {
   "cell_type": "markdown",
   "metadata": {},
   "source": [
    "#### On récupère les colonnes discrètes"
   ]
  },
  {
   "cell_type": "code",
   "execution_count": null,
   "metadata": {},
   "outputs": [],
   "source": [
    "X_prime = chansons[['annee', 'titre', 'artiste']]\n",
    "X_prime_ind = pd.get_dummies(X_prime, columns=['titre', 'artiste'], drop_first=True)"
   ]
  },
  {
   "cell_type": "code",
   "execution_count": null,
   "metadata": {},
   "outputs": [],
   "source": [
    "X_prime_ind.shape"
   ]
  },
  {
   "cell_type": "code",
   "execution_count": null,
   "metadata": {},
   "outputs": [],
   "source": [
    "import numpy as np\n",
    "from sklearn.decomposition import PCA\n",
    "\n",
    "# ACP\n",
    "pca = PCA(n_components=10)\n",
    "\n",
    "# Entraînement\n",
    "pca.fit(X_prime_ind)"
   ]
  },
  {
   "cell_type": "code",
   "execution_count": null,
   "metadata": {},
   "outputs": [],
   "source": [
    "print(pca.explained_variance_ratio_)"
   ]
  },
  {
   "cell_type": "code",
   "execution_count": null,
   "metadata": {},
   "outputs": [],
   "source": [
    "X_prime_all = np.c_[\n",
    "    X_train_scaled,\n",
    "    pca.transform(X_prime_ind)[train_index,:]\n",
    "]"
   ]
  },
  {
   "cell_type": "code",
   "execution_count": null,
   "metadata": {},
   "outputs": [],
   "source": [
    "X_prime_all.shape"
   ]
  },
  {
   "cell_type": "code",
   "execution_count": null,
   "metadata": {},
   "outputs": [],
   "source": [
    "# Distributions des paramètres\n",
    "distributions = dict(\n",
    "    n_estimators=randint(2, 100),\n",
    "    max_depth=randint(2, 100),\n",
    "    max_features=['sqrt', 'log2', None],\n",
    "    ccp_alpha=loguniform(1e-6, 10)\n",
    ")\n",
    "\n",
    "# Forêts aléatoires\n",
    "clf_rf_acp = RandomForestClassifier(random_state=2023)\n",
    "\n",
    "\n",
    "# Recherche aléatoire avec validation croisée\n",
    "clf_rf_acp_rnd = RandomizedSearchCV(clf_rf_acp, distributions, n_iter=100, cv=5, scoring=\"neg_log_loss\", verbose=1, n_jobs=-1, random_state=2023, refit=True)\n",
    "\n",
    "# Entraînement\n",
    "clf_rf_acp_rnd.fit(X_prime_all, y_train)"
   ]
  },
  {
   "cell_type": "code",
   "execution_count": null,
   "metadata": {},
   "outputs": [],
   "source": [
    "clf_rf_acp_final = clf_rf_acp_rnd.best_estimator_\n",
    "clf_rf_acp_final"
   ]
  },
  {
   "cell_type": "code",
   "execution_count": null,
   "metadata": {},
   "outputs": [],
   "source": [
    "print(f'Meilleurs paramètres: {clf_rf_acp_rnd.best_params_}')\n",
    "print(f'Meilleur score (mean log loss CV): {-clf_rf_acp_rnd.best_score_}')"
   ]
  },
  {
   "cell_type": "code",
   "execution_count": null,
   "metadata": {},
   "outputs": [],
   "source": [
    "y_train_pred_proba_rf_acp = clf_rf_acp_final.predict_proba(X_prime_all)[:,1]\n",
    "print(f'AUC = {roc_auc_score(y_train, y_train_pred_proba_rf_acp)}')"
   ]
  },
  {
   "cell_type": "markdown",
   "metadata": {},
   "source": [
    "| Modèle | Log loss | AUC (refit)\n",
    "| ------ | ------ | ------\n",
    "| Régression logisitique | 0.3345   | 0.8174  \n",
    "| KNN | 0.3532 | 0.8166\n",
    "| Arbres | 0.3780 | 0.7573\n",
    "| Bagging (arbres) | 0.3452 | 0.8423\n",
    "| Gradient boosting | 0.3452 | 0.8221\n",
    "| Forêts aléatoires | 0.3451 | 0.9796\n",
    "| Forêts aléatoire + ACP | 0.3067 | 0.9999"
   ]
  },
  {
   "cell_type": "code",
   "execution_count": null,
   "metadata": {},
   "outputs": [],
   "source": [
    "results['Random Forests + ACP'] = y_train_pred_proba_rf_acp\n",
    "plot_roc_curve(results, y_train)"
   ]
  },
  {
   "cell_type": "markdown",
   "metadata": {},
   "source": [
    "## C - Sélection du modèle et performances sur le jeu de test"
   ]
  },
  {
   "cell_type": "markdown",
   "metadata": {},
   "source": [
    "| Modèle | Log loss | AUC (refit)\n",
    "| ------ | ------ | ------\n",
    "| Régression logisitique | 0.3345   | 0.8174  \n",
    "| KNN | 0.3532 | 0.8166\n",
    "| Arbres | 0.3780 | 0.7573\n",
    "| Bagging (arbres) | 0.3452 | 0.8423\n",
    "| Gradient boosting | 0.3452 | 0.8221\n",
    "| Forêts aléatoires | 0.3451 | 0.9796\n",
    "| <span style=\"color: red\">Forêts aléatoire + ACP</span> | <span style=\"color: red\">0.3067</span> | <span style=\"color: red\">0.9999</span>"
   ]
  },
  {
   "cell_type": "code",
   "execution_count": null,
   "metadata": {},
   "outputs": [],
   "source": [
    "X_prime_test = np.c_[\n",
    "    scaler.transform(X_test),\n",
    "    pca.transform(X_prime_ind)[test_index,:]\n",
    "]"
   ]
  },
  {
   "cell_type": "code",
   "execution_count": null,
   "metadata": {},
   "outputs": [],
   "source": [
    "X_prime_test.shape"
   ]
  },
  {
   "cell_type": "markdown",
   "metadata": {},
   "source": [
    "#### Aire sous la courbe"
   ]
  },
  {
   "cell_type": "code",
   "execution_count": null,
   "metadata": {},
   "outputs": [],
   "source": [
    "y_test_pred_proba_best = clf_rf_acp_final.predict_proba(X_prime_test)[:,1]\n",
    "print(f'AUC = {roc_auc_score(y_test, y_test_pred_proba_best)}')"
   ]
  },
  {
   "cell_type": "markdown",
   "metadata": {},
   "source": [
    "#### Courbe ROC"
   ]
  },
  {
   "cell_type": "code",
   "execution_count": null,
   "metadata": {},
   "outputs": [],
   "source": [
    "results_test = {}\n",
    "results_test['BEST'] = y_test_pred_proba_best\n",
    "plot_roc_curve(results_test, y_test)"
   ]
  },
  {
   "cell_type": "markdown",
   "metadata": {},
   "source": [
    "## Fin"
   ]
  },
  {
   "cell_type": "code",
   "execution_count": null,
   "metadata": {},
   "outputs": [],
   "source": []
  }
 ],
 "metadata": {
  "kernelspec": {
   "display_name": "Python 3 (ipykernel)",
   "language": "python",
   "name": "python3"
  },
  "language_info": {
   "codemirror_mode": {
    "name": "ipython",
    "version": 3
   },
   "file_extension": ".py",
   "mimetype": "text/x-python",
   "name": "python",
   "nbconvert_exporter": "python",
   "pygments_lexer": "ipython3",
   "version": "3.10.9"
  }
 },
 "nbformat": 4,
 "nbformat_minor": 4
}
