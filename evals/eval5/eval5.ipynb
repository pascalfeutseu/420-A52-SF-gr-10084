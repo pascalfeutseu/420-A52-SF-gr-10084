{
 "cells": [
  {
   "cell_type": "markdown",
   "id": "625529fb",
   "metadata": {},
   "source": [
    "# Evaluation formative #5\n",
    "---"
   ]
  },
  {
   "cell_type": "markdown",
   "id": "53c3a00b",
   "metadata": {},
   "source": [
    "* Rendre ce notebook complété sur Lea\n",
    "* Durée: 45 minutes\n",
    "* Barème: 10 points"
   ]
  },
  {
   "cell_type": "code",
   "execution_count": 2,
   "id": "0803df0b",
   "metadata": {},
   "outputs": [],
   "source": [
    "%reload_ext autoreload\n",
    "%autoreload 2\n",
    "%matplotlib inline"
   ]
  },
  {
   "cell_type": "markdown",
   "id": "00378461",
   "metadata": {},
   "source": [
    "### Jeu de données"
   ]
  },
  {
   "cell_type": "markdown",
   "id": "2af639bc",
   "metadata": {},
   "source": [
    "Nous utiliserons ici un jeu de données d'exemple disponible dans scikit-learn: **diabetes** ([sklearn.datasets.load_diabetes](https://scikit-learn.org/stable/modules/generated/sklearn.datasets.load_diabetes.html))"
   ]
  },
  {
   "cell_type": "code",
   "execution_count": 3,
   "id": "3fc82fa0",
   "metadata": {},
   "outputs": [],
   "source": [
    "from sklearn.datasets import load_diabetes\n",
    "\n",
    "X_train, y_train = load_diabetes(return_X_y=True)"
   ]
  },
  {
   "cell_type": "code",
   "execution_count": 12,
   "id": "3cb17c46",
   "metadata": {},
   "outputs": [
    {
     "data": {
      "text/plain": [
       "array([151.,  75., 141., 206., 135.,  97., 138.,  63., 110., 310., 101.,\n",
       "        69., 179., 185., 118., 171., 166., 144.,  97., 168.,  68.,  49.,\n",
       "        68., 245., 184., 202., 137.,  85., 131., 283., 129.,  59., 341.,\n",
       "        87.,  65., 102., 265., 276., 252.,  90., 100.,  55.,  61.,  92.,\n",
       "       259.,  53., 190., 142.,  75., 142., 155., 225.,  59., 104., 182.,\n",
       "       128.,  52.,  37., 170., 170.,  61., 144.,  52., 128.,  71., 163.,\n",
       "       150.,  97., 160., 178.,  48., 270., 202., 111.,  85.,  42., 170.,\n",
       "       200., 252., 113., 143.,  51.,  52., 210.,  65., 141.,  55., 134.,\n",
       "        42., 111.,  98., 164.,  48.,  96.,  90., 162., 150., 279.,  92.,\n",
       "        83., 128., 102., 302., 198.,  95.,  53., 134., 144., 232.,  81.,\n",
       "       104.,  59., 246., 297., 258., 229., 275., 281., 179., 200., 200.,\n",
       "       173., 180.,  84., 121., 161.,  99., 109., 115., 268., 274., 158.,\n",
       "       107.,  83., 103., 272.,  85., 280., 336., 281., 118., 317., 235.,\n",
       "        60., 174., 259., 178., 128.,  96., 126., 288.,  88., 292.,  71.,\n",
       "       197., 186.,  25.,  84.,  96., 195.,  53., 217., 172., 131., 214.,\n",
       "        59.,  70., 220., 268., 152.,  47.,  74., 295., 101., 151., 127.,\n",
       "       237., 225.,  81., 151., 107.,  64., 138., 185., 265., 101., 137.,\n",
       "       143., 141.,  79., 292., 178.,  91., 116.,  86., 122.,  72., 129.,\n",
       "       142.,  90., 158.,  39., 196., 222., 277.,  99., 196., 202., 155.,\n",
       "        77., 191.,  70.,  73.,  49.,  65., 263., 248., 296., 214., 185.,\n",
       "        78.,  93., 252., 150.,  77., 208.,  77., 108., 160.,  53., 220.,\n",
       "       154., 259.,  90., 246., 124.,  67.,  72., 257., 262., 275., 177.,\n",
       "        71.,  47., 187., 125.,  78.,  51., 258., 215., 303., 243.,  91.,\n",
       "       150., 310., 153., 346.,  63.,  89.,  50.,  39., 103., 308., 116.,\n",
       "       145.,  74.,  45., 115., 264.,  87., 202., 127., 182., 241.,  66.,\n",
       "        94., 283.,  64., 102., 200., 265.,  94., 230., 181., 156., 233.,\n",
       "        60., 219.,  80.,  68., 332., 248.,  84., 200.,  55.,  85.,  89.,\n",
       "        31., 129.,  83., 275.,  65., 198., 236., 253., 124.,  44., 172.,\n",
       "       114., 142., 109., 180., 144., 163., 147.,  97., 220., 190., 109.,\n",
       "       191., 122., 230., 242., 248., 249., 192., 131., 237.,  78., 135.,\n",
       "       244., 199., 270., 164.,  72.,  96., 306.,  91., 214.,  95., 216.,\n",
       "       263., 178., 113., 200., 139., 139.,  88., 148.,  88., 243.,  71.,\n",
       "        77., 109., 272.,  60.,  54., 221.,  90., 311., 281., 182., 321.,\n",
       "        58., 262., 206., 233., 242., 123., 167.,  63., 197.,  71., 168.,\n",
       "       140., 217., 121., 235., 245.,  40.,  52., 104., 132.,  88.,  69.,\n",
       "       219.,  72., 201., 110.,  51., 277.,  63., 118.,  69., 273., 258.,\n",
       "        43., 198., 242., 232., 175.,  93., 168., 275., 293., 281.,  72.,\n",
       "       140., 189., 181., 209., 136., 261., 113., 131., 174., 257.,  55.,\n",
       "        84.,  42., 146., 212., 233.,  91., 111., 152., 120.,  67., 310.,\n",
       "        94., 183.,  66., 173.,  72.,  49.,  64.,  48., 178., 104., 132.,\n",
       "       220.,  57.])"
      ]
     },
     "execution_count": 12,
     "metadata": {},
     "output_type": "execute_result"
    },
    {
     "name": "stdout",
     "output_type": "stream",
     "text": [
      "[CV] END ccp_alpha=0.004157080927457807, criterion=poisson, max_depth=124, n_estimators=157; total time=   0.4s\n",
      "[CV] END ccp_alpha=0.004157080927457807, criterion=poisson, max_depth=124, n_estimators=157; total time=   0.4s\n",
      "[CV] END ccp_alpha=0.004157080927457807, criterion=poisson, max_depth=124, n_estimators=157; total time=   0.4s\n",
      "[CV] END ccp_alpha=0.004157080927457807, criterion=poisson, max_depth=124, n_estimators=157; total time=   0.4s\n",
      "[CV] END ccp_alpha=0.004157080927457807, criterion=poisson, max_depth=124, n_estimators=157; total time=   0.5s\n",
      "[CV] END ccp_alpha=39.77848675958258, criterion=squared_error, max_depth=173, n_estimators=178; total time=   0.4s\n",
      "[CV] END ccp_alpha=39.77848675958258, criterion=squared_error, max_depth=173, n_estimators=178; total time=   0.5s\n",
      "[CV] END ccp_alpha=39.77848675958258, criterion=squared_error, max_depth=173, n_estimators=178; total time=   0.4s\n",
      "[CV] END ccp_alpha=39.77848675958258, criterion=squared_error, max_depth=173, n_estimators=178; total time=   0.5s\n",
      "[CV] END ccp_alpha=39.77848675958258, criterion=squared_error, max_depth=173, n_estimators=178; total time=   0.5s\n",
      "[CV] END ccp_alpha=51.12118186553877, criterion=poisson, max_depth=145, n_estimators=631; total time=   1.9s\n",
      "[CV] END ccp_alpha=51.12118186553877, criterion=poisson, max_depth=145, n_estimators=631; total time=   1.9s\n",
      "[CV] END ccp_alpha=51.12118186553877, criterion=poisson, max_depth=145, n_estimators=631; total time=   2.0s\n",
      "[CV] END ccp_alpha=51.12118186553877, criterion=poisson, max_depth=145, n_estimators=631; total time=   2.0s\n",
      "[CV] END ccp_alpha=51.12118186553877, criterion=poisson, max_depth=145, n_estimators=631; total time=   2.0s\n",
      "[CV] END ccp_alpha=0.1837623320531859, criterion=absolute_error, max_depth=18, n_estimators=740; total time=   5.7s\n",
      "[CV] END ccp_alpha=0.1837623320531859, criterion=absolute_error, max_depth=18, n_estimators=740; total time=   5.8s\n",
      "[CV] END ccp_alpha=0.1837623320531859, criterion=absolute_error, max_depth=18, n_estimators=740; total time=   5.9s\n",
      "[CV] END ccp_alpha=0.1837623320531859, criterion=absolute_error, max_depth=18, n_estimators=740; total time=   6.3s\n",
      "[CV] END ccp_alpha=0.1837623320531859, criterion=absolute_error, max_depth=18, n_estimators=740; total time=   6.3s\n"
     ]
    }
   ],
   "source": [
    "y_train"
   ]
  },
  {
   "cell_type": "markdown",
   "id": "df500a23",
   "metadata": {},
   "source": [
    "### Exercice à réaliser"
   ]
  },
  {
   "cell_type": "markdown",
   "id": "0b2efe60",
   "metadata": {},
   "source": [
    "**Modélisation de la glycémie**\n",
    "* Mettre en oeuvre une **régression** basée sur la technique des **forêts aléatoires**. Vous devrez **rechercher** les meilleurs **hyperparamètres** par méthode automatique.\n",
    "* Contrainte de temps oblige, il ne sera pas nécéssaire ni d'utliser un jeu de test, ni de préparer les données, ni de prendre un modèle de référence.\n",
    "\n",
    "**Critères d'évaluation**\n",
    "* Savoir mettre en oeuvre une régression basée sur les forêts aléatoires (2.5 points)\n",
    "* Choisir la métrique de performance adéquate (2.5 points)\n",
    "* Mettre en oeuvre une méthode de recherche des meilleurs hyperparamètres (2.5 points)\n",
    "* Utiliser adéquatement la technique de validation croisée (2.5 points)\n",
    "* La performance obtenue n'est pas un critère. Seule la démarche et la bonne utilisation des techniques vues en cours compte ;-)\n",
    "\n",
    "**Pénalités**\n",
    "* Code non fonctionnel: -2 points\n",
    "* Remise en retard: 1 point par minute "
   ]
  },
  {
   "cell_type": "markdown",
   "id": "9dfd131e",
   "metadata": {},
   "source": [
    "* [https://scikit-learn.org/stable/modules/generated/sklearn.ensemble.RandomForestRegressor.html#sklearn.ensemble.RandomForestRegressor]()\n",
    "* [https://scikit-learn.org/stable/modules/generated/sklearn.model_selection.RandomizedSearchCV.html](sklearn.model_selection.RandomizedSearchCV)"
   ]
  },
  {
   "cell_type": "code",
   "execution_count": 9,
   "id": "69a88ad9",
   "metadata": {},
   "outputs": [
    {
     "name": "stdout",
     "output_type": "stream",
     "text": [
      "Fitting 5 folds for each of 2 candidates, totalling 10 fits\n",
      "RandomForestRegressor(ccp_alpha=0.1837623320531859, criterion='absolute_error',\n",
      "                      max_depth=18, n_estimators=740, random_state=2023)\n",
      "Meilleur score (mean CV): 57.6142594423697\n"
     ]
    }
   ],
   "source": [
    "from sklearn.ensemble import RandomForestRegressor\n",
    "from scipy.stats import randint\n",
    "from sklearn.utils.fixes import loguniform\n",
    "from sklearn.model_selection import RandomizedSearchCV\n",
    "\n",
    "# distributions\n",
    "distributions = dict(\n",
    "    n_estimators = randint(1, 750),\n",
    "    criterion = ['squared_error', 'absolute_error', 'friedman_mse', 'poisson'],\n",
    "    ccp_alpha = loguniform(1e-3, 1e3),\n",
    "    max_depth = randint(2, 200)\n",
    ")\n",
    "\n",
    "# Régression (Forêts aléatoires)\n",
    "reg_rf = RandomForestRegressor(random_state=2023)\n",
    "\n",
    "# RandomizedSearchCV. Commencer avec n_iter petit\n",
    "reg_rf = RandomizedSearchCV(reg_rf,\n",
    "                                  distributions,\n",
    "                                  n_iter=1000,\n",
    "                                  cv=5,\n",
    "                                  scoring=\"neg_root_mean_squared_error\",\n",
    "                                  verbose=2,\n",
    "                                  n_jobs=-1)\n",
    "\n",
    "reg_rf.fit(X_train, y_train)\n",
    "\n",
    "# Mesurer les perf (choix métrique) RMSE\n",
    "\n",
    "print(reg_rf.best_estimator_)\n",
    "print(f'Meilleur score (mean CV): {-reg_rf.best_score_}')"
   ]
  },
  {
   "cell_type": "code",
   "execution_count": 11,
   "id": "041e633e",
   "metadata": {},
   "outputs": [
    {
     "data": {
      "text/plain": [
       "{'ccp_alpha': 0.1837623320531859,\n",
       " 'criterion': 'absolute_error',\n",
       " 'max_depth': 18,\n",
       " 'n_estimators': 740}"
      ]
     },
     "execution_count": 11,
     "metadata": {},
     "output_type": "execute_result"
    }
   ],
   "source": [
    "reg_rf.best_params_"
   ]
  },
  {
   "cell_type": "code",
   "execution_count": null,
   "id": "f8e01e51",
   "metadata": {},
   "outputs": [],
   "source": [
    "reg_rf.best_estimator_.predict(X_test)"
   ]
  }
 ],
 "metadata": {
  "kernelspec": {
   "display_name": "Python 3 (ipykernel)",
   "language": "python",
   "name": "python3"
  },
  "language_info": {
   "codemirror_mode": {
    "name": "ipython",
    "version": 3
   },
   "file_extension": ".py",
   "mimetype": "text/x-python",
   "name": "python",
   "nbconvert_exporter": "python",
   "pygments_lexer": "ipython3",
   "version": "3.10.9"
  }
 },
 "nbformat": 4,
 "nbformat_minor": 5
}
