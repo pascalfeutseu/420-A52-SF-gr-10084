{
 "cells": [
  {
   "cell_type": "markdown",
   "id": "625529fb",
   "metadata": {},
   "source": [
    "# Evaluation formative #5\n",
    "---"
   ]
  },
  {
   "cell_type": "markdown",
   "id": "53c3a00b",
   "metadata": {},
   "source": [
    "* Rendre ce notebook complété sur Lea\n",
    "* Durée: 45 minutes\n",
    "* Barème: 10 points"
   ]
  },
  {
   "cell_type": "code",
   "execution_count": 1,
   "id": "0803df0b",
   "metadata": {},
   "outputs": [],
   "source": [
    "%reload_ext autoreload\n",
    "%autoreload 2\n",
    "%matplotlib inline"
   ]
  },
  {
   "cell_type": "markdown",
   "id": "00378461",
   "metadata": {},
   "source": [
    "### Jeu de données"
   ]
  },
  {
   "cell_type": "markdown",
   "id": "2af639bc",
   "metadata": {},
   "source": [
    "Nous utiliserons ici un jeu de données d'exemple disponible dans scikit-learn: **diabetes** ([sklearn.datasets.load_diabetes](https://scikit-learn.org/stable/modules/generated/sklearn.datasets.load_diabetes.html))"
   ]
  },
  {
   "cell_type": "code",
   "execution_count": 2,
   "id": "3fc82fa0",
   "metadata": {},
   "outputs": [],
   "source": [
    "from sklearn.datasets import load_diabetes\n",
    "\n",
    "X_train, y_train = load_diabetes(return_X_y=True)"
   ]
  },
  {
   "cell_type": "markdown",
   "id": "df500a23",
   "metadata": {},
   "source": [
    "### Exercice à réaliser"
   ]
  },
  {
   "cell_type": "markdown",
   "id": "0b2efe60",
   "metadata": {},
   "source": [
    "**Modélisation de la glycémie**\n",
    "* Mettre en oeuvre une **régression** basée sur la technique des **forêts aléatoires**. Vous devrez **rechercher** les meilleurs **hyperparamètres** par méthode automatique.\n",
    "* Contrainte de temps oblige, il ne sera pas nécéssaire ni d'utliser un jeu de test, ni de préparer les données, ni de prendre un modèle de référence.\n",
    "\n",
    "**Critères d'évaluation**\n",
    "* Savoir mettre en oeuvre une régression basée sur les forêts aléatoires (2.5 points)\n",
    "* Choisir la métrique de performance adéquate (2.5 points)\n",
    "* Mettre en oeuvre une méthode de recherche des meilleurs hyperparamètres (2.5 points)\n",
    "* Utliser adéquatement la technique de validation croisée (2.5 points)"
   ]
  },
  {
   "cell_type": "code",
   "execution_count": 3,
   "id": "69a88ad9",
   "metadata": {},
   "outputs": [],
   "source": [
    "# À vous de jouer !"
   ]
  },
  {
   "cell_type": "code",
   "execution_count": null,
   "id": "041e633e",
   "metadata": {},
   "outputs": [],
   "source": []
  },
  {
   "cell_type": "code",
   "execution_count": 4,
   "id": "cb3d94ca",
   "metadata": {},
   "outputs": [],
   "source": [
    "from sklearn.utils.fixes import loguniform\n",
    "from scipy.stats import randint\n",
    "from sklearn.model_selection import RandomizedSearchCV\n",
    "from sklearn.ensemble import RandomForestRegressor"
   ]
  },
  {
   "cell_type": "markdown",
   "id": "05cc852e",
   "metadata": {},
   "source": [
    "* [https://scikit-learn.org/stable/modules/generated/sklearn.ensemble.RandomForestRegressor.html#sklearn.ensemble.RandomForestRegressor]()\n",
    "* [https://scikit-learn.org/stable/modules/generated/sklearn.model_selection.RandomizedSearchCV.html](sklearn.model_selection.RandomizedSearchCV)"
   ]
  },
  {
   "cell_type": "code",
   "execution_count": 34,
   "id": "a77ee28d",
   "metadata": {},
   "outputs": [
    {
     "name": "stdout",
     "output_type": "stream",
     "text": [
      "Fitting 5 folds for each of 1 candidates, totalling 5 fits\n"
     ]
    }
   ],
   "source": [
    "# Distributions des paramètres\n",
    "distributions = dict(\n",
    "    n_estimators=randint(1, 750),\n",
    "    criterion=['squared_error', 'absolute_error', 'friedman_mse', 'poisson'],\n",
    "    ccp_alpha=loguniform(1e-3, 1e3),\n",
    "    max_depth=randint(2, 200))\n",
    "\n",
    "# Estimateur\n",
    "reg_tree = RandomForestRegressor(random_state=2023)\n",
    "    \n",
    "# Recherche aléatoire avec avec validation croisée\n",
    "reg_tree_rnd = RandomizedSearchCV(reg_tree,\n",
    "                                  distributions,\n",
    "                                  n_iter=1,\n",
    "                                  cv=5,\n",
    "                                  scoring=\"neg_root_mean_squared_error\",\n",
    "                                  verbose=2,\n",
    "                                  n_jobs=-1).fit(X_train, y_train)"
   ]
  },
  {
   "cell_type": "code",
   "execution_count": 35,
   "id": "e40a50f8",
   "metadata": {},
   "outputs": [
    {
     "name": "stdout",
     "output_type": "stream",
     "text": [
      "RandomForestRegressor(ccp_alpha=0.598377106075114, max_depth=181,\n",
      "                      n_estimators=667, random_state=2023)\n",
      "Meilleur score (mean CV): 57.98908856833923\n"
     ]
    }
   ],
   "source": [
    "print(reg_tree_rnd.best_estimator_)\n",
    "print(f'Meilleur score (mean CV): {-reg_tree_rnd.best_score_}')"
   ]
  },
  {
   "cell_type": "code",
   "execution_count": null,
   "id": "68f9754d",
   "metadata": {},
   "outputs": [],
   "source": []
  },
  {
   "cell_type": "code",
   "execution_count": null,
   "id": "0e4ab9a1",
   "metadata": {},
   "outputs": [],
   "source": []
  }
 ],
 "metadata": {
  "kernelspec": {
   "display_name": "Python 3 (ipykernel)",
   "language": "python",
   "name": "python3"
  },
  "language_info": {
   "codemirror_mode": {
    "name": "ipython",
    "version": 3
   },
   "file_extension": ".py",
   "mimetype": "text/x-python",
   "name": "python",
   "nbconvert_exporter": "python",
   "pygments_lexer": "ipython3",
   "version": "3.10.9"
  }
 },
 "nbformat": 4,
 "nbformat_minor": 5
}
